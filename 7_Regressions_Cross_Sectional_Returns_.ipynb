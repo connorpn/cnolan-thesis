{
  "nbformat": 4,
  "nbformat_minor": 0,
  "metadata": {
    "colab": {
      "provenance": [],
      "authorship_tag": "ABX9TyMeUO3E6dw8HR1U1biNkpTy",
      "include_colab_link": true
    },
    "kernelspec": {
      "name": "python3",
      "display_name": "Python 3"
    },
    "language_info": {
      "name": "python"
    }
  },
  "cells": [
    {
      "cell_type": "markdown",
      "metadata": {
        "id": "view-in-github",
        "colab_type": "text"
      },
      "source": [
        "<a href=\"https://colab.research.google.com/github/connorpn/cnolan-thesis/blob/main/7_Regressions_Cross_Sectional_Returns_.ipynb\" target=\"_parent\"><img src=\"https://colab.research.google.com/assets/colab-badge.svg\" alt=\"Open In Colab\"/></a>"
      ]
    },
    {
      "cell_type": "code",
      "source": [
        "!pip install linearmodels"
      ],
      "metadata": {
        "colab": {
          "base_uri": "https://localhost:8080/"
        },
        "id": "t54vlRu3MP6r",
        "outputId": "fe70627d-801f-4103-f1f0-0a0ffe602a00"
      },
      "execution_count": 1,
      "outputs": [
        {
          "output_type": "stream",
          "name": "stdout",
          "text": [
            "Looking in indexes: https://pypi.org/simple, https://us-python.pkg.dev/colab-wheels/public/simple/\n",
            "Requirement already satisfied: linearmodels in /usr/local/lib/python3.7/dist-packages (4.25)\n",
            "Requirement already satisfied: formulaic in /usr/local/lib/python3.7/dist-packages (from linearmodels) (0.5.2)\n",
            "Requirement already satisfied: patsy in /usr/local/lib/python3.7/dist-packages (from linearmodels) (0.5.3)\n",
            "Requirement already satisfied: property-cached>=1.6.3 in /usr/local/lib/python3.7/dist-packages (from linearmodels) (1.6.4)\n",
            "Requirement already satisfied: pyhdfe>=0.1 in /usr/local/lib/python3.7/dist-packages (from linearmodels) (0.1.0)\n",
            "Requirement already satisfied: Cython>=0.29.21 in /usr/local/lib/python3.7/dist-packages (from linearmodels) (0.29.32)\n",
            "Requirement already satisfied: numpy>=1.16 in /usr/local/lib/python3.7/dist-packages (from linearmodels) (1.21.6)\n",
            "Requirement already satisfied: statsmodels>=0.11 in /usr/local/lib/python3.7/dist-packages (from linearmodels) (0.12.2)\n",
            "Requirement already satisfied: scipy>=1.2 in /usr/local/lib/python3.7/dist-packages (from linearmodels) (1.7.3)\n",
            "Requirement already satisfied: mypy-extensions>=0.4 in /usr/local/lib/python3.7/dist-packages (from linearmodels) (0.4.3)\n",
            "Requirement already satisfied: pandas>=0.24 in /usr/local/lib/python3.7/dist-packages (from linearmodels) (1.3.5)\n",
            "Requirement already satisfied: pytz>=2017.3 in /usr/local/lib/python3.7/dist-packages (from pandas>=0.24->linearmodels) (2022.4)\n",
            "Requirement already satisfied: python-dateutil>=2.7.3 in /usr/local/lib/python3.7/dist-packages (from pandas>=0.24->linearmodels) (2.8.2)\n",
            "Requirement already satisfied: six>=1.5 in /usr/local/lib/python3.7/dist-packages (from python-dateutil>=2.7.3->pandas>=0.24->linearmodels) (1.15.0)\n",
            "Requirement already satisfied: interface-meta>=1.2.0 in /usr/local/lib/python3.7/dist-packages (from formulaic->linearmodels) (1.3.0)\n",
            "Requirement already satisfied: cached-property>=1.3.0 in /usr/local/lib/python3.7/dist-packages (from formulaic->linearmodels) (1.5.2)\n",
            "Requirement already satisfied: graphlib-backport>=1.0.0 in /usr/local/lib/python3.7/dist-packages (from formulaic->linearmodels) (1.0.3)\n",
            "Requirement already satisfied: wrapt>=1.0 in /usr/local/lib/python3.7/dist-packages (from formulaic->linearmodels) (1.14.1)\n",
            "Requirement already satisfied: astor>=0.8 in /usr/local/lib/python3.7/dist-packages (from formulaic->linearmodels) (0.8.1)\n",
            "Requirement already satisfied: typing-extensions>=4.2.0 in /usr/local/lib/python3.7/dist-packages (from formulaic->linearmodels) (4.4.0)\n",
            "Looking in indexes: https://pypi.org/simple, https://us-python.pkg.dev/colab-wheels/public/simple/\n",
            "Requirement already satisfied: stargazer in /usr/local/lib/python3.7/dist-packages (0.0.5)\n"
          ]
        }
      ]
    },
    {
      "cell_type": "code",
      "execution_count": 63,
      "metadata": {
        "id": "8ARSbkPXJ3sZ"
      },
      "outputs": [],
      "source": [
        "import pandas as pd\n",
        "import numpy as np\n",
        "from linearmodels import PanelOLS\n",
        "from linearmodels.panel.results import compare\n",
        "\n",
        "#from google.colab import files\n",
        "\n"
      ]
    },
    {
      "cell_type": "code",
      "source": [
        "# Load the data\n",
        "data = pd.read_csv(r\"https://raw.githubusercontent.com/connorpn/cnolan-thesis/main/output/carbon_emissions_stock_returns_vars.csv\")\n",
        "tickers_industry = pd.read_csv(r\"https://raw.githubusercontent.com/connorpn/cnolan-thesis/main/data/ds_ticker_industry.csv\")"
      ],
      "metadata": {
        "id": "uH780c9LKzVR"
      },
      "execution_count": 75,
      "outputs": []
    },
    {
      "cell_type": "code",
      "source": [
        "data = pd.merge(data, tickers_industry, on=['ticker'], how='left')\n",
        "\n",
        "#data.to_csv('regression.csv') \n",
        "#files.download('regression.csv')"
      ],
      "metadata": {
        "id": "JktwRZ5NYGtN"
      },
      "execution_count": 76,
      "outputs": []
    },
    {
      "cell_type": "code",
      "source": [
        "data['year_month'] = pd.to_datetime(data['year'].astype(str) + data['month'].astype(str),format ='%Y%m')#.dt.to_period('M')\n",
        "#data['year_month'] = data['year'].astype(str) + data['month'].astype(str)\n",
        "#data['year_month'] = data['year_month'].astype(int)"
      ],
      "metadata": {
        "id": "_78T5a68Nj_H"
      },
      "execution_count": 77,
      "outputs": []
    },
    {
      "cell_type": "code",
      "source": [
        "# Set the index for fixed effects\n",
        "data = data.set_index(['industry', 'year_month'])\n",
        "\n",
        "\n",
        "control = ['logsize', 'bm', 'leverage', 'mom', 'investa', 'roe', 'logppe', 'beta', 'volat', 'salesgr', 'epsgr']"
      ],
      "metadata": {
        "id": "QXar_zKHK3nH"
      },
      "execution_count": 78,
      "outputs": []
    },
    {
      "cell_type": "code",
      "source": [
        "'''\n",
        "iv = ['log_scope1']\n",
        "exog = iv + control\n",
        "reg_vars = ['ret'] + exog + ['year','ticker']\n",
        "data_reg = data[reg_vars].dropna(how='any')\n",
        "est_1 = PanelOLS(data_reg.ret, data_reg[exog], entity_effects = False, time_effects=True).fit(cov_type = 'clustered', clusters=data_reg[['year','ticker']])\n",
        "'''"
      ],
      "metadata": {
        "colab": {
          "base_uri": "https://localhost:8080/",
          "height": 70
        },
        "id": "PU7YJmUKvETP",
        "outputId": "a05038d9-3e34-49e6-efdb-c9217d6b97e8"
      },
      "execution_count": 68,
      "outputs": [
        {
          "output_type": "execute_result",
          "data": {
            "text/plain": [
              "\"\\niv = ['log_scope1']\\nexog = iv + control\\nreg_vars = ['ret'] + exog + ['year','ticker']\\ndata_reg = data[reg_vars].dropna(how='any')\\nest_1 = PanelOLS(data_reg.ret, data_reg[exog], entity_effects = False, time_effects=True).fit(cov_type = 'clustered', clusters=data_reg[['year','ticker']])\\n\""
            ],
            "application/vnd.google.colaboratory.intrinsic+json": {
              "type": "string"
            }
          },
          "metadata": {},
          "execution_count": 68
        }
      ]
    },
    {
      "cell_type": "markdown",
      "source": [
        "# Regression log (emissions) WITHOUT industry FE (pooled regression with standard errors clustered at the firm and year level)"
      ],
      "metadata": {
        "id": "R_HDrgSZyiSu"
      }
    },
    {
      "cell_type": "code",
      "source": [
        "data_log = data[['ticker','year','ret','log_scope1', 'log_scope2', 'log_total_emissions', 'log_energy_consumption', 'logsize', 'bm', 'leverage', 'mom', 'investa', 'roe', 'logppe', 'beta', 'volat', 'salesgr', 'epsgr']].replace([np.inf, -np.inf], np.nan).dropna(axis=0)"
      ],
      "metadata": {
        "id": "41GC08fcB_fx"
      },
      "execution_count": 79,
      "outputs": []
    },
    {
      "cell_type": "code",
      "source": [
        "iv = ['log_scope1']\n",
        "exog = iv + control\n",
        "est_1 = PanelOLS(data_log.ret, data_log[exog], entity_effects = False, time_effects=True).fit(cov_type = 'clustered', clusters=data_log[['year','ticker']])"
      ],
      "metadata": {
        "id": "3Vf1bIiFK_yC"
      },
      "execution_count": 85,
      "outputs": []
    },
    {
      "cell_type": "code",
      "source": [
        "iv = ['log_scope2']\n",
        "exog = iv + control\n",
        "est_2 = PanelOLS(data_log.ret, data_log[exog], entity_effects = False, time_effects=True).fit(cov_type = 'clustered', clusters=data_log[['year','ticker']])"
      ],
      "metadata": {
        "id": "AeejAGbdyqcy"
      },
      "execution_count": 86,
      "outputs": []
    },
    {
      "cell_type": "code",
      "source": [
        "iv = ['log_total_emissions']\n",
        "exog = iv + control\n",
        "est_3 = PanelOLS(data_log.ret, data_log[exog], entity_effects = False, time_effects=True).fit(cov_type = 'clustered', clusters=data_log[['year','ticker']])"
      ],
      "metadata": {
        "id": "YKChEzxsyvre"
      },
      "execution_count": 87,
      "outputs": []
    },
    {
      "cell_type": "code",
      "source": [
        "iv = ['log_energy_consumption']\n",
        "exog = iv + control\n",
        "est_4 = PanelOLS(data_log.ret, data_log[exog], entity_effects = False, time_effects=True).fit(cov_type = 'clustered', clusters=data_log[['year','ticker']])"
      ],
      "metadata": {
        "id": "smTIlDYRyxvI"
      },
      "execution_count": 88,
      "outputs": []
    },
    {
      "cell_type": "markdown",
      "source": [
        "# Regression log (emissions) WITH industry FE (pooled regression with standard errors clustered at the firm and year level)"
      ],
      "metadata": {
        "id": "5XIKgMHMy43x"
      }
    },
    {
      "cell_type": "code",
      "source": [
        "iv = ['log_scope1']\n",
        "exog = iv + control\n",
        "est_5 = PanelOLS(data_log.ret, data_log[exog], entity_effects = True, time_effects=True).fit(cov_type = 'clustered', clusters=data_log[['year','ticker']])"
      ],
      "metadata": {
        "id": "7nn-AcztpL4w"
      },
      "execution_count": 89,
      "outputs": []
    },
    {
      "cell_type": "code",
      "source": [
        "iv = ['log_scope2']\n",
        "exog = iv + control\n",
        "est_6 = PanelOLS(data_log.ret, data_log[exog], entity_effects = True, time_effects=True).fit(cov_type = 'clustered', clusters=data_log[['year','ticker']])"
      ],
      "metadata": {
        "id": "4c99uiJLy_Zs"
      },
      "execution_count": 90,
      "outputs": []
    },
    {
      "cell_type": "code",
      "source": [
        "iv = ['log_total_emissions']\n",
        "exog = iv + control\n",
        "est_7 = PanelOLS(data_log.ret, data_log[exog], entity_effects = True, time_effects=True).fit(cov_type = 'clustered', clusters=data_log[['year','ticker']])"
      ],
      "metadata": {
        "id": "9zoLifLRzA_K"
      },
      "execution_count": 91,
      "outputs": []
    },
    {
      "cell_type": "code",
      "source": [
        "iv = ['log_energy_consumption']\n",
        "exog = iv + control\n",
        "est_8 = PanelOLS(data_log.ret, data_log[exog], entity_effects = True, time_effects=True).fit(cov_type = 'clustered', clusters=data_log[['year','ticker']])"
      ],
      "metadata": {
        "id": "yzDkGg5RzCLD"
      },
      "execution_count": 92,
      "outputs": []
    },
    {
      "cell_type": "markdown",
      "source": [
        "# Regression change (emissions) WITHOUT industry FE (pooled regression with standard errors clustered at the firm and year level)"
      ],
      "metadata": {
        "id": "bfZRPywJy4DJ"
      }
    },
    {
      "cell_type": "code",
      "source": [
        "data_change = data[['ticker','year','ret','change_scope1', 'change_scope2', 'change_total_emissions', 'change_energy_consumption', 'logsize', 'bm', 'leverage', 'mom', 'investa', 'roe', 'logppe', 'beta', 'volat', 'salesgr', 'epsgr']].replace([np.inf, -np.inf], np.nan).dropna(axis=0)"
      ],
      "metadata": {
        "id": "qqXEX5PXBRUD"
      },
      "execution_count": 93,
      "outputs": []
    },
    {
      "cell_type": "code",
      "source": [
        "iv = ['change_scope1']\n",
        "exog = iv + control\n",
        "est_9 = PanelOLS(data_change.ret, data_change[exog], entity_effects = False, time_effects=True).fit(cov_type = 'clustered', clusters=data_change[['year','ticker']])"
      ],
      "metadata": {
        "id": "zV7Seg8DpU7I"
      },
      "execution_count": 94,
      "outputs": []
    },
    {
      "cell_type": "code",
      "source": [
        "iv = ['change_scope2']\n",
        "exog = iv + control\n",
        "est_10 = PanelOLS(data_change.ret, data_change[exog], entity_effects = False, time_effects=True).fit(cov_type = 'clustered', clusters=data_change[['year','ticker']])"
      ],
      "metadata": {
        "id": "YMbySDYVzJ_y"
      },
      "execution_count": 95,
      "outputs": []
    },
    {
      "cell_type": "code",
      "source": [
        "iv = ['change_total_emissions']\n",
        "exog = iv + control\n",
        "est_11 = PanelOLS(data_change.ret, data_change[exog], entity_effects = False, time_effects=True).fit(cov_type = 'clustered', clusters=data_change[['year','ticker']])"
      ],
      "metadata": {
        "colab": {
          "base_uri": "https://localhost:8080/",
          "height": 380
        },
        "id": "d39cq5zdzMNO",
        "outputId": "a71baec1-a83e-4673-8022-7c9cf95bf364"
      },
      "execution_count": 96,
      "outputs": [
        {
          "output_type": "error",
          "ename": "ValueError",
          "evalue": "ignored",
          "traceback": [
            "\u001b[0;31m---------------------------------------------------------------------------\u001b[0m",
            "\u001b[0;31mValueError\u001b[0m                                Traceback (most recent call last)",
            "\u001b[0;32m<ipython-input-96-3aa4e9436792>\u001b[0m in \u001b[0;36m<module>\u001b[0;34m\u001b[0m\n\u001b[1;32m      1\u001b[0m \u001b[0miv\u001b[0m \u001b[0;34m=\u001b[0m \u001b[0;34m[\u001b[0m\u001b[0;34m'change_total_emissions'\u001b[0m\u001b[0;34m]\u001b[0m\u001b[0;34m\u001b[0m\u001b[0;34m\u001b[0m\u001b[0m\n\u001b[1;32m      2\u001b[0m \u001b[0mexog\u001b[0m \u001b[0;34m=\u001b[0m \u001b[0miv\u001b[0m \u001b[0;34m+\u001b[0m \u001b[0mcontrol\u001b[0m\u001b[0;34m\u001b[0m\u001b[0;34m\u001b[0m\u001b[0m\n\u001b[0;32m----> 3\u001b[0;31m \u001b[0mest_11\u001b[0m \u001b[0;34m=\u001b[0m \u001b[0mPanelOLS\u001b[0m\u001b[0;34m(\u001b[0m\u001b[0mdata_change\u001b[0m\u001b[0;34m.\u001b[0m\u001b[0mret\u001b[0m\u001b[0;34m,\u001b[0m \u001b[0mdata_change\u001b[0m\u001b[0;34m[\u001b[0m\u001b[0mexog\u001b[0m\u001b[0;34m]\u001b[0m\u001b[0;34m,\u001b[0m \u001b[0mentity_effects\u001b[0m \u001b[0;34m=\u001b[0m \u001b[0;32mFalse\u001b[0m\u001b[0;34m,\u001b[0m \u001b[0mtime_effects\u001b[0m\u001b[0;34m=\u001b[0m\u001b[0;32mTrue\u001b[0m\u001b[0;34m)\u001b[0m\u001b[0;34m.\u001b[0m\u001b[0mfit\u001b[0m\u001b[0;34m(\u001b[0m\u001b[0mcov_type\u001b[0m \u001b[0;34m=\u001b[0m \u001b[0;34m'clustered'\u001b[0m\u001b[0;34m,\u001b[0m \u001b[0mclusters\u001b[0m\u001b[0;34m=\u001b[0m\u001b[0mdata_change\u001b[0m\u001b[0;34m[\u001b[0m\u001b[0;34m[\u001b[0m\u001b[0;34m'year'\u001b[0m\u001b[0;34m,\u001b[0m\u001b[0;34m'ticker'\u001b[0m\u001b[0;34m]\u001b[0m\u001b[0;34m]\u001b[0m\u001b[0;34m)\u001b[0m\u001b[0;34m\u001b[0m\u001b[0;34m\u001b[0m\u001b[0m\n\u001b[0m",
            "\u001b[0;32m/usr/local/lib/python3.7/dist-packages/linearmodels/panel/model.py\u001b[0m in \u001b[0;36m__init__\u001b[0;34m(self, dependent, exog, weights, entity_effects, time_effects, other_effects, singletons, drop_absorbed, check_rank)\u001b[0m\n\u001b[1;32m   1177\u001b[0m         \u001b[0mcheck_rank\u001b[0m\u001b[0;34m:\u001b[0m \u001b[0mbool\u001b[0m \u001b[0;34m=\u001b[0m \u001b[0;32mTrue\u001b[0m\u001b[0;34m,\u001b[0m\u001b[0;34m\u001b[0m\u001b[0;34m\u001b[0m\u001b[0m\n\u001b[1;32m   1178\u001b[0m     ) -> None:\n\u001b[0;32m-> 1179\u001b[0;31m         \u001b[0msuper\u001b[0m\u001b[0;34m(\u001b[0m\u001b[0;34m)\u001b[0m\u001b[0;34m.\u001b[0m\u001b[0m__init__\u001b[0m\u001b[0;34m(\u001b[0m\u001b[0mdependent\u001b[0m\u001b[0;34m,\u001b[0m \u001b[0mexog\u001b[0m\u001b[0;34m,\u001b[0m \u001b[0mweights\u001b[0m\u001b[0;34m=\u001b[0m\u001b[0mweights\u001b[0m\u001b[0;34m,\u001b[0m \u001b[0mcheck_rank\u001b[0m\u001b[0;34m=\u001b[0m\u001b[0mcheck_rank\u001b[0m\u001b[0;34m)\u001b[0m\u001b[0;34m\u001b[0m\u001b[0;34m\u001b[0m\u001b[0m\n\u001b[0m\u001b[1;32m   1180\u001b[0m \u001b[0;34m\u001b[0m\u001b[0m\n\u001b[1;32m   1181\u001b[0m         \u001b[0mself\u001b[0m\u001b[0;34m.\u001b[0m\u001b[0m_entity_effects\u001b[0m \u001b[0;34m=\u001b[0m \u001b[0mentity_effects\u001b[0m\u001b[0;34m\u001b[0m\u001b[0;34m\u001b[0m\u001b[0m\n",
            "\u001b[0;32m/usr/local/lib/python3.7/dist-packages/linearmodels/panel/model.py\u001b[0m in \u001b[0;36m__init__\u001b[0;34m(self, dependent, exog, weights, check_rank)\u001b[0m\n\u001b[1;32m    303\u001b[0m         \u001b[0mself\u001b[0m\u001b[0;34m.\u001b[0m\u001b[0m_constant_index\u001b[0m\u001b[0;34m:\u001b[0m \u001b[0mOptional\u001b[0m\u001b[0;34m[\u001b[0m\u001b[0mint\u001b[0m\u001b[0;34m]\u001b[0m \u001b[0;34m=\u001b[0m \u001b[0;32mNone\u001b[0m\u001b[0;34m\u001b[0m\u001b[0;34m\u001b[0m\u001b[0m\n\u001b[1;32m    304\u001b[0m         \u001b[0mself\u001b[0m\u001b[0;34m.\u001b[0m\u001b[0m_check_rank\u001b[0m \u001b[0;34m=\u001b[0m \u001b[0mbool\u001b[0m\u001b[0;34m(\u001b[0m\u001b[0mcheck_rank\u001b[0m\u001b[0;34m)\u001b[0m\u001b[0;34m\u001b[0m\u001b[0;34m\u001b[0m\u001b[0m\n\u001b[0;32m--> 305\u001b[0;31m         \u001b[0mself\u001b[0m\u001b[0;34m.\u001b[0m\u001b[0m_validate_data\u001b[0m\u001b[0;34m(\u001b[0m\u001b[0;34m)\u001b[0m\u001b[0;34m\u001b[0m\u001b[0;34m\u001b[0m\u001b[0m\n\u001b[0m\u001b[1;32m    306\u001b[0m         \u001b[0mself\u001b[0m\u001b[0;34m.\u001b[0m\u001b[0m_singleton_index\u001b[0m\u001b[0;34m:\u001b[0m \u001b[0mOptional\u001b[0m\u001b[0;34m[\u001b[0m\u001b[0mBoolArray\u001b[0m\u001b[0;34m]\u001b[0m \u001b[0;34m=\u001b[0m \u001b[0;32mNone\u001b[0m\u001b[0;34m\u001b[0m\u001b[0;34m\u001b[0m\u001b[0m\n\u001b[1;32m    307\u001b[0m \u001b[0;34m\u001b[0m\u001b[0m\n",
            "\u001b[0;32m/usr/local/lib/python3.7/dist-packages/linearmodels/panel/model.py\u001b[0m in \u001b[0;36m_validate_data\u001b[0;34m(self)\u001b[0m\n\u001b[1;32m    452\u001b[0m         \u001b[0mw\u001b[0m \u001b[0;34m=\u001b[0m \u001b[0mw\u001b[0m \u001b[0;34m/\u001b[0m \u001b[0mw\u001b[0m\u001b[0;34m.\u001b[0m\u001b[0mmean\u001b[0m\u001b[0;34m(\u001b[0m\u001b[0;34m)\u001b[0m\u001b[0;34m\u001b[0m\u001b[0;34m\u001b[0m\u001b[0m\n\u001b[1;32m    453\u001b[0m         \u001b[0mself\u001b[0m\u001b[0;34m.\u001b[0m\u001b[0mweights\u001b[0m \u001b[0;34m=\u001b[0m \u001b[0mPanelData\u001b[0m\u001b[0;34m(\u001b[0m\u001b[0mw\u001b[0m\u001b[0;34m)\u001b[0m\u001b[0;34m\u001b[0m\u001b[0;34m\u001b[0m\u001b[0m\n\u001b[0;32m--> 454\u001b[0;31m         \u001b[0mrank_of_x\u001b[0m \u001b[0;34m=\u001b[0m \u001b[0mself\u001b[0m\u001b[0;34m.\u001b[0m\u001b[0m_check_exog_rank\u001b[0m\u001b[0;34m(\u001b[0m\u001b[0;34m)\u001b[0m\u001b[0;34m\u001b[0m\u001b[0;34m\u001b[0m\u001b[0m\n\u001b[0m\u001b[1;32m    455\u001b[0m         \u001b[0mself\u001b[0m\u001b[0;34m.\u001b[0m\u001b[0m_constant\u001b[0m\u001b[0;34m,\u001b[0m \u001b[0mself\u001b[0m\u001b[0;34m.\u001b[0m\u001b[0m_constant_index\u001b[0m \u001b[0;34m=\u001b[0m \u001b[0mhas_constant\u001b[0m\u001b[0;34m(\u001b[0m\u001b[0mx\u001b[0m\u001b[0;34m,\u001b[0m \u001b[0mrank_of_x\u001b[0m\u001b[0;34m)\u001b[0m\u001b[0;34m\u001b[0m\u001b[0;34m\u001b[0m\u001b[0m\n\u001b[1;32m    456\u001b[0m \u001b[0;34m\u001b[0m\u001b[0m\n",
            "\u001b[0;32m/usr/local/lib/python3.7/dist-packages/linearmodels/panel/model.py\u001b[0m in \u001b[0;36m_check_exog_rank\u001b[0;34m(self)\u001b[0m\n\u001b[1;32m    408\u001b[0m         \u001b[0;32mif\u001b[0m \u001b[0mrank_of_x\u001b[0m \u001b[0;34m<\u001b[0m \u001b[0mx\u001b[0m\u001b[0;34m.\u001b[0m\u001b[0mshape\u001b[0m\u001b[0;34m[\u001b[0m\u001b[0;36m1\u001b[0m\u001b[0;34m]\u001b[0m\u001b[0;34m:\u001b[0m\u001b[0;34m\u001b[0m\u001b[0;34m\u001b[0m\u001b[0m\n\u001b[1;32m    409\u001b[0m             raise ValueError(\n\u001b[0;32m--> 410\u001b[0;31m                 \u001b[0;34m\"exog does not have full column rank. If you wish to proceed with \"\u001b[0m\u001b[0;34m\u001b[0m\u001b[0;34m\u001b[0m\u001b[0m\n\u001b[0m\u001b[1;32m    411\u001b[0m                 \u001b[0;34m\"model estimation irrespective of the numerical accuracy of \"\u001b[0m\u001b[0;34m\u001b[0m\u001b[0;34m\u001b[0m\u001b[0m\n\u001b[1;32m    412\u001b[0m                 \u001b[0;34m\"coefficient estimates, you can set check_rank=False.\"\u001b[0m\u001b[0;34m\u001b[0m\u001b[0;34m\u001b[0m\u001b[0m\n",
            "\u001b[0;31mValueError\u001b[0m: exog does not have full column rank. If you wish to proceed with model estimation irrespective of the numerical accuracy of coefficient estimates, you can set check_rank=False."
          ]
        }
      ]
    },
    {
      "cell_type": "code",
      "source": [
        "iv = ['change_energy_consumption']\n",
        "exog = iv + control\n",
        "est_12 = PanelOLS(data_change.ret, data_change[exog], entity_effects = False, time_effects=True).fit(cov_type = 'clustered', clusters=data_change[['year','ticker']])"
      ],
      "metadata": {
        "id": "RtDAcq-UzNbA"
      },
      "execution_count": 97,
      "outputs": []
    },
    {
      "cell_type": "markdown",
      "source": [
        "# Regression change (emissions) WITH industry FE (pooled regression with standard errors clustered at the firm and year level)"
      ],
      "metadata": {
        "id": "RgqV-S2vzTk1"
      }
    },
    {
      "cell_type": "code",
      "source": [
        "iv = ['change_scope1']\n",
        "exog = iv + control\n",
        "est_13 = PanelOLS(data_change.ret, data_change[exog], entity_effects = True, time_effects=True).fit(cov_type = 'clustered', clusters=data_change[['year','ticker']])"
      ],
      "metadata": {
        "id": "vLS3OpQpp3Tm"
      },
      "execution_count": 98,
      "outputs": []
    },
    {
      "cell_type": "code",
      "source": [
        "iv = ['change_scope2']\n",
        "exog = iv + control\n",
        "est_14 = PanelOLS(data_change.ret, data_change[exog], entity_effects = True, time_effects=True).fit(cov_type = 'clustered', clusters=data_change[['year','ticker']])"
      ],
      "metadata": {
        "id": "1Zg7W6Ykzihn"
      },
      "execution_count": 99,
      "outputs": []
    },
    {
      "cell_type": "code",
      "source": [
        "iv = ['change_total_emissions']\n",
        "exog = iv + control\n",
        "est_15 = PanelOLS(data_change.ret, data_change[exog], entity_effects = True, time_effects=True).fit(cov_type = 'clustered', clusters=data_change[['year','ticker']])"
      ],
      "metadata": {
        "colab": {
          "base_uri": "https://localhost:8080/",
          "height": 380
        },
        "id": "A6Hp_n0mzjyp",
        "outputId": "cdc31609-633e-4a8d-b272-6ca4c8418dca"
      },
      "execution_count": 100,
      "outputs": [
        {
          "output_type": "error",
          "ename": "ValueError",
          "evalue": "ignored",
          "traceback": [
            "\u001b[0;31m---------------------------------------------------------------------------\u001b[0m",
            "\u001b[0;31mValueError\u001b[0m                                Traceback (most recent call last)",
            "\u001b[0;32m<ipython-input-100-92e2c1105f44>\u001b[0m in \u001b[0;36m<module>\u001b[0;34m\u001b[0m\n\u001b[1;32m      1\u001b[0m \u001b[0miv\u001b[0m \u001b[0;34m=\u001b[0m \u001b[0;34m[\u001b[0m\u001b[0;34m'change_total_emissions'\u001b[0m\u001b[0;34m]\u001b[0m\u001b[0;34m\u001b[0m\u001b[0;34m\u001b[0m\u001b[0m\n\u001b[1;32m      2\u001b[0m \u001b[0mexog\u001b[0m \u001b[0;34m=\u001b[0m \u001b[0miv\u001b[0m \u001b[0;34m+\u001b[0m \u001b[0mcontrol\u001b[0m\u001b[0;34m\u001b[0m\u001b[0;34m\u001b[0m\u001b[0m\n\u001b[0;32m----> 3\u001b[0;31m \u001b[0mest_15\u001b[0m \u001b[0;34m=\u001b[0m \u001b[0mPanelOLS\u001b[0m\u001b[0;34m(\u001b[0m\u001b[0mdata_change\u001b[0m\u001b[0;34m.\u001b[0m\u001b[0mret\u001b[0m\u001b[0;34m,\u001b[0m \u001b[0mdata_change\u001b[0m\u001b[0;34m[\u001b[0m\u001b[0mexog\u001b[0m\u001b[0;34m]\u001b[0m\u001b[0;34m,\u001b[0m \u001b[0mentity_effects\u001b[0m \u001b[0;34m=\u001b[0m \u001b[0;32mTrue\u001b[0m\u001b[0;34m,\u001b[0m \u001b[0mtime_effects\u001b[0m\u001b[0;34m=\u001b[0m\u001b[0;32mTrue\u001b[0m\u001b[0;34m)\u001b[0m\u001b[0;34m.\u001b[0m\u001b[0mfit\u001b[0m\u001b[0;34m(\u001b[0m\u001b[0mcov_type\u001b[0m \u001b[0;34m=\u001b[0m \u001b[0;34m'clustered'\u001b[0m\u001b[0;34m,\u001b[0m \u001b[0mclusters\u001b[0m\u001b[0;34m=\u001b[0m\u001b[0mdata_change\u001b[0m\u001b[0;34m[\u001b[0m\u001b[0;34m[\u001b[0m\u001b[0;34m'year'\u001b[0m\u001b[0;34m,\u001b[0m\u001b[0;34m'ticker'\u001b[0m\u001b[0;34m]\u001b[0m\u001b[0;34m]\u001b[0m\u001b[0;34m)\u001b[0m\u001b[0;34m\u001b[0m\u001b[0;34m\u001b[0m\u001b[0m\n\u001b[0m",
            "\u001b[0;32m/usr/local/lib/python3.7/dist-packages/linearmodels/panel/model.py\u001b[0m in \u001b[0;36m__init__\u001b[0;34m(self, dependent, exog, weights, entity_effects, time_effects, other_effects, singletons, drop_absorbed, check_rank)\u001b[0m\n\u001b[1;32m   1177\u001b[0m         \u001b[0mcheck_rank\u001b[0m\u001b[0;34m:\u001b[0m \u001b[0mbool\u001b[0m \u001b[0;34m=\u001b[0m \u001b[0;32mTrue\u001b[0m\u001b[0;34m,\u001b[0m\u001b[0;34m\u001b[0m\u001b[0;34m\u001b[0m\u001b[0m\n\u001b[1;32m   1178\u001b[0m     ) -> None:\n\u001b[0;32m-> 1179\u001b[0;31m         \u001b[0msuper\u001b[0m\u001b[0;34m(\u001b[0m\u001b[0;34m)\u001b[0m\u001b[0;34m.\u001b[0m\u001b[0m__init__\u001b[0m\u001b[0;34m(\u001b[0m\u001b[0mdependent\u001b[0m\u001b[0;34m,\u001b[0m \u001b[0mexog\u001b[0m\u001b[0;34m,\u001b[0m \u001b[0mweights\u001b[0m\u001b[0;34m=\u001b[0m\u001b[0mweights\u001b[0m\u001b[0;34m,\u001b[0m \u001b[0mcheck_rank\u001b[0m\u001b[0;34m=\u001b[0m\u001b[0mcheck_rank\u001b[0m\u001b[0;34m)\u001b[0m\u001b[0;34m\u001b[0m\u001b[0;34m\u001b[0m\u001b[0m\n\u001b[0m\u001b[1;32m   1180\u001b[0m \u001b[0;34m\u001b[0m\u001b[0m\n\u001b[1;32m   1181\u001b[0m         \u001b[0mself\u001b[0m\u001b[0;34m.\u001b[0m\u001b[0m_entity_effects\u001b[0m \u001b[0;34m=\u001b[0m \u001b[0mentity_effects\u001b[0m\u001b[0;34m\u001b[0m\u001b[0;34m\u001b[0m\u001b[0m\n",
            "\u001b[0;32m/usr/local/lib/python3.7/dist-packages/linearmodels/panel/model.py\u001b[0m in \u001b[0;36m__init__\u001b[0;34m(self, dependent, exog, weights, check_rank)\u001b[0m\n\u001b[1;32m    303\u001b[0m         \u001b[0mself\u001b[0m\u001b[0;34m.\u001b[0m\u001b[0m_constant_index\u001b[0m\u001b[0;34m:\u001b[0m \u001b[0mOptional\u001b[0m\u001b[0;34m[\u001b[0m\u001b[0mint\u001b[0m\u001b[0;34m]\u001b[0m \u001b[0;34m=\u001b[0m \u001b[0;32mNone\u001b[0m\u001b[0;34m\u001b[0m\u001b[0;34m\u001b[0m\u001b[0m\n\u001b[1;32m    304\u001b[0m         \u001b[0mself\u001b[0m\u001b[0;34m.\u001b[0m\u001b[0m_check_rank\u001b[0m \u001b[0;34m=\u001b[0m \u001b[0mbool\u001b[0m\u001b[0;34m(\u001b[0m\u001b[0mcheck_rank\u001b[0m\u001b[0;34m)\u001b[0m\u001b[0;34m\u001b[0m\u001b[0;34m\u001b[0m\u001b[0m\n\u001b[0;32m--> 305\u001b[0;31m         \u001b[0mself\u001b[0m\u001b[0;34m.\u001b[0m\u001b[0m_validate_data\u001b[0m\u001b[0;34m(\u001b[0m\u001b[0;34m)\u001b[0m\u001b[0;34m\u001b[0m\u001b[0;34m\u001b[0m\u001b[0m\n\u001b[0m\u001b[1;32m    306\u001b[0m         \u001b[0mself\u001b[0m\u001b[0;34m.\u001b[0m\u001b[0m_singleton_index\u001b[0m\u001b[0;34m:\u001b[0m \u001b[0mOptional\u001b[0m\u001b[0;34m[\u001b[0m\u001b[0mBoolArray\u001b[0m\u001b[0;34m]\u001b[0m \u001b[0;34m=\u001b[0m \u001b[0;32mNone\u001b[0m\u001b[0;34m\u001b[0m\u001b[0;34m\u001b[0m\u001b[0m\n\u001b[1;32m    307\u001b[0m \u001b[0;34m\u001b[0m\u001b[0m\n",
            "\u001b[0;32m/usr/local/lib/python3.7/dist-packages/linearmodels/panel/model.py\u001b[0m in \u001b[0;36m_validate_data\u001b[0;34m(self)\u001b[0m\n\u001b[1;32m    452\u001b[0m         \u001b[0mw\u001b[0m \u001b[0;34m=\u001b[0m \u001b[0mw\u001b[0m \u001b[0;34m/\u001b[0m \u001b[0mw\u001b[0m\u001b[0;34m.\u001b[0m\u001b[0mmean\u001b[0m\u001b[0;34m(\u001b[0m\u001b[0;34m)\u001b[0m\u001b[0;34m\u001b[0m\u001b[0;34m\u001b[0m\u001b[0m\n\u001b[1;32m    453\u001b[0m         \u001b[0mself\u001b[0m\u001b[0;34m.\u001b[0m\u001b[0mweights\u001b[0m \u001b[0;34m=\u001b[0m \u001b[0mPanelData\u001b[0m\u001b[0;34m(\u001b[0m\u001b[0mw\u001b[0m\u001b[0;34m)\u001b[0m\u001b[0;34m\u001b[0m\u001b[0;34m\u001b[0m\u001b[0m\n\u001b[0;32m--> 454\u001b[0;31m         \u001b[0mrank_of_x\u001b[0m \u001b[0;34m=\u001b[0m \u001b[0mself\u001b[0m\u001b[0;34m.\u001b[0m\u001b[0m_check_exog_rank\u001b[0m\u001b[0;34m(\u001b[0m\u001b[0;34m)\u001b[0m\u001b[0;34m\u001b[0m\u001b[0;34m\u001b[0m\u001b[0m\n\u001b[0m\u001b[1;32m    455\u001b[0m         \u001b[0mself\u001b[0m\u001b[0;34m.\u001b[0m\u001b[0m_constant\u001b[0m\u001b[0;34m,\u001b[0m \u001b[0mself\u001b[0m\u001b[0;34m.\u001b[0m\u001b[0m_constant_index\u001b[0m \u001b[0;34m=\u001b[0m \u001b[0mhas_constant\u001b[0m\u001b[0;34m(\u001b[0m\u001b[0mx\u001b[0m\u001b[0;34m,\u001b[0m \u001b[0mrank_of_x\u001b[0m\u001b[0;34m)\u001b[0m\u001b[0;34m\u001b[0m\u001b[0;34m\u001b[0m\u001b[0m\n\u001b[1;32m    456\u001b[0m \u001b[0;34m\u001b[0m\u001b[0m\n",
            "\u001b[0;32m/usr/local/lib/python3.7/dist-packages/linearmodels/panel/model.py\u001b[0m in \u001b[0;36m_check_exog_rank\u001b[0;34m(self)\u001b[0m\n\u001b[1;32m    408\u001b[0m         \u001b[0;32mif\u001b[0m \u001b[0mrank_of_x\u001b[0m \u001b[0;34m<\u001b[0m \u001b[0mx\u001b[0m\u001b[0;34m.\u001b[0m\u001b[0mshape\u001b[0m\u001b[0;34m[\u001b[0m\u001b[0;36m1\u001b[0m\u001b[0;34m]\u001b[0m\u001b[0;34m:\u001b[0m\u001b[0;34m\u001b[0m\u001b[0;34m\u001b[0m\u001b[0m\n\u001b[1;32m    409\u001b[0m             raise ValueError(\n\u001b[0;32m--> 410\u001b[0;31m                 \u001b[0;34m\"exog does not have full column rank. If you wish to proceed with \"\u001b[0m\u001b[0;34m\u001b[0m\u001b[0;34m\u001b[0m\u001b[0m\n\u001b[0m\u001b[1;32m    411\u001b[0m                 \u001b[0;34m\"model estimation irrespective of the numerical accuracy of \"\u001b[0m\u001b[0;34m\u001b[0m\u001b[0;34m\u001b[0m\u001b[0m\n\u001b[1;32m    412\u001b[0m                 \u001b[0;34m\"coefficient estimates, you can set check_rank=False.\"\u001b[0m\u001b[0;34m\u001b[0m\u001b[0;34m\u001b[0m\u001b[0m\n",
            "\u001b[0;31mValueError\u001b[0m: exog does not have full column rank. If you wish to proceed with model estimation irrespective of the numerical accuracy of coefficient estimates, you can set check_rank=False."
          ]
        }
      ]
    },
    {
      "cell_type": "code",
      "source": [
        "iv = ['change_energy_consumption']\n",
        "exog = iv + control\n",
        "est_16 = PanelOLS(data_change.ret, data_change[exog], entity_effects = True, time_effects=True).fit(cov_type = 'clustered', clusters=data_change[['year','ticker']])"
      ],
      "metadata": {
        "id": "5ARuSqcgzlAF"
      },
      "execution_count": 101,
      "outputs": []
    },
    {
      "cell_type": "markdown",
      "source": [
        "# Regression Intensity (emissions) WITHOUT industry FE (pooled regression with standard errors clustered at the firm and year level)"
      ],
      "metadata": {
        "id": "HOO0c4MOzTBN"
      }
    },
    {
      "cell_type": "code",
      "source": [
        "data_int = data[['ticker','year','ret','scope1_int', 'scope2_int', 'total_emissions_int', 'energy_consumption_int', 'logsize', 'bm', 'leverage', 'mom', 'investa', 'roe', 'logppe', 'beta', 'volat', 'salesgr', 'epsgr']].replace([np.inf, -np.inf], np.nan).dropna(axis=0)"
      ],
      "metadata": {
        "id": "l6sfDXJYAirU"
      },
      "execution_count": 102,
      "outputs": []
    },
    {
      "cell_type": "code",
      "source": [
        "iv = ['scope1_int']\n",
        "exog = iv + control\n",
        "est_17 = PanelOLS(data_int.ret, data_int[exog], entity_effects = False, time_effects=True).fit(cov_type = 'clustered', clusters=data_int[['year','ticker']])"
      ],
      "metadata": {
        "id": "HER6CGsfqChf"
      },
      "execution_count": 103,
      "outputs": []
    },
    {
      "cell_type": "code",
      "source": [
        "iv = ['scope2_int']\n",
        "exog = iv + control\n",
        "est_18 = PanelOLS(data_int.ret, data_int[exog], entity_effects = False, time_effects=True).fit(cov_type = 'clustered', clusters=data_int[['year','ticker']])"
      ],
      "metadata": {
        "id": "x6szyZKmzv7W"
      },
      "execution_count": 104,
      "outputs": []
    },
    {
      "cell_type": "code",
      "source": [
        "iv = ['total_emissions_int']\n",
        "exog = iv + control\n",
        "est_19 = PanelOLS(data_int.ret, data_int[exog], entity_effects = False, time_effects=True).fit(cov_type = 'clustered', clusters=data_int[['year','ticker']])"
      ],
      "metadata": {
        "id": "mKf0IsnUzxMU"
      },
      "execution_count": 105,
      "outputs": []
    },
    {
      "cell_type": "code",
      "source": [
        "iv = ['energy_consumption_int']\n",
        "exog = iv + control\n",
        "est_20 = PanelOLS(data_int.ret, data_int[exog], entity_effects = False, time_effects=True).fit(cov_type = 'clustered', clusters=data_int[['year','ticker']])"
      ],
      "metadata": {
        "id": "6CAF0mFVzya1"
      },
      "execution_count": 106,
      "outputs": []
    },
    {
      "cell_type": "markdown",
      "source": [
        "# Regression Intensity (emissions) WITH industry FE (pooled regression with standard errors clustered at the firm and year level)"
      ],
      "metadata": {
        "id": "oLFHqRoozss4"
      }
    },
    {
      "cell_type": "code",
      "source": [
        "iv = ['scope1_int']\n",
        "exog = iv + control\n",
        "est_21 = PanelOLS(data_int.ret, data_int[exog], entity_effects = True, time_effects=True).fit(cov_type = 'clustered', clusters=data_int[['year','ticker']])"
      ],
      "metadata": {
        "id": "w9I3_-0TqQVs"
      },
      "execution_count": 109,
      "outputs": []
    },
    {
      "cell_type": "code",
      "source": [
        "iv = ['scope2_int']\n",
        "exog = iv + control\n",
        "est_22 = PanelOLS(data_int.ret, data_int[exog], entity_effects = True, time_effects=True).fit(cov_type = 'clustered', clusters=data_int[['year','ticker']])"
      ],
      "metadata": {
        "id": "VW0EuFif0Btg"
      },
      "execution_count": 110,
      "outputs": []
    },
    {
      "cell_type": "code",
      "source": [
        "iv = ['total_emissions_int']\n",
        "exog = iv + control\n",
        "est_23 = PanelOLS(data_int.ret, data_int[exog], entity_effects = True, time_effects=True).fit(cov_type = 'clustered', clusters=data_int[['year','ticker']])"
      ],
      "metadata": {
        "id": "AgsG6k8X0DDL"
      },
      "execution_count": 111,
      "outputs": []
    },
    {
      "cell_type": "code",
      "source": [
        "iv = ['energy_consumption_int']\n",
        "exog = iv + control\n",
        "est_24 = PanelOLS(data_int.ret, data_int[exog], entity_effects = True, time_effects=True).fit(cov_type = 'clustered', clusters=data_int[['year','ticker']])"
      ],
      "metadata": {
        "id": "BDdIsQhZ0ERp"
      },
      "execution_count": 112,
      "outputs": []
    },
    {
      "cell_type": "code",
      "source": [
        "\"PANEL A: log(emissions)\"\n",
        "\n",
        "log_emissions= [est_1,est_2,est_3,est_4,est_5,est_6,est_7,est_8]\n",
        "display(compare(log_emissions,stars=True))\n",
        "#comparrison = compare(log_emissions)\n",
        "#summary = comparrison.summary\n",
        "#print(summary.as_latex())"
      ],
      "metadata": {
        "colab": {
          "base_uri": "https://localhost:8080/",
          "height": 1000
        },
        "id": "HhX0zUa3rVOO",
        "outputId": "493e3697-7b4d-4326-a5c5-72d6a48c6bc3"
      },
      "execution_count": 113,
      "outputs": [
        {
          "output_type": "display_data",
          "data": {
            "text/plain": [
              "                                                                   Model Comparison                                                                   \n",
              "======================================================================================================================================================\n",
              "                                   Model 0         Model 1         Model 2         Model 3        Model 4        Model 5        Model 6        Model 7\n",
              "------------------------------------------------------------------------------------------------------------------------------------------------------\n",
              "Dep. Variable                          ret             ret             ret             ret            ret            ret            ret            ret\n",
              "Estimator                         PanelOLS        PanelOLS        PanelOLS        PanelOLS       PanelOLS       PanelOLS       PanelOLS       PanelOLS\n",
              "No. Observations                      3534            3534            3534            3534           3534           3534           3534           3534\n",
              "Cov. Est.                        Clustered       Clustered       Clustered       Clustered      Clustered      Clustered      Clustered      Clustered\n",
              "R-squared                           0.0155          0.0159          0.0161          0.0156         0.0179         0.0174         0.0178         0.0182\n",
              "R-Squared (Within)                  0.0130          0.0133          0.0134          0.0132         0.0148         0.0144         0.0148         0.0153\n",
              "R-Squared (Between)                 0.0943          0.1914          0.2989         -0.1386        -4.4628        -4.9154        -4.3380        -8.0410\n",
              "R-Squared (Overall)                -0.0057         -0.0039          0.0016         -0.0149        -0.1556        -0.1701        -0.1530        -0.2765\n",
              "F-statistic                         4.4181          4.5322          4.5867          4.4558         5.0828         4.9299         5.0292         5.1553\n",
              "P-value (F-stat)                    0.0000          0.0000          0.0000          0.0000         0.0000         0.0000         0.0000         0.0000\n",
              "========================     =============   =============   =============   =============   ============   ============   ============   ============\n",
              "log_scope1                         -0.0007                                                        -0.0028                                             \n",
              "                                 (-0.6628)                                                      (-1.3611)                                             \n",
              "logsize                            -0.0040         -0.0030        -0.0043*         -0.0039         0.0019         0.0020         0.0018         0.0017\n",
              "                                 (-1.4155)       (-1.3042)       (-1.7100)       (-1.5898)       (0.3414)       (0.3591)       (0.3227)       (0.3133)\n",
              "bm                              -0.0131***      -0.0125***      -0.0132***      -0.0129***     -0.0161***     -0.0156***     -0.0159***     -0.0157***\n",
              "                                 (-5.5465)       (-5.1043)       (-5.8186)       (-5.0928)      (-6.3830)      (-6.7518)      (-6.8297)      (-6.0470)\n",
              "leverage                         -0.0166**      -0.0169***      -0.0197***      -0.0184***     -0.0185***     -0.0211***     -0.0215***     -0.0252***\n",
              "                                 (-2.3262)       (-2.9555)       (-3.5174)       (-2.7708)      (-2.6267)      (-2.8977)      (-3.5669)      (-4.5171)\n",
              "mom                                 0.0192          0.0142          0.0157          0.0172        -0.0692        -0.0637        -0.0645        -0.0684\n",
              "                                  (0.2265)        (0.1678)        (0.1860)        (0.2059)      (-0.5936)      (-0.5526)      (-0.5551)      (-0.5847)\n",
              "investa                             0.0699         0.0749*         0.0767*          0.0714       0.1306**       0.1224**       0.1253**       0.1308**\n",
              "                                  (1.5718)        (1.7129)        (1.6738)        (1.6034)       (2.3154)       (2.3789)       (2.3661)       (2.3130)\n",
              "roe                             -0.0022***      -0.0023***      -0.0022***      -0.0022***     -0.0025***     -0.0026***     -0.0026***     -0.0025***\n",
              "                                 (-3.4429)       (-3.7470)       (-3.5787)       (-3.5345)      (-3.6947)      (-4.0845)      (-3.8464)      (-3.7961)\n",
              "logppe                              0.0048          0.0043          0.0062          0.0050        -0.0014        -0.0026        -0.0013        -0.0001\n",
              "                                  (1.1345)        (1.3272)        (1.5199)        (1.3538)      (-0.2084)      (-0.3848)      (-0.1943)      (-0.0159)\n",
              "beta                                0.0016          0.0016          0.0015          0.0015         0.0072         0.0066         0.0068         0.0071\n",
              "                                  (0.4950)        (0.5106)        (0.4735)        (0.4771)       (1.5040)       (1.4260)       (1.4535)       (1.5508)\n",
              "volat                               0.0010          0.0010          0.0013          0.0010         0.0004         0.0002         0.0005         0.0003\n",
              "                                  (0.2854)        (0.2737)        (0.3531)        (0.2724)       (0.1346)       (0.0483)       (0.1414)       (0.0861)\n",
              "salesgr                             0.0034          0.0032          0.0032          0.0033         0.0040         0.0042         0.0041         0.0037\n",
              "                                  (0.9138)        (0.8681)        (0.8606)        (0.9042)       (1.2846)       (1.2770)       (1.2421)       (1.1889)\n",
              "epsgr                          8.469e-05**     8.525e-05**     8.475e-05**     8.573e-05**     7.577e-05*     7.346e-05*     7.348e-05*     7.818e-05*\n",
              "                                  (2.1019)        (2.1645)        (2.1166)        (2.1097)       (1.8695)       (1.8442)       (1.8559)       (1.8897)\n",
              "log_scope2                                         -0.0016                                                       -0.0011                              \n",
              "                                                 (-1.5157)                                                     (-0.5202)                              \n",
              "log_total_emissions                                               -0.0011*                                                      -0.0013               \n",
              "                                                                 (-1.8119)                                                    (-1.1224)               \n",
              "log_energy_consumption                                                             -0.0011                                                     -0.0046\n",
              "                                                                                 (-1.2462)                                                   (-1.5088)\n",
              "========================== =============== =============== =============== =============== ============== ============== ============== ==============\n",
              "Effects                               Time            Time            Time            Time         Entity         Entity         Entity         Entity\n",
              "                                                                                                     Time           Time           Time           Time\n",
              "------------------------------------------------------------------------------------------------------------------------------------------------------\n",
              "\n",
              "T-stats reported in parentheses\n",
              "PanelModelComparison, id: 0x7fbe56a51dd0"
            ],
            "text/html": [
              "<table class=\"simpletable\">\n",
              "<caption>Model Comparison</caption>\n",
              "<tr>\n",
              "               <td></td>                  <th>Model 0</th>         <th>Model 1</th>         <th>Model 2</th>         <th>Model 3</th>         <th>Model 4</th>        <th>Model 5</th>        <th>Model 6</th>        <th>Model 7</th>   \n",
              "</tr>\n",
              "<tr>\n",
              "  <th>Dep. Variable</th>                    <td>ret</td>             <td>ret</td>             <td>ret</td>             <td>ret</td>             <td>ret</td>            <td>ret</td>            <td>ret</td>            <td>ret</td>     \n",
              "</tr>\n",
              "<tr>\n",
              "  <th>Estimator</th>                     <td>PanelOLS</td>        <td>PanelOLS</td>        <td>PanelOLS</td>        <td>PanelOLS</td>        <td>PanelOLS</td>       <td>PanelOLS</td>       <td>PanelOLS</td>       <td>PanelOLS</td>   \n",
              "</tr>\n",
              "<tr>\n",
              "  <th>No. Observations</th>                <td>3534</td>            <td>3534</td>            <td>3534</td>            <td>3534</td>            <td>3534</td>           <td>3534</td>           <td>3534</td>           <td>3534</td>     \n",
              "</tr>\n",
              "<tr>\n",
              "  <th>Cov. Est.</th>                     <td>Clustered</td>       <td>Clustered</td>       <td>Clustered</td>       <td>Clustered</td>       <td>Clustered</td>      <td>Clustered</td>      <td>Clustered</td>      <td>Clustered</td>  \n",
              "</tr>\n",
              "<tr>\n",
              "  <th>R-squared</th>                      <td>0.0155</td>          <td>0.0159</td>          <td>0.0161</td>          <td>0.0156</td>          <td>0.0179</td>         <td>0.0174</td>         <td>0.0178</td>         <td>0.0182</td>    \n",
              "</tr>\n",
              "<tr>\n",
              "  <th>R-Squared (Within)</th>             <td>0.0130</td>          <td>0.0133</td>          <td>0.0134</td>          <td>0.0132</td>          <td>0.0148</td>         <td>0.0144</td>         <td>0.0148</td>         <td>0.0153</td>    \n",
              "</tr>\n",
              "<tr>\n",
              "  <th>R-Squared (Between)</th>            <td>0.0943</td>          <td>0.1914</td>          <td>0.2989</td>          <td>-0.1386</td>         <td>-4.4628</td>        <td>-4.9154</td>        <td>-4.3380</td>        <td>-8.0410</td>   \n",
              "</tr>\n",
              "<tr>\n",
              "  <th>R-Squared (Overall)</th>            <td>-0.0057</td>         <td>-0.0039</td>         <td>0.0016</td>          <td>-0.0149</td>         <td>-0.1556</td>        <td>-0.1701</td>        <td>-0.1530</td>        <td>-0.2765</td>   \n",
              "</tr>\n",
              "<tr>\n",
              "  <th>F-statistic</th>                    <td>4.4181</td>          <td>4.5322</td>          <td>4.5867</td>          <td>4.4558</td>          <td>5.0828</td>         <td>4.9299</td>         <td>5.0292</td>         <td>5.1553</td>    \n",
              "</tr>\n",
              "<tr>\n",
              "  <th>P-value (F-stat)</th>               <td>0.0000</td>          <td>0.0000</td>          <td>0.0000</td>          <td>0.0000</td>          <td>0.0000</td>         <td>0.0000</td>         <td>0.0000</td>         <td>0.0000</td>    \n",
              "</tr>\n",
              "<tr>\n",
              "  <th>========================</th>    <td>=============</td>   <td>=============</td>   <td>=============</td>   <td>=============</td>   <td>============</td>   <td>============</td>   <td>============</td>   <td>============</td> \n",
              "</tr>\n",
              "<tr>\n",
              "  <th>log_scope1</th>                     <td>-0.0007</td>        <td>        </td>        <td>        </td>        <td>        </td>         <td>-0.0028</td>       <td>        </td>       <td>        </td>       <td>        </td>   \n",
              "</tr>\n",
              "<tr>\n",
              "  <th> </th>                             <td>(-0.6628)</td>       <td>        </td>        <td>        </td>        <td>        </td>        <td>(-1.3611)</td>      <td>        </td>       <td>        </td>       <td>        </td>   \n",
              "</tr>\n",
              "<tr>\n",
              "  <th>logsize</th>                        <td>-0.0040</td>         <td>-0.0030</td>        <td>-0.0043*</td>         <td>-0.0039</td>         <td>0.0019</td>         <td>0.0020</td>         <td>0.0018</td>         <td>0.0017</td>    \n",
              "</tr>\n",
              "<tr>\n",
              "  <th> </th>                             <td>(-1.4155)</td>       <td>(-1.3042)</td>       <td>(-1.7100)</td>       <td>(-1.5898)</td>       <td>(0.3414)</td>       <td>(0.3591)</td>       <td>(0.3227)</td>       <td>(0.3133)</td>   \n",
              "</tr>\n",
              "<tr>\n",
              "  <th>bm</th>                           <td>-0.0131***</td>      <td>-0.0125***</td>      <td>-0.0132***</td>      <td>-0.0129***</td>      <td>-0.0161***</td>     <td>-0.0156***</td>     <td>-0.0159***</td>     <td>-0.0157***</td>  \n",
              "</tr>\n",
              "<tr>\n",
              "  <th> </th>                             <td>(-5.5465)</td>       <td>(-5.1043)</td>       <td>(-5.8186)</td>       <td>(-5.0928)</td>       <td>(-6.3830)</td>      <td>(-6.7518)</td>      <td>(-6.8297)</td>      <td>(-6.0470)</td>  \n",
              "</tr>\n",
              "<tr>\n",
              "  <th>leverage</th>                      <td>-0.0166**</td>      <td>-0.0169***</td>      <td>-0.0197***</td>      <td>-0.0184***</td>      <td>-0.0185***</td>     <td>-0.0211***</td>     <td>-0.0215***</td>     <td>-0.0252***</td>  \n",
              "</tr>\n",
              "<tr>\n",
              "  <th> </th>                             <td>(-2.3262)</td>       <td>(-2.9555)</td>       <td>(-3.5174)</td>       <td>(-2.7708)</td>       <td>(-2.6267)</td>      <td>(-2.8977)</td>      <td>(-3.5669)</td>      <td>(-4.5171)</td>  \n",
              "</tr>\n",
              "<tr>\n",
              "  <th>mom</th>                            <td>0.0192</td>          <td>0.0142</td>          <td>0.0157</td>          <td>0.0172</td>          <td>-0.0692</td>        <td>-0.0637</td>        <td>-0.0645</td>        <td>-0.0684</td>   \n",
              "</tr>\n",
              "<tr>\n",
              "  <th> </th>                             <td>(0.2265)</td>        <td>(0.1678)</td>        <td>(0.1860)</td>        <td>(0.2059)</td>        <td>(-0.5936)</td>      <td>(-0.5526)</td>      <td>(-0.5551)</td>      <td>(-0.5847)</td>  \n",
              "</tr>\n",
              "<tr>\n",
              "  <th>investa</th>                        <td>0.0699</td>          <td>0.0749*</td>         <td>0.0767*</td>         <td>0.0714</td>         <td>0.1306**</td>       <td>0.1224**</td>       <td>0.1253**</td>       <td>0.1308**</td>   \n",
              "</tr>\n",
              "<tr>\n",
              "  <th> </th>                             <td>(1.5718)</td>        <td>(1.7129)</td>        <td>(1.6738)</td>        <td>(1.6034)</td>        <td>(2.3154)</td>       <td>(2.3789)</td>       <td>(2.3661)</td>       <td>(2.3130)</td>   \n",
              "</tr>\n",
              "<tr>\n",
              "  <th>roe</th>                          <td>-0.0022***</td>      <td>-0.0023***</td>      <td>-0.0022***</td>      <td>-0.0022***</td>      <td>-0.0025***</td>     <td>-0.0026***</td>     <td>-0.0026***</td>     <td>-0.0025***</td>  \n",
              "</tr>\n",
              "<tr>\n",
              "  <th> </th>                             <td>(-3.4429)</td>       <td>(-3.7470)</td>       <td>(-3.5787)</td>       <td>(-3.5345)</td>       <td>(-3.6947)</td>      <td>(-4.0845)</td>      <td>(-3.8464)</td>      <td>(-3.7961)</td>  \n",
              "</tr>\n",
              "<tr>\n",
              "  <th>logppe</th>                         <td>0.0048</td>          <td>0.0043</td>          <td>0.0062</td>          <td>0.0050</td>          <td>-0.0014</td>        <td>-0.0026</td>        <td>-0.0013</td>        <td>-0.0001</td>   \n",
              "</tr>\n",
              "<tr>\n",
              "  <th> </th>                             <td>(1.1345)</td>        <td>(1.3272)</td>        <td>(1.5199)</td>        <td>(1.3538)</td>        <td>(-0.2084)</td>      <td>(-0.3848)</td>      <td>(-0.1943)</td>      <td>(-0.0159)</td>  \n",
              "</tr>\n",
              "<tr>\n",
              "  <th>beta</th>                           <td>0.0016</td>          <td>0.0016</td>          <td>0.0015</td>          <td>0.0015</td>          <td>0.0072</td>         <td>0.0066</td>         <td>0.0068</td>         <td>0.0071</td>    \n",
              "</tr>\n",
              "<tr>\n",
              "  <th> </th>                             <td>(0.4950)</td>        <td>(0.5106)</td>        <td>(0.4735)</td>        <td>(0.4771)</td>        <td>(1.5040)</td>       <td>(1.4260)</td>       <td>(1.4535)</td>       <td>(1.5508)</td>   \n",
              "</tr>\n",
              "<tr>\n",
              "  <th>volat</th>                          <td>0.0010</td>          <td>0.0010</td>          <td>0.0013</td>          <td>0.0010</td>          <td>0.0004</td>         <td>0.0002</td>         <td>0.0005</td>         <td>0.0003</td>    \n",
              "</tr>\n",
              "<tr>\n",
              "  <th> </th>                             <td>(0.2854)</td>        <td>(0.2737)</td>        <td>(0.3531)</td>        <td>(0.2724)</td>        <td>(0.1346)</td>       <td>(0.0483)</td>       <td>(0.1414)</td>       <td>(0.0861)</td>   \n",
              "</tr>\n",
              "<tr>\n",
              "  <th>salesgr</th>                        <td>0.0034</td>          <td>0.0032</td>          <td>0.0032</td>          <td>0.0033</td>          <td>0.0040</td>         <td>0.0042</td>         <td>0.0041</td>         <td>0.0037</td>    \n",
              "</tr>\n",
              "<tr>\n",
              "  <th> </th>                             <td>(0.9138)</td>        <td>(0.8681)</td>        <td>(0.8606)</td>        <td>(0.9042)</td>        <td>(1.2846)</td>       <td>(1.2770)</td>       <td>(1.2421)</td>       <td>(1.1889)</td>   \n",
              "</tr>\n",
              "<tr>\n",
              "  <th>epsgr</th>                        <td>8.469e-05**</td>     <td>8.525e-05**</td>     <td>8.475e-05**</td>     <td>8.573e-05**</td>     <td>7.577e-05*</td>     <td>7.346e-05*</td>     <td>7.348e-05*</td>     <td>7.818e-05*</td>  \n",
              "</tr>\n",
              "<tr>\n",
              "  <th> </th>                             <td>(2.1019)</td>        <td>(2.1645)</td>        <td>(2.1166)</td>        <td>(2.1097)</td>        <td>(1.8695)</td>       <td>(1.8442)</td>       <td>(1.8559)</td>       <td>(1.8897)</td>   \n",
              "</tr>\n",
              "<tr>\n",
              "  <th>log_scope2</th>                    <td>        </td>         <td>-0.0016</td>        <td>        </td>        <td>        </td>        <td>        </td>        <td>-0.0011</td>       <td>        </td>       <td>        </td>   \n",
              "</tr>\n",
              "<tr>\n",
              "  <th> </th>                             <td>        </td>        <td>(-1.5157)</td>       <td>        </td>        <td>        </td>        <td>        </td>       <td>(-0.5202)</td>      <td>        </td>       <td>        </td>   \n",
              "</tr>\n",
              "<tr>\n",
              "  <th>log_total_emissions</th>           <td>        </td>        <td>        </td>        <td>-0.0011*</td>        <td>        </td>        <td>        </td>       <td>        </td>        <td>-0.0013</td>       <td>        </td>   \n",
              "</tr>\n",
              "<tr>\n",
              "  <th> </th>                             <td>        </td>        <td>        </td>        <td>(-1.8119)</td>       <td>        </td>        <td>        </td>       <td>        </td>       <td>(-1.1224)</td>      <td>        </td>   \n",
              "</tr>\n",
              "<tr>\n",
              "  <th>log_energy_consumption</th>        <td>        </td>        <td>        </td>        <td>        </td>         <td>-0.0011</td>        <td>        </td>       <td>        </td>       <td>        </td>        <td>-0.0046</td>   \n",
              "</tr>\n",
              "<tr>\n",
              "  <th> </th>                             <td>        </td>        <td>        </td>        <td>        </td>        <td>(-1.2462)</td>       <td>        </td>       <td>        </td>       <td>        </td>       <td>(-1.5088)</td>  \n",
              "</tr>\n",
              "<tr>\n",
              "  <th>==========================</th> <td>===============</td> <td>===============</td> <td>===============</td> <td>===============</td> <td>==============</td> <td>==============</td> <td>==============</td> <td>==============</td>\n",
              "</tr>\n",
              "<tr>\n",
              "  <th>Effects</th>                         <td>Time</td>            <td>Time</td>            <td>Time</td>            <td>Time</td>           <td>Entity</td>         <td>Entity</td>         <td>Entity</td>         <td>Entity</td>    \n",
              "</tr>\n",
              "<tr>\n",
              "  <th></th>                                  <td></td>                <td></td>                <td></td>                <td></td>              <td>Time</td>           <td>Time</td>           <td>Time</td>           <td>Time</td>     \n",
              "</tr>\n",
              "</table><br/><br/>T-stats reported in parentheses<br/>id: 0x7fbe56a51dd0"
            ]
          },
          "metadata": {}
        }
      ]
    },
    {
      "cell_type": "code",
      "source": [
        "\"PANEL B: Change (Emissions)\"\n",
        "# first 4 models are without industry FE, last 4 are with industry FE\n",
        "#NOTE: Errors with 'model 2 and 6' (change_total_emissions with & without FE)\n",
        "\n",
        "#Independent Variables = log \n",
        "\n",
        "change_emissions= [est_9,est_10,'est_11',est_12,est_13,est_14,'est_15',est_16]\n",
        "display(compare(log_emissions,stars=True))\n"
      ],
      "metadata": {
        "colab": {
          "base_uri": "https://localhost:8080/",
          "height": 1000
        },
        "id": "Tfwji-VA71uq",
        "outputId": "c0720c22-b15e-4ddd-e132-8eb1f3a4d419"
      },
      "execution_count": 116,
      "outputs": [
        {
          "output_type": "display_data",
          "data": {
            "text/plain": [
              "                                                                   Model Comparison                                                                   \n",
              "======================================================================================================================================================\n",
              "                                   Model 0         Model 1         Model 2         Model 3        Model 4        Model 5        Model 6        Model 7\n",
              "------------------------------------------------------------------------------------------------------------------------------------------------------\n",
              "Dep. Variable                          ret             ret             ret             ret            ret            ret            ret            ret\n",
              "Estimator                         PanelOLS        PanelOLS        PanelOLS        PanelOLS       PanelOLS       PanelOLS       PanelOLS       PanelOLS\n",
              "No. Observations                      3534            3534            3534            3534           3534           3534           3534           3534\n",
              "Cov. Est.                        Clustered       Clustered       Clustered       Clustered      Clustered      Clustered      Clustered      Clustered\n",
              "R-squared                           0.0155          0.0159          0.0161          0.0156         0.0179         0.0174         0.0178         0.0182\n",
              "R-Squared (Within)                  0.0130          0.0133          0.0134          0.0132         0.0148         0.0144         0.0148         0.0153\n",
              "R-Squared (Between)                 0.0943          0.1914          0.2989         -0.1386        -4.4628        -4.9154        -4.3380        -8.0410\n",
              "R-Squared (Overall)                -0.0057         -0.0039          0.0016         -0.0149        -0.1556        -0.1701        -0.1530        -0.2765\n",
              "F-statistic                         4.4181          4.5322          4.5867          4.4558         5.0828         4.9299         5.0292         5.1553\n",
              "P-value (F-stat)                    0.0000          0.0000          0.0000          0.0000         0.0000         0.0000         0.0000         0.0000\n",
              "========================     =============   =============   =============   =============   ============   ============   ============   ============\n",
              "log_scope1                         -0.0007                                                        -0.0028                                             \n",
              "                                 (-0.6628)                                                      (-1.3611)                                             \n",
              "logsize                            -0.0040         -0.0030        -0.0043*         -0.0039         0.0019         0.0020         0.0018         0.0017\n",
              "                                 (-1.4155)       (-1.3042)       (-1.7100)       (-1.5898)       (0.3414)       (0.3591)       (0.3227)       (0.3133)\n",
              "bm                              -0.0131***      -0.0125***      -0.0132***      -0.0129***     -0.0161***     -0.0156***     -0.0159***     -0.0157***\n",
              "                                 (-5.5465)       (-5.1043)       (-5.8186)       (-5.0928)      (-6.3830)      (-6.7518)      (-6.8297)      (-6.0470)\n",
              "leverage                         -0.0166**      -0.0169***      -0.0197***      -0.0184***     -0.0185***     -0.0211***     -0.0215***     -0.0252***\n",
              "                                 (-2.3262)       (-2.9555)       (-3.5174)       (-2.7708)      (-2.6267)      (-2.8977)      (-3.5669)      (-4.5171)\n",
              "mom                                 0.0192          0.0142          0.0157          0.0172        -0.0692        -0.0637        -0.0645        -0.0684\n",
              "                                  (0.2265)        (0.1678)        (0.1860)        (0.2059)      (-0.5936)      (-0.5526)      (-0.5551)      (-0.5847)\n",
              "investa                             0.0699         0.0749*         0.0767*          0.0714       0.1306**       0.1224**       0.1253**       0.1308**\n",
              "                                  (1.5718)        (1.7129)        (1.6738)        (1.6034)       (2.3154)       (2.3789)       (2.3661)       (2.3130)\n",
              "roe                             -0.0022***      -0.0023***      -0.0022***      -0.0022***     -0.0025***     -0.0026***     -0.0026***     -0.0025***\n",
              "                                 (-3.4429)       (-3.7470)       (-3.5787)       (-3.5345)      (-3.6947)      (-4.0845)      (-3.8464)      (-3.7961)\n",
              "logppe                              0.0048          0.0043          0.0062          0.0050        -0.0014        -0.0026        -0.0013        -0.0001\n",
              "                                  (1.1345)        (1.3272)        (1.5199)        (1.3538)      (-0.2084)      (-0.3848)      (-0.1943)      (-0.0159)\n",
              "beta                                0.0016          0.0016          0.0015          0.0015         0.0072         0.0066         0.0068         0.0071\n",
              "                                  (0.4950)        (0.5106)        (0.4735)        (0.4771)       (1.5040)       (1.4260)       (1.4535)       (1.5508)\n",
              "volat                               0.0010          0.0010          0.0013          0.0010         0.0004         0.0002         0.0005         0.0003\n",
              "                                  (0.2854)        (0.2737)        (0.3531)        (0.2724)       (0.1346)       (0.0483)       (0.1414)       (0.0861)\n",
              "salesgr                             0.0034          0.0032          0.0032          0.0033         0.0040         0.0042         0.0041         0.0037\n",
              "                                  (0.9138)        (0.8681)        (0.8606)        (0.9042)       (1.2846)       (1.2770)       (1.2421)       (1.1889)\n",
              "epsgr                          8.469e-05**     8.525e-05**     8.475e-05**     8.573e-05**     7.577e-05*     7.346e-05*     7.348e-05*     7.818e-05*\n",
              "                                  (2.1019)        (2.1645)        (2.1166)        (2.1097)       (1.8695)       (1.8442)       (1.8559)       (1.8897)\n",
              "log_scope2                                         -0.0016                                                       -0.0011                              \n",
              "                                                 (-1.5157)                                                     (-0.5202)                              \n",
              "log_total_emissions                                               -0.0011*                                                      -0.0013               \n",
              "                                                                 (-1.8119)                                                    (-1.1224)               \n",
              "log_energy_consumption                                                             -0.0011                                                     -0.0046\n",
              "                                                                                 (-1.2462)                                                   (-1.5088)\n",
              "========================== =============== =============== =============== =============== ============== ============== ============== ==============\n",
              "Effects                               Time            Time            Time            Time         Entity         Entity         Entity         Entity\n",
              "                                                                                                     Time           Time           Time           Time\n",
              "------------------------------------------------------------------------------------------------------------------------------------------------------\n",
              "\n",
              "T-stats reported in parentheses\n",
              "PanelModelComparison, id: 0x7fbe595151d0"
            ],
            "text/html": [
              "<table class=\"simpletable\">\n",
              "<caption>Model Comparison</caption>\n",
              "<tr>\n",
              "               <td></td>                  <th>Model 0</th>         <th>Model 1</th>         <th>Model 2</th>         <th>Model 3</th>         <th>Model 4</th>        <th>Model 5</th>        <th>Model 6</th>        <th>Model 7</th>   \n",
              "</tr>\n",
              "<tr>\n",
              "  <th>Dep. Variable</th>                    <td>ret</td>             <td>ret</td>             <td>ret</td>             <td>ret</td>             <td>ret</td>            <td>ret</td>            <td>ret</td>            <td>ret</td>     \n",
              "</tr>\n",
              "<tr>\n",
              "  <th>Estimator</th>                     <td>PanelOLS</td>        <td>PanelOLS</td>        <td>PanelOLS</td>        <td>PanelOLS</td>        <td>PanelOLS</td>       <td>PanelOLS</td>       <td>PanelOLS</td>       <td>PanelOLS</td>   \n",
              "</tr>\n",
              "<tr>\n",
              "  <th>No. Observations</th>                <td>3534</td>            <td>3534</td>            <td>3534</td>            <td>3534</td>            <td>3534</td>           <td>3534</td>           <td>3534</td>           <td>3534</td>     \n",
              "</tr>\n",
              "<tr>\n",
              "  <th>Cov. Est.</th>                     <td>Clustered</td>       <td>Clustered</td>       <td>Clustered</td>       <td>Clustered</td>       <td>Clustered</td>      <td>Clustered</td>      <td>Clustered</td>      <td>Clustered</td>  \n",
              "</tr>\n",
              "<tr>\n",
              "  <th>R-squared</th>                      <td>0.0155</td>          <td>0.0159</td>          <td>0.0161</td>          <td>0.0156</td>          <td>0.0179</td>         <td>0.0174</td>         <td>0.0178</td>         <td>0.0182</td>    \n",
              "</tr>\n",
              "<tr>\n",
              "  <th>R-Squared (Within)</th>             <td>0.0130</td>          <td>0.0133</td>          <td>0.0134</td>          <td>0.0132</td>          <td>0.0148</td>         <td>0.0144</td>         <td>0.0148</td>         <td>0.0153</td>    \n",
              "</tr>\n",
              "<tr>\n",
              "  <th>R-Squared (Between)</th>            <td>0.0943</td>          <td>0.1914</td>          <td>0.2989</td>          <td>-0.1386</td>         <td>-4.4628</td>        <td>-4.9154</td>        <td>-4.3380</td>        <td>-8.0410</td>   \n",
              "</tr>\n",
              "<tr>\n",
              "  <th>R-Squared (Overall)</th>            <td>-0.0057</td>         <td>-0.0039</td>         <td>0.0016</td>          <td>-0.0149</td>         <td>-0.1556</td>        <td>-0.1701</td>        <td>-0.1530</td>        <td>-0.2765</td>   \n",
              "</tr>\n",
              "<tr>\n",
              "  <th>F-statistic</th>                    <td>4.4181</td>          <td>4.5322</td>          <td>4.5867</td>          <td>4.4558</td>          <td>5.0828</td>         <td>4.9299</td>         <td>5.0292</td>         <td>5.1553</td>    \n",
              "</tr>\n",
              "<tr>\n",
              "  <th>P-value (F-stat)</th>               <td>0.0000</td>          <td>0.0000</td>          <td>0.0000</td>          <td>0.0000</td>          <td>0.0000</td>         <td>0.0000</td>         <td>0.0000</td>         <td>0.0000</td>    \n",
              "</tr>\n",
              "<tr>\n",
              "  <th>========================</th>    <td>=============</td>   <td>=============</td>   <td>=============</td>   <td>=============</td>   <td>============</td>   <td>============</td>   <td>============</td>   <td>============</td> \n",
              "</tr>\n",
              "<tr>\n",
              "  <th>log_scope1</th>                     <td>-0.0007</td>        <td>        </td>        <td>        </td>        <td>        </td>         <td>-0.0028</td>       <td>        </td>       <td>        </td>       <td>        </td>   \n",
              "</tr>\n",
              "<tr>\n",
              "  <th> </th>                             <td>(-0.6628)</td>       <td>        </td>        <td>        </td>        <td>        </td>        <td>(-1.3611)</td>      <td>        </td>       <td>        </td>       <td>        </td>   \n",
              "</tr>\n",
              "<tr>\n",
              "  <th>logsize</th>                        <td>-0.0040</td>         <td>-0.0030</td>        <td>-0.0043*</td>         <td>-0.0039</td>         <td>0.0019</td>         <td>0.0020</td>         <td>0.0018</td>         <td>0.0017</td>    \n",
              "</tr>\n",
              "<tr>\n",
              "  <th> </th>                             <td>(-1.4155)</td>       <td>(-1.3042)</td>       <td>(-1.7100)</td>       <td>(-1.5898)</td>       <td>(0.3414)</td>       <td>(0.3591)</td>       <td>(0.3227)</td>       <td>(0.3133)</td>   \n",
              "</tr>\n",
              "<tr>\n",
              "  <th>bm</th>                           <td>-0.0131***</td>      <td>-0.0125***</td>      <td>-0.0132***</td>      <td>-0.0129***</td>      <td>-0.0161***</td>     <td>-0.0156***</td>     <td>-0.0159***</td>     <td>-0.0157***</td>  \n",
              "</tr>\n",
              "<tr>\n",
              "  <th> </th>                             <td>(-5.5465)</td>       <td>(-5.1043)</td>       <td>(-5.8186)</td>       <td>(-5.0928)</td>       <td>(-6.3830)</td>      <td>(-6.7518)</td>      <td>(-6.8297)</td>      <td>(-6.0470)</td>  \n",
              "</tr>\n",
              "<tr>\n",
              "  <th>leverage</th>                      <td>-0.0166**</td>      <td>-0.0169***</td>      <td>-0.0197***</td>      <td>-0.0184***</td>      <td>-0.0185***</td>     <td>-0.0211***</td>     <td>-0.0215***</td>     <td>-0.0252***</td>  \n",
              "</tr>\n",
              "<tr>\n",
              "  <th> </th>                             <td>(-2.3262)</td>       <td>(-2.9555)</td>       <td>(-3.5174)</td>       <td>(-2.7708)</td>       <td>(-2.6267)</td>      <td>(-2.8977)</td>      <td>(-3.5669)</td>      <td>(-4.5171)</td>  \n",
              "</tr>\n",
              "<tr>\n",
              "  <th>mom</th>                            <td>0.0192</td>          <td>0.0142</td>          <td>0.0157</td>          <td>0.0172</td>          <td>-0.0692</td>        <td>-0.0637</td>        <td>-0.0645</td>        <td>-0.0684</td>   \n",
              "</tr>\n",
              "<tr>\n",
              "  <th> </th>                             <td>(0.2265)</td>        <td>(0.1678)</td>        <td>(0.1860)</td>        <td>(0.2059)</td>        <td>(-0.5936)</td>      <td>(-0.5526)</td>      <td>(-0.5551)</td>      <td>(-0.5847)</td>  \n",
              "</tr>\n",
              "<tr>\n",
              "  <th>investa</th>                        <td>0.0699</td>          <td>0.0749*</td>         <td>0.0767*</td>         <td>0.0714</td>         <td>0.1306**</td>       <td>0.1224**</td>       <td>0.1253**</td>       <td>0.1308**</td>   \n",
              "</tr>\n",
              "<tr>\n",
              "  <th> </th>                             <td>(1.5718)</td>        <td>(1.7129)</td>        <td>(1.6738)</td>        <td>(1.6034)</td>        <td>(2.3154)</td>       <td>(2.3789)</td>       <td>(2.3661)</td>       <td>(2.3130)</td>   \n",
              "</tr>\n",
              "<tr>\n",
              "  <th>roe</th>                          <td>-0.0022***</td>      <td>-0.0023***</td>      <td>-0.0022***</td>      <td>-0.0022***</td>      <td>-0.0025***</td>     <td>-0.0026***</td>     <td>-0.0026***</td>     <td>-0.0025***</td>  \n",
              "</tr>\n",
              "<tr>\n",
              "  <th> </th>                             <td>(-3.4429)</td>       <td>(-3.7470)</td>       <td>(-3.5787)</td>       <td>(-3.5345)</td>       <td>(-3.6947)</td>      <td>(-4.0845)</td>      <td>(-3.8464)</td>      <td>(-3.7961)</td>  \n",
              "</tr>\n",
              "<tr>\n",
              "  <th>logppe</th>                         <td>0.0048</td>          <td>0.0043</td>          <td>0.0062</td>          <td>0.0050</td>          <td>-0.0014</td>        <td>-0.0026</td>        <td>-0.0013</td>        <td>-0.0001</td>   \n",
              "</tr>\n",
              "<tr>\n",
              "  <th> </th>                             <td>(1.1345)</td>        <td>(1.3272)</td>        <td>(1.5199)</td>        <td>(1.3538)</td>        <td>(-0.2084)</td>      <td>(-0.3848)</td>      <td>(-0.1943)</td>      <td>(-0.0159)</td>  \n",
              "</tr>\n",
              "<tr>\n",
              "  <th>beta</th>                           <td>0.0016</td>          <td>0.0016</td>          <td>0.0015</td>          <td>0.0015</td>          <td>0.0072</td>         <td>0.0066</td>         <td>0.0068</td>         <td>0.0071</td>    \n",
              "</tr>\n",
              "<tr>\n",
              "  <th> </th>                             <td>(0.4950)</td>        <td>(0.5106)</td>        <td>(0.4735)</td>        <td>(0.4771)</td>        <td>(1.5040)</td>       <td>(1.4260)</td>       <td>(1.4535)</td>       <td>(1.5508)</td>   \n",
              "</tr>\n",
              "<tr>\n",
              "  <th>volat</th>                          <td>0.0010</td>          <td>0.0010</td>          <td>0.0013</td>          <td>0.0010</td>          <td>0.0004</td>         <td>0.0002</td>         <td>0.0005</td>         <td>0.0003</td>    \n",
              "</tr>\n",
              "<tr>\n",
              "  <th> </th>                             <td>(0.2854)</td>        <td>(0.2737)</td>        <td>(0.3531)</td>        <td>(0.2724)</td>        <td>(0.1346)</td>       <td>(0.0483)</td>       <td>(0.1414)</td>       <td>(0.0861)</td>   \n",
              "</tr>\n",
              "<tr>\n",
              "  <th>salesgr</th>                        <td>0.0034</td>          <td>0.0032</td>          <td>0.0032</td>          <td>0.0033</td>          <td>0.0040</td>         <td>0.0042</td>         <td>0.0041</td>         <td>0.0037</td>    \n",
              "</tr>\n",
              "<tr>\n",
              "  <th> </th>                             <td>(0.9138)</td>        <td>(0.8681)</td>        <td>(0.8606)</td>        <td>(0.9042)</td>        <td>(1.2846)</td>       <td>(1.2770)</td>       <td>(1.2421)</td>       <td>(1.1889)</td>   \n",
              "</tr>\n",
              "<tr>\n",
              "  <th>epsgr</th>                        <td>8.469e-05**</td>     <td>8.525e-05**</td>     <td>8.475e-05**</td>     <td>8.573e-05**</td>     <td>7.577e-05*</td>     <td>7.346e-05*</td>     <td>7.348e-05*</td>     <td>7.818e-05*</td>  \n",
              "</tr>\n",
              "<tr>\n",
              "  <th> </th>                             <td>(2.1019)</td>        <td>(2.1645)</td>        <td>(2.1166)</td>        <td>(2.1097)</td>        <td>(1.8695)</td>       <td>(1.8442)</td>       <td>(1.8559)</td>       <td>(1.8897)</td>   \n",
              "</tr>\n",
              "<tr>\n",
              "  <th>log_scope2</th>                    <td>        </td>         <td>-0.0016</td>        <td>        </td>        <td>        </td>        <td>        </td>        <td>-0.0011</td>       <td>        </td>       <td>        </td>   \n",
              "</tr>\n",
              "<tr>\n",
              "  <th> </th>                             <td>        </td>        <td>(-1.5157)</td>       <td>        </td>        <td>        </td>        <td>        </td>       <td>(-0.5202)</td>      <td>        </td>       <td>        </td>   \n",
              "</tr>\n",
              "<tr>\n",
              "  <th>log_total_emissions</th>           <td>        </td>        <td>        </td>        <td>-0.0011*</td>        <td>        </td>        <td>        </td>       <td>        </td>        <td>-0.0013</td>       <td>        </td>   \n",
              "</tr>\n",
              "<tr>\n",
              "  <th> </th>                             <td>        </td>        <td>        </td>        <td>(-1.8119)</td>       <td>        </td>        <td>        </td>       <td>        </td>       <td>(-1.1224)</td>      <td>        </td>   \n",
              "</tr>\n",
              "<tr>\n",
              "  <th>log_energy_consumption</th>        <td>        </td>        <td>        </td>        <td>        </td>         <td>-0.0011</td>        <td>        </td>       <td>        </td>       <td>        </td>        <td>-0.0046</td>   \n",
              "</tr>\n",
              "<tr>\n",
              "  <th> </th>                             <td>        </td>        <td>        </td>        <td>        </td>        <td>(-1.2462)</td>       <td>        </td>       <td>        </td>       <td>        </td>       <td>(-1.5088)</td>  \n",
              "</tr>\n",
              "<tr>\n",
              "  <th>==========================</th> <td>===============</td> <td>===============</td> <td>===============</td> <td>===============</td> <td>==============</td> <td>==============</td> <td>==============</td> <td>==============</td>\n",
              "</tr>\n",
              "<tr>\n",
              "  <th>Effects</th>                         <td>Time</td>            <td>Time</td>            <td>Time</td>            <td>Time</td>           <td>Entity</td>         <td>Entity</td>         <td>Entity</td>         <td>Entity</td>    \n",
              "</tr>\n",
              "<tr>\n",
              "  <th></th>                                  <td></td>                <td></td>                <td></td>                <td></td>              <td>Time</td>           <td>Time</td>           <td>Time</td>           <td>Time</td>     \n",
              "</tr>\n",
              "</table><br/><br/>T-stats reported in parentheses<br/>id: 0x7fbe595151d0"
            ]
          },
          "metadata": {}
        }
      ]
    },
    {
      "cell_type": "code",
      "source": [
        "\"PANEL C: Emissions Intensity\"\n",
        "# first 4 models are without industry FE, last 4 are with industry FE\n",
        "\n",
        "change_emissions= [est_17,est_18,est_19,est_20,est_21,est_22,est_23,est_24]\n",
        "display(compare(log_emissions,stars=True))\n"
      ],
      "metadata": {
        "colab": {
          "base_uri": "https://localhost:8080/",
          "height": 1000
        },
        "id": "O5NHHXhI9LJP",
        "outputId": "c918c4b1-6e12-4e7f-eb82-565184ead73e"
      },
      "execution_count": 117,
      "outputs": [
        {
          "output_type": "display_data",
          "data": {
            "text/plain": [
              "                                                                   Model Comparison                                                                   \n",
              "======================================================================================================================================================\n",
              "                                   Model 0         Model 1         Model 2         Model 3        Model 4        Model 5        Model 6        Model 7\n",
              "------------------------------------------------------------------------------------------------------------------------------------------------------\n",
              "Dep. Variable                          ret             ret             ret             ret            ret            ret            ret            ret\n",
              "Estimator                         PanelOLS        PanelOLS        PanelOLS        PanelOLS       PanelOLS       PanelOLS       PanelOLS       PanelOLS\n",
              "No. Observations                      3534            3534            3534            3534           3534           3534           3534           3534\n",
              "Cov. Est.                        Clustered       Clustered       Clustered       Clustered      Clustered      Clustered      Clustered      Clustered\n",
              "R-squared                           0.0155          0.0159          0.0161          0.0156         0.0179         0.0174         0.0178         0.0182\n",
              "R-Squared (Within)                  0.0130          0.0133          0.0134          0.0132         0.0148         0.0144         0.0148         0.0153\n",
              "R-Squared (Between)                 0.0943          0.1914          0.2989         -0.1386        -4.4628        -4.9154        -4.3380        -8.0410\n",
              "R-Squared (Overall)                -0.0057         -0.0039          0.0016         -0.0149        -0.1556        -0.1701        -0.1530        -0.2765\n",
              "F-statistic                         4.4181          4.5322          4.5867          4.4558         5.0828         4.9299         5.0292         5.1553\n",
              "P-value (F-stat)                    0.0000          0.0000          0.0000          0.0000         0.0000         0.0000         0.0000         0.0000\n",
              "========================     =============   =============   =============   =============   ============   ============   ============   ============\n",
              "log_scope1                         -0.0007                                                        -0.0028                                             \n",
              "                                 (-0.6628)                                                      (-1.3611)                                             \n",
              "logsize                            -0.0040         -0.0030        -0.0043*         -0.0039         0.0019         0.0020         0.0018         0.0017\n",
              "                                 (-1.4155)       (-1.3042)       (-1.7100)       (-1.5898)       (0.3414)       (0.3591)       (0.3227)       (0.3133)\n",
              "bm                              -0.0131***      -0.0125***      -0.0132***      -0.0129***     -0.0161***     -0.0156***     -0.0159***     -0.0157***\n",
              "                                 (-5.5465)       (-5.1043)       (-5.8186)       (-5.0928)      (-6.3830)      (-6.7518)      (-6.8297)      (-6.0470)\n",
              "leverage                         -0.0166**      -0.0169***      -0.0197***      -0.0184***     -0.0185***     -0.0211***     -0.0215***     -0.0252***\n",
              "                                 (-2.3262)       (-2.9555)       (-3.5174)       (-2.7708)      (-2.6267)      (-2.8977)      (-3.5669)      (-4.5171)\n",
              "mom                                 0.0192          0.0142          0.0157          0.0172        -0.0692        -0.0637        -0.0645        -0.0684\n",
              "                                  (0.2265)        (0.1678)        (0.1860)        (0.2059)      (-0.5936)      (-0.5526)      (-0.5551)      (-0.5847)\n",
              "investa                             0.0699         0.0749*         0.0767*          0.0714       0.1306**       0.1224**       0.1253**       0.1308**\n",
              "                                  (1.5718)        (1.7129)        (1.6738)        (1.6034)       (2.3154)       (2.3789)       (2.3661)       (2.3130)\n",
              "roe                             -0.0022***      -0.0023***      -0.0022***      -0.0022***     -0.0025***     -0.0026***     -0.0026***     -0.0025***\n",
              "                                 (-3.4429)       (-3.7470)       (-3.5787)       (-3.5345)      (-3.6947)      (-4.0845)      (-3.8464)      (-3.7961)\n",
              "logppe                              0.0048          0.0043          0.0062          0.0050        -0.0014        -0.0026        -0.0013        -0.0001\n",
              "                                  (1.1345)        (1.3272)        (1.5199)        (1.3538)      (-0.2084)      (-0.3848)      (-0.1943)      (-0.0159)\n",
              "beta                                0.0016          0.0016          0.0015          0.0015         0.0072         0.0066         0.0068         0.0071\n",
              "                                  (0.4950)        (0.5106)        (0.4735)        (0.4771)       (1.5040)       (1.4260)       (1.4535)       (1.5508)\n",
              "volat                               0.0010          0.0010          0.0013          0.0010         0.0004         0.0002         0.0005         0.0003\n",
              "                                  (0.2854)        (0.2737)        (0.3531)        (0.2724)       (0.1346)       (0.0483)       (0.1414)       (0.0861)\n",
              "salesgr                             0.0034          0.0032          0.0032          0.0033         0.0040         0.0042         0.0041         0.0037\n",
              "                                  (0.9138)        (0.8681)        (0.8606)        (0.9042)       (1.2846)       (1.2770)       (1.2421)       (1.1889)\n",
              "epsgr                          8.469e-05**     8.525e-05**     8.475e-05**     8.573e-05**     7.577e-05*     7.346e-05*     7.348e-05*     7.818e-05*\n",
              "                                  (2.1019)        (2.1645)        (2.1166)        (2.1097)       (1.8695)       (1.8442)       (1.8559)       (1.8897)\n",
              "log_scope2                                         -0.0016                                                       -0.0011                              \n",
              "                                                 (-1.5157)                                                     (-0.5202)                              \n",
              "log_total_emissions                                               -0.0011*                                                      -0.0013               \n",
              "                                                                 (-1.8119)                                                    (-1.1224)               \n",
              "log_energy_consumption                                                             -0.0011                                                     -0.0046\n",
              "                                                                                 (-1.2462)                                                   (-1.5088)\n",
              "========================== =============== =============== =============== =============== ============== ============== ============== ==============\n",
              "Effects                               Time            Time            Time            Time         Entity         Entity         Entity         Entity\n",
              "                                                                                                     Time           Time           Time           Time\n",
              "------------------------------------------------------------------------------------------------------------------------------------------------------\n",
              "\n",
              "T-stats reported in parentheses\n",
              "PanelModelComparison, id: 0x7fbe56b39290"
            ],
            "text/html": [
              "<table class=\"simpletable\">\n",
              "<caption>Model Comparison</caption>\n",
              "<tr>\n",
              "               <td></td>                  <th>Model 0</th>         <th>Model 1</th>         <th>Model 2</th>         <th>Model 3</th>         <th>Model 4</th>        <th>Model 5</th>        <th>Model 6</th>        <th>Model 7</th>   \n",
              "</tr>\n",
              "<tr>\n",
              "  <th>Dep. Variable</th>                    <td>ret</td>             <td>ret</td>             <td>ret</td>             <td>ret</td>             <td>ret</td>            <td>ret</td>            <td>ret</td>            <td>ret</td>     \n",
              "</tr>\n",
              "<tr>\n",
              "  <th>Estimator</th>                     <td>PanelOLS</td>        <td>PanelOLS</td>        <td>PanelOLS</td>        <td>PanelOLS</td>        <td>PanelOLS</td>       <td>PanelOLS</td>       <td>PanelOLS</td>       <td>PanelOLS</td>   \n",
              "</tr>\n",
              "<tr>\n",
              "  <th>No. Observations</th>                <td>3534</td>            <td>3534</td>            <td>3534</td>            <td>3534</td>            <td>3534</td>           <td>3534</td>           <td>3534</td>           <td>3534</td>     \n",
              "</tr>\n",
              "<tr>\n",
              "  <th>Cov. Est.</th>                     <td>Clustered</td>       <td>Clustered</td>       <td>Clustered</td>       <td>Clustered</td>       <td>Clustered</td>      <td>Clustered</td>      <td>Clustered</td>      <td>Clustered</td>  \n",
              "</tr>\n",
              "<tr>\n",
              "  <th>R-squared</th>                      <td>0.0155</td>          <td>0.0159</td>          <td>0.0161</td>          <td>0.0156</td>          <td>0.0179</td>         <td>0.0174</td>         <td>0.0178</td>         <td>0.0182</td>    \n",
              "</tr>\n",
              "<tr>\n",
              "  <th>R-Squared (Within)</th>             <td>0.0130</td>          <td>0.0133</td>          <td>0.0134</td>          <td>0.0132</td>          <td>0.0148</td>         <td>0.0144</td>         <td>0.0148</td>         <td>0.0153</td>    \n",
              "</tr>\n",
              "<tr>\n",
              "  <th>R-Squared (Between)</th>            <td>0.0943</td>          <td>0.1914</td>          <td>0.2989</td>          <td>-0.1386</td>         <td>-4.4628</td>        <td>-4.9154</td>        <td>-4.3380</td>        <td>-8.0410</td>   \n",
              "</tr>\n",
              "<tr>\n",
              "  <th>R-Squared (Overall)</th>            <td>-0.0057</td>         <td>-0.0039</td>         <td>0.0016</td>          <td>-0.0149</td>         <td>-0.1556</td>        <td>-0.1701</td>        <td>-0.1530</td>        <td>-0.2765</td>   \n",
              "</tr>\n",
              "<tr>\n",
              "  <th>F-statistic</th>                    <td>4.4181</td>          <td>4.5322</td>          <td>4.5867</td>          <td>4.4558</td>          <td>5.0828</td>         <td>4.9299</td>         <td>5.0292</td>         <td>5.1553</td>    \n",
              "</tr>\n",
              "<tr>\n",
              "  <th>P-value (F-stat)</th>               <td>0.0000</td>          <td>0.0000</td>          <td>0.0000</td>          <td>0.0000</td>          <td>0.0000</td>         <td>0.0000</td>         <td>0.0000</td>         <td>0.0000</td>    \n",
              "</tr>\n",
              "<tr>\n",
              "  <th>========================</th>    <td>=============</td>   <td>=============</td>   <td>=============</td>   <td>=============</td>   <td>============</td>   <td>============</td>   <td>============</td>   <td>============</td> \n",
              "</tr>\n",
              "<tr>\n",
              "  <th>log_scope1</th>                     <td>-0.0007</td>        <td>        </td>        <td>        </td>        <td>        </td>         <td>-0.0028</td>       <td>        </td>       <td>        </td>       <td>        </td>   \n",
              "</tr>\n",
              "<tr>\n",
              "  <th> </th>                             <td>(-0.6628)</td>       <td>        </td>        <td>        </td>        <td>        </td>        <td>(-1.3611)</td>      <td>        </td>       <td>        </td>       <td>        </td>   \n",
              "</tr>\n",
              "<tr>\n",
              "  <th>logsize</th>                        <td>-0.0040</td>         <td>-0.0030</td>        <td>-0.0043*</td>         <td>-0.0039</td>         <td>0.0019</td>         <td>0.0020</td>         <td>0.0018</td>         <td>0.0017</td>    \n",
              "</tr>\n",
              "<tr>\n",
              "  <th> </th>                             <td>(-1.4155)</td>       <td>(-1.3042)</td>       <td>(-1.7100)</td>       <td>(-1.5898)</td>       <td>(0.3414)</td>       <td>(0.3591)</td>       <td>(0.3227)</td>       <td>(0.3133)</td>   \n",
              "</tr>\n",
              "<tr>\n",
              "  <th>bm</th>                           <td>-0.0131***</td>      <td>-0.0125***</td>      <td>-0.0132***</td>      <td>-0.0129***</td>      <td>-0.0161***</td>     <td>-0.0156***</td>     <td>-0.0159***</td>     <td>-0.0157***</td>  \n",
              "</tr>\n",
              "<tr>\n",
              "  <th> </th>                             <td>(-5.5465)</td>       <td>(-5.1043)</td>       <td>(-5.8186)</td>       <td>(-5.0928)</td>       <td>(-6.3830)</td>      <td>(-6.7518)</td>      <td>(-6.8297)</td>      <td>(-6.0470)</td>  \n",
              "</tr>\n",
              "<tr>\n",
              "  <th>leverage</th>                      <td>-0.0166**</td>      <td>-0.0169***</td>      <td>-0.0197***</td>      <td>-0.0184***</td>      <td>-0.0185***</td>     <td>-0.0211***</td>     <td>-0.0215***</td>     <td>-0.0252***</td>  \n",
              "</tr>\n",
              "<tr>\n",
              "  <th> </th>                             <td>(-2.3262)</td>       <td>(-2.9555)</td>       <td>(-3.5174)</td>       <td>(-2.7708)</td>       <td>(-2.6267)</td>      <td>(-2.8977)</td>      <td>(-3.5669)</td>      <td>(-4.5171)</td>  \n",
              "</tr>\n",
              "<tr>\n",
              "  <th>mom</th>                            <td>0.0192</td>          <td>0.0142</td>          <td>0.0157</td>          <td>0.0172</td>          <td>-0.0692</td>        <td>-0.0637</td>        <td>-0.0645</td>        <td>-0.0684</td>   \n",
              "</tr>\n",
              "<tr>\n",
              "  <th> </th>                             <td>(0.2265)</td>        <td>(0.1678)</td>        <td>(0.1860)</td>        <td>(0.2059)</td>        <td>(-0.5936)</td>      <td>(-0.5526)</td>      <td>(-0.5551)</td>      <td>(-0.5847)</td>  \n",
              "</tr>\n",
              "<tr>\n",
              "  <th>investa</th>                        <td>0.0699</td>          <td>0.0749*</td>         <td>0.0767*</td>         <td>0.0714</td>         <td>0.1306**</td>       <td>0.1224**</td>       <td>0.1253**</td>       <td>0.1308**</td>   \n",
              "</tr>\n",
              "<tr>\n",
              "  <th> </th>                             <td>(1.5718)</td>        <td>(1.7129)</td>        <td>(1.6738)</td>        <td>(1.6034)</td>        <td>(2.3154)</td>       <td>(2.3789)</td>       <td>(2.3661)</td>       <td>(2.3130)</td>   \n",
              "</tr>\n",
              "<tr>\n",
              "  <th>roe</th>                          <td>-0.0022***</td>      <td>-0.0023***</td>      <td>-0.0022***</td>      <td>-0.0022***</td>      <td>-0.0025***</td>     <td>-0.0026***</td>     <td>-0.0026***</td>     <td>-0.0025***</td>  \n",
              "</tr>\n",
              "<tr>\n",
              "  <th> </th>                             <td>(-3.4429)</td>       <td>(-3.7470)</td>       <td>(-3.5787)</td>       <td>(-3.5345)</td>       <td>(-3.6947)</td>      <td>(-4.0845)</td>      <td>(-3.8464)</td>      <td>(-3.7961)</td>  \n",
              "</tr>\n",
              "<tr>\n",
              "  <th>logppe</th>                         <td>0.0048</td>          <td>0.0043</td>          <td>0.0062</td>          <td>0.0050</td>          <td>-0.0014</td>        <td>-0.0026</td>        <td>-0.0013</td>        <td>-0.0001</td>   \n",
              "</tr>\n",
              "<tr>\n",
              "  <th> </th>                             <td>(1.1345)</td>        <td>(1.3272)</td>        <td>(1.5199)</td>        <td>(1.3538)</td>        <td>(-0.2084)</td>      <td>(-0.3848)</td>      <td>(-0.1943)</td>      <td>(-0.0159)</td>  \n",
              "</tr>\n",
              "<tr>\n",
              "  <th>beta</th>                           <td>0.0016</td>          <td>0.0016</td>          <td>0.0015</td>          <td>0.0015</td>          <td>0.0072</td>         <td>0.0066</td>         <td>0.0068</td>         <td>0.0071</td>    \n",
              "</tr>\n",
              "<tr>\n",
              "  <th> </th>                             <td>(0.4950)</td>        <td>(0.5106)</td>        <td>(0.4735)</td>        <td>(0.4771)</td>        <td>(1.5040)</td>       <td>(1.4260)</td>       <td>(1.4535)</td>       <td>(1.5508)</td>   \n",
              "</tr>\n",
              "<tr>\n",
              "  <th>volat</th>                          <td>0.0010</td>          <td>0.0010</td>          <td>0.0013</td>          <td>0.0010</td>          <td>0.0004</td>         <td>0.0002</td>         <td>0.0005</td>         <td>0.0003</td>    \n",
              "</tr>\n",
              "<tr>\n",
              "  <th> </th>                             <td>(0.2854)</td>        <td>(0.2737)</td>        <td>(0.3531)</td>        <td>(0.2724)</td>        <td>(0.1346)</td>       <td>(0.0483)</td>       <td>(0.1414)</td>       <td>(0.0861)</td>   \n",
              "</tr>\n",
              "<tr>\n",
              "  <th>salesgr</th>                        <td>0.0034</td>          <td>0.0032</td>          <td>0.0032</td>          <td>0.0033</td>          <td>0.0040</td>         <td>0.0042</td>         <td>0.0041</td>         <td>0.0037</td>    \n",
              "</tr>\n",
              "<tr>\n",
              "  <th> </th>                             <td>(0.9138)</td>        <td>(0.8681)</td>        <td>(0.8606)</td>        <td>(0.9042)</td>        <td>(1.2846)</td>       <td>(1.2770)</td>       <td>(1.2421)</td>       <td>(1.1889)</td>   \n",
              "</tr>\n",
              "<tr>\n",
              "  <th>epsgr</th>                        <td>8.469e-05**</td>     <td>8.525e-05**</td>     <td>8.475e-05**</td>     <td>8.573e-05**</td>     <td>7.577e-05*</td>     <td>7.346e-05*</td>     <td>7.348e-05*</td>     <td>7.818e-05*</td>  \n",
              "</tr>\n",
              "<tr>\n",
              "  <th> </th>                             <td>(2.1019)</td>        <td>(2.1645)</td>        <td>(2.1166)</td>        <td>(2.1097)</td>        <td>(1.8695)</td>       <td>(1.8442)</td>       <td>(1.8559)</td>       <td>(1.8897)</td>   \n",
              "</tr>\n",
              "<tr>\n",
              "  <th>log_scope2</th>                    <td>        </td>         <td>-0.0016</td>        <td>        </td>        <td>        </td>        <td>        </td>        <td>-0.0011</td>       <td>        </td>       <td>        </td>   \n",
              "</tr>\n",
              "<tr>\n",
              "  <th> </th>                             <td>        </td>        <td>(-1.5157)</td>       <td>        </td>        <td>        </td>        <td>        </td>       <td>(-0.5202)</td>      <td>        </td>       <td>        </td>   \n",
              "</tr>\n",
              "<tr>\n",
              "  <th>log_total_emissions</th>           <td>        </td>        <td>        </td>        <td>-0.0011*</td>        <td>        </td>        <td>        </td>       <td>        </td>        <td>-0.0013</td>       <td>        </td>   \n",
              "</tr>\n",
              "<tr>\n",
              "  <th> </th>                             <td>        </td>        <td>        </td>        <td>(-1.8119)</td>       <td>        </td>        <td>        </td>       <td>        </td>       <td>(-1.1224)</td>      <td>        </td>   \n",
              "</tr>\n",
              "<tr>\n",
              "  <th>log_energy_consumption</th>        <td>        </td>        <td>        </td>        <td>        </td>         <td>-0.0011</td>        <td>        </td>       <td>        </td>       <td>        </td>        <td>-0.0046</td>   \n",
              "</tr>\n",
              "<tr>\n",
              "  <th> </th>                             <td>        </td>        <td>        </td>        <td>        </td>        <td>(-1.2462)</td>       <td>        </td>       <td>        </td>       <td>        </td>       <td>(-1.5088)</td>  \n",
              "</tr>\n",
              "<tr>\n",
              "  <th>==========================</th> <td>===============</td> <td>===============</td> <td>===============</td> <td>===============</td> <td>==============</td> <td>==============</td> <td>==============</td> <td>==============</td>\n",
              "</tr>\n",
              "<tr>\n",
              "  <th>Effects</th>                         <td>Time</td>            <td>Time</td>            <td>Time</td>            <td>Time</td>           <td>Entity</td>         <td>Entity</td>         <td>Entity</td>         <td>Entity</td>    \n",
              "</tr>\n",
              "<tr>\n",
              "  <th></th>                                  <td></td>                <td></td>                <td></td>                <td></td>              <td>Time</td>           <td>Time</td>           <td>Time</td>           <td>Time</td>     \n",
              "</tr>\n",
              "</table><br/><br/>T-stats reported in parentheses<br/>id: 0x7fbe56b39290"
            ]
          },
          "metadata": {}
        }
      ]
    }
  ]
}