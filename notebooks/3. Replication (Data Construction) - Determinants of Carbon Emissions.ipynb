{
 "cells": [
  {
   "cell_type": "code",
   "execution_count": null,
   "id": "215d4a27",
   "metadata": {},
   "outputs": [],
   "source": [
    "import os\n",
    "import pandas as pd\n",
    "import numpy as np"
   ]
  },
  {
   "cell_type": "code",
   "execution_count": null,
   "id": "efd7af75",
   "metadata": {},
   "outputs": [],
   "source": [
    "working_directory = 'C:/cnolan-thesis/' #set location using back slashes\n",
    "\n",
    "os.chdir(working_directory)\n",
    "\n",
    "print(\"Current working directory: {0}\".format(os.getcwd()))\n",
    "\n",
    "\n",
    "def createFolder(directory):\n",
    "    try:\n",
    "        if not os.path.exists(directory):\n",
    "            os.makedirs(directory)\n",
    "            output_path = os.makedirs(directory)\n",
    "            print(output_path)\n",
    "    except OSError:\n",
    "        print ('Error: Creating directory. ' +  directory)\n",
    "        \n",
    "\n",
    "# Folder where outputs will be saved (by default a folder within the working directory) \n",
    "createFolder('./output/') \n",
    "output_path = working_directory +'./output/'\n"
   ]
  },
  {
   "cell_type": "code",
   "execution_count": null,
   "id": "eb3ae95d",
   "metadata": {},
   "outputs": [],
   "source": [
    "final_data_all_vars = final_data.dropna(how = 'any',subset=['log_scope1', 'log_scope2', 'log_total_emissions', 'log_energy_consumption', 'change_scope1', 'change_scope2', 'change_total_emissions', 'change_energy_consumption', 'scope1_int', 'scope2_int', 'total_emissions_int', 'energy_consumption_int', 'logsize', 'bm', 'roe', 'leverage', 'investa', 'logppe', 'salesgr', 'epsgr'])\n",
    "final_data_all_vars = final_data_all_vars.reset_index(drop=True)\n",
    "\n",
    "final_data_all_determinants = final_data.dropna(how = 'any',subset= ['logsize', 'bm', 'roe', 'leverage', 'investa', 'logppe', 'salesgr', 'epsgr'])\n",
    "final_data_all_determinants = final_data_all_determinants.dropna(how='all',subset=['log_scope1', 'log_scope2', 'log_total_emissions', 'log_energy_consumption', 'change_scope1', 'change_scope2', 'change_total_emissions', 'change_energy_consumption', 'scope1_int', 'scope2_int', 'total_emissions_int', 'energy_consumption_int'])\n",
    "final_data_all_determinants = final_data_all_determinants.reset_index(drop=True)"
   ]
  },
  {
   "cell_type": "markdown",
   "id": "34210227",
   "metadata": {},
   "source": [
    "# Observations with no missing values"
   ]
  },
  {
   "cell_type": "code",
   "execution_count": null,
   "id": "571d0b85",
   "metadata": {},
   "outputs": [],
   "source": [
    "print('Number of Observations:')\n",
    "print (len(final_data_all_vars))\n",
    "\n",
    "with pd.option_context('display.max_rows', None, 'display.max_columns', None):\n",
    "    display(final_data_all_vars)\n"
   ]
  },
  {
   "cell_type": "markdown",
   "id": "3d8b3dc9",
   "metadata": {},
   "source": [
    "# Observations with no determinant values"
   ]
  },
  {
   "cell_type": "markdown",
   "id": "7cf65459",
   "metadata": {},
   "source": [
    "I.E some missing carbon variables within the firm year observation"
   ]
  },
  {
   "cell_type": "code",
   "execution_count": null,
   "id": "04937500",
   "metadata": {},
   "outputs": [],
   "source": [
    "print('Number of Observations:')\n",
    "print (len(final_data_all_determinants))\n",
    "\n",
    "with pd.option_context('display.max_rows', None, 'display.max_columns', None):\n",
    "    display(final_data_all_determinants)"
   ]
  },
  {
   "cell_type": "code",
   "execution_count": null,
   "id": "367c98c7",
   "metadata": {},
   "outputs": [],
   "source": []
  }
 ],
 "metadata": {
  "kernelspec": {
   "display_name": "Python 3 (Spyder)",
   "language": "python3",
   "name": "python3"
  },
  "language_info": {
   "codemirror_mode": {
    "name": "ipython",
    "version": 3
   },
   "file_extension": ".py",
   "mimetype": "text/x-python",
   "name": "python",
   "nbconvert_exporter": "python",
   "pygments_lexer": "ipython3",
   "version": "3.9.7"
  }
 },
 "nbformat": 4,
 "nbformat_minor": 5
}
