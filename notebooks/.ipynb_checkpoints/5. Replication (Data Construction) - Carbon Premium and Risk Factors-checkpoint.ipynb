{
 "cells": [
  {
   "cell_type": "code",
   "execution_count": 1,
   "id": "c43a1619",
   "metadata": {},
   "outputs": [
    {
     "name": "stdout",
     "output_type": "stream",
     "text": [
      "Imported Modules\n"
     ]
    }
   ],
   "source": [
    "import os\n",
    "import pandas as pd\n",
    "import numpy as np\n",
    "\n",
    "print(\"Imported Modules\")"
   ]
  },
  {
   "cell_type": "code",
   "execution_count": 2,
   "id": "6ebec8c6",
   "metadata": {},
   "outputs": [
    {
     "name": "stdout",
     "output_type": "stream",
     "text": [
      "Current working directory: C:\\PythonWD\n",
      "Import Modules: Done\n"
     ]
    }
   ],
   "source": [
    "'''\n",
    "SET THE WORKING DIRECTORY BELOW TO THE LOCATION OF DATA FILES\n",
    "'''\n",
    "working_directory = 'C:/PythonWD' #set location using back slashes\n",
    "\n",
    "os.chdir(working_directory)\n",
    "\n",
    "print(\"Current working directory: {0}\".format(os.getcwd()))\n",
    "\n",
    "\n",
    "def createFolder(directory):\n",
    "    try:\n",
    "        if not os.path.exists(directory):\n",
    "            os.makedirs(directory)\n",
    "            output_path = os.makedirs(directory)\n",
    "            print(output_path)\n",
    "    except OSError:\n",
    "        print ('Error: Creating directory. ' +  directory)\n",
    "        \n",
    "\n",
    "# Folder where outputs will be saved (by default a folder within the working directory) \n",
    "createFolder('./output/') \n",
    "output_path = 'C:/PythonWD/output/'\n",
    "\n",
    "print('Import Modules: Done')"
   ]
  },
  {
   "cell_type": "code",
   "execution_count": 3,
   "id": "e4f15a50",
   "metadata": {},
   "outputs": [
    {
     "data": {
      "text/plain": [
       "'\\nCarbon premium and risk factors\\n\\nReplication of Table 10: Can the carbon premium be explained by risk factors?\\n\\na 1 ,t = c 0 + c F t + ε t ,\\n\\nTime series variables:\\n\\nα = monthly carbon premium estimated in cross-sectional returns regression\\n\\nMKTRF is the monthly return on the value-weighted stock market net of the risk-free rate\\nHML is the monthly return on the portfolio long value stocks and short growth stocks\\nSMB is the monthly return on the portfolio long small-cap stocks and short, large-cap stocks\\nMOM is the monthly return on the portfolio long 12-month stock winners and short 12-month past losers\\nCMA is the monthly return of a portfolio that is long on conservative investment stocks and short on aggressive investment stocks\\nBAB is the monthly return of a portfolio that is long on low-beta stocks and short on high-beta stocks\\nLIQ is the liquidity factor of Pastor and Stambaugh\\nNET ISSUANCE is the monthly return of a portfolio that is long on high-net-issuance stocks and short on low-net-issuance stocks. Net issuance for year t is the change in the natural log of split-adjusted shares outstanding from the fiscal yearend in t -2 to the fiscal yearend in t -1\\nIDIO VOL is the monthly return of a portfolio that is long on low idiosyncratic volatility stocks and short on high idiosyncratic volatility stocks.\\n\\n   \\n'"
      ]
     },
     "execution_count": 3,
     "metadata": {},
     "output_type": "execute_result"
    }
   ],
   "source": [
    "'''\n",
    "Carbon premium and risk factors\n",
    "\n",
    "Replication of Table 10: Can the carbon premium be explained by risk factors?\n",
    "\n",
    "a 1 ,t = c 0 + c F t + ε t ,\n",
    "\n",
    "Time series variables:\n",
    "\n",
    "α = monthly carbon premium estimated in cross-sectional returns regression\n",
    "\n",
    "MKTRF is the monthly return on the value-weighted stock market net of the risk-free rate\n",
    "HML is the monthly return on the portfolio long value stocks and short growth stocks\n",
    "SMB is the monthly return on the portfolio long small-cap stocks and short, large-cap stocks\n",
    "MOM is the monthly return on the portfolio long 12-month stock winners and short 12-month past losers\n",
    "CMA is the monthly return of a portfolio that is long on conservative investment stocks and short on aggressive investment stocks\n",
    "BAB is the monthly return of a portfolio that is long on low-beta stocks and short on high-beta stocks\n",
    "LIQ is the liquidity factor of Pastor and Stambaugh\n",
    "NET ISSUANCE is the monthly return of a portfolio that is long on high-net-issuance stocks and short on low-net-issuance stocks. Net issuance for year t is the change in the natural log of split-adjusted shares outstanding from the fiscal yearend in t -2 to the fiscal yearend in t -1\n",
    "IDIO VOL is the monthly return of a portfolio that is long on low idiosyncratic volatility stocks and short on high idiosyncratic volatility stocks.\n",
    "\n",
    "   \n",
    "'''"
   ]
  },
  {
   "cell_type": "code",
   "execution_count": 4,
   "id": "69fa2b0e",
   "metadata": {},
   "outputs": [],
   "source": [
    "\"MKTRF\"\n",
    "\n",
    "#import zero coupon 0 year (1 month) RBA yield data (risk free rate)\n",
    "#SOURCE RBA, Mnemonic = FZCY0D, ZERO-COUPON INTEREST RATES (YIELD)\n",
    "rf = pd.read_csv ('rba_1m_yield.csv', encoding='latin1')\n",
    "\n",
    "#import ASX ALL ORDS price data\n",
    "rm = pd.read_csv ('asx_all_ords.csv', encoding='latin1')\n",
    "\n",
    "\n",
    "#get monthly yields\n",
    "rf['date'] = pd.to_datetime(rf['date'], format='%d-%b-%Y')\n",
    "rf = rf.set_index(['date'])\n",
    "rf = rf.resample('M').mean()\n",
    "rf = rf.loc['2008-07':'2022-06'] #sample period \n",
    "rf = rf.reset_index()\n",
    "rf['year'] = rf['date'].dt.strftime('%Y')\n",
    "rf['month'] = rf['date'].dt.strftime('%m')\n",
    "\n",
    "#get monthly ASX_ORDS returns\n",
    "rm['date'] = pd.to_datetime(rm['date'], format='%d/%m/%Y')\n",
    "rm = rm.set_index(['date'])\n",
    "rm = rm.resample('M').ffill()\n",
    "rm['price_lag'] = rm['ASX ALL ORDINARIES - PRICE INDEX'].shift(1)\n",
    "rm['rm'] = (rm['ASX ALL ORDINARIES - PRICE INDEX']/rm['price_lag']) - 1\n",
    "rm = rm.loc['2008-07':'2022-06']\n",
    "rm = rm.reset_index()\n",
    "rm['year'] = rm['date'].dt.strftime('%Y')\n",
    "rm['month'] = rm['date'].dt.strftime('%m')\n",
    "\n",
    "\n",
    "mktrf = pd.merge (rf[['year', 'month','zero_coupon_yield_0yrs']], rm[['year', 'month','rm']], on = ['year','month'], how = 'inner')\n",
    "mktrf['zero_coupon_yield_0yrs'] = mktrf['zero_coupon_yield_0yrs'] / 100\n",
    "mktrf['mktrf'] = mktrf['rm'] - mktrf['zero_coupon_yield_0yrs']"
   ]
  },
  {
   "cell_type": "code",
   "execution_count": 5,
   "id": "b961dd1c",
   "metadata": {},
   "outputs": [
    {
     "data": {
      "text/plain": [
       "'\\nBE/ME - The portfolio HML (high minus low). meant to mimic the risk\\nfactor in returns related to book-to-market equity, is defined similarly. HML is\\nthe difference, each month, between the simple average of the returns on the two\\nhigh-BE/ME portfolios (S/H and B/H) and the average of the returns on the two\\nlow- BE/ME portfolios (S/L and B/L). The two components of HML are returns\\non high- and low-BE/ME portfolios with about the same weighted-average size.\\nThus the difference between the two returns should be largely free of the size\\nfactor in returns, focusing instead on the different return behaviors of high- and\\nlow-BE/ME firms.\\n\\nGet S/H, B/H, S/L, B/L\\n'"
      ]
     },
     "execution_count": 5,
     "metadata": {},
     "output_type": "execute_result"
    }
   ],
   "source": [
    "\"HML\"\n",
    "\n",
    "'''\n",
    "BE/ME - The portfolio HML (high minus low). meant to mimic the risk\n",
    "factor in returns related to book-to-market equity, is defined similarly. HML is\n",
    "the difference, each month, between the simple average of the returns on the two\n",
    "high-BE/ME portfolios (S/H and B/H) and the average of the returns on the two\n",
    "low- BE/ME portfolios (S/L and B/L). The two components of HML are returns\n",
    "on high- and low-BE/ME portfolios with about the same weighted-average size.\n",
    "Thus the difference between the two returns should be largely free of the size\n",
    "factor in returns, focusing instead on the different return behaviors of high- and\n",
    "low-BE/ME firms.\n",
    "\n",
    "Get S/H, B/H, S/L, B/L\n",
    "'''"
   ]
  }
 ],
 "metadata": {
  "kernelspec": {
   "display_name": "Python 3 (Spyder)",
   "language": "python3",
   "name": "python3"
  },
  "language_info": {
   "codemirror_mode": {
    "name": "ipython",
    "version": 3
   },
   "file_extension": ".py",
   "mimetype": "text/x-python",
   "name": "python",
   "nbconvert_exporter": "python",
   "pygments_lexer": "ipython3",
   "version": "3.9.7"
  }
 },
 "nbformat": 4,
 "nbformat_minor": 5
}
