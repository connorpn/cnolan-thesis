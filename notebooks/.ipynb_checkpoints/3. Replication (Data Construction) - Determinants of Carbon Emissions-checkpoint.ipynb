{
 "cells": [
  {
   "cell_type": "code",
   "execution_count": null,
   "id": "10d4c8e4",
   "metadata": {},
   "outputs": [],
   "source": [
    "import os\n",
    "import pandas as pd\n",
    "import numpy as np"
   ]
  },
  {
   "cell_type": "code",
   "execution_count": null,
   "id": "756b7169",
   "metadata": {},
   "outputs": [],
   "source": [
    "working_directory = 'C:/cnolan-thesis/' #set location using back slashes\n",
    "\n",
    "os.chdir(working_directory)\n",
    "\n",
    "print(\"Current working directory: {0}\".format(os.getcwd()))\n",
    "\n",
    "\n",
    "def createFolder(directory):\n",
    "    try:\n",
    "        if not os.path.exists(directory):\n",
    "            os.makedirs(directory)\n",
    "            output_path = os.makedirs(directory)\n",
    "            print(output_path)\n",
    "    except OSError:\n",
    "        print ('Error: Creating directory. ' +  directory)\n",
    "        \n",
    "\n",
    "# Folder where outputs will be saved (by default a folder within the working directory) \n",
    "createFolder('./output/') \n",
    "output_path = working_directory +'./output/'\n"
   ]
  },
  {
   "cell_type": "code",
   "execution_count": null,
   "id": "766839e6",
   "metadata": {},
   "outputs": [],
   "source": [
    "main_data_determinants = pd.merge(morningstar_data[['ticker', 'morningstar_name', 'year', 'capex', 'eoy_price', 'eps', 'ltdebt', 'marketcap', 'ppe', 'revenue', 'roe', 'stdebt', 'assets', 'liabilities']],\n",
    "                                  matched_ngerdata[['year', 'nger_name', 'scope1', 'scope2', 'energy_consumption', 'total_emissions', 'morningstar_name', 'match_score', 'ticker']],\n",
    "                                  on = ['ticker','year'],\n",
    "                                  how = 'left')"
   ]
  },
  {
   "cell_type": "code",
   "execution_count": null,
   "id": "021ccdc5",
   "metadata": {},
   "outputs": [],
   "source": []
  },
  {
   "cell_type": "code",
   "execution_count": null,
   "id": "5759eb2c",
   "metadata": {},
   "outputs": [],
   "source": [
    "\"Construct Dependent Variables\"\n",
    "\n",
    "\"Construct Log(emissions)\"\n",
    "\n",
    "#log scope1, scope2, total_emissions, and energy consumption\n",
    "main_data_determinants['log_scope1'] = np.log(main_data_determinants['scope1'])\n",
    "main_data_determinants['log_scope2'] = np.log(main_data_determinants['scope2'])\n",
    "main_data_determinants['log_total_emissions'] = np.log(main_data_determinants['total_emissions'])\n",
    "main_data_determinants['log_energy_consumption'] = np.log(main_data_determinants['energy_consumption'])\n",
    "\n",
    "\"Construct year by year change in emissions\"\n",
    "\n",
    "#get a list of unique company names\n",
    "unique_firms_main_data_determinants = (main_data_determinants['ticker'].unique())\n",
    "\n",
    "#clone each unique company for each observation year (2009-2021)\n",
    "firms_2009 = pd.DataFrame({'ticker':unique_firms_main_data_determinants, 'year': '2009'})\n",
    "firms_2010 = pd.DataFrame({'ticker':unique_firms_main_data_determinants, 'year': '2010'})\n",
    "firms_2011 = pd.DataFrame({'ticker':unique_firms_main_data_determinants, 'year': '2011'})\n",
    "firms_2012 = pd.DataFrame({'ticker':unique_firms_main_data_determinants, 'year': '2012'})\n",
    "firms_2013 = pd.DataFrame({'ticker':unique_firms_main_data_determinants, 'year': '2013'})\n",
    "firms_2014 = pd.DataFrame({'ticker':unique_firms_main_data_determinants, 'year': '2014'})\n",
    "firms_2015 = pd.DataFrame({'ticker':unique_firms_main_data_determinants, 'year': '2015'})\n",
    "firms_2016 = pd.DataFrame({'ticker':unique_firms_main_data_determinants, 'year': '2016'})\n",
    "firms_2017 = pd.DataFrame({'ticker':unique_firms_main_data_determinants, 'year': '2017'})\n",
    "firms_2018 = pd.DataFrame({'ticker':unique_firms_main_data_determinants, 'year': '2018'})\n",
    "firms_2019 = pd.DataFrame({'ticker':unique_firms_main_data_determinants, 'year': '2019'})\n",
    "firms_2020 = pd.DataFrame({'ticker':unique_firms_main_data_determinants, 'year': '2020'})\n",
    "firms_2021 = pd.DataFrame({'ticker':unique_firms_main_data_determinants, 'year': '2021'})\n",
    "\n",
    "#create dataframe to add all cloned firm years\n",
    "firms_allyears = pd.DataFrame(columns = ['ticker', 'year'])\n",
    "\n",
    "#add all clone firm year dataframes to a list\n",
    "firm_years_list = [firms_2009, firms_2010, firms_2011, firms_2012, firms_2013, firms_2014, firms_2015, firms_2016, firms_2017, firms_2018, firms_2019, firms_2020, firms_2021]\n",
    "\n",
    "#concatenate dataframes\n",
    "firms_allyears = pd.concat(firm_years_list)\n",
    "\n",
    "#convert year column to date time format\n",
    "firms_allyears['year'] =  pd.to_datetime(firms_allyears['year'], format='%Y').dt.to_period(\"Y\")\n",
    "\n",
    "#create dummy level index\n",
    "main_data_determinants[\"dummy_index\"] = main_data_determinants[\"dummy_index\"] = 1\n",
    "firms_allyears['dummy_index'] = firms_allyears['dummy_index'] = 2\n",
    "\n",
    "#concenate cloned firm years with main data file\n",
    "main_data_determinants = pd.concat([main_data_determinants, firms_allyears])\n",
    "\n",
    "#sort dataframe by corporation name and year\n",
    "main_data_determinants = main_data_determinants.sort_values(by=['ticker', 'year','dummy_index'])\n",
    "\n",
    "#drop duplicates keeping first row (main  data file) as by dummy_index sorting\n",
    "main_data_determinants = main_data_determinants.drop_duplicates(['ticker', 'year'], keep='first')\n",
    "\n",
    "#sort dataframe by ticker and year\n",
    "main_data_determinants = main_data_determinants.sort_values(by=['ticker', 'year'])\n",
    "\n",
    "#calculate yearly change in emissions by corporation for scope1, scope2, total_emissions, and energy consumption\n",
    "main_data_determinants['change_scope1'] = main_data_determinants.groupby(['ticker'])['scope1'].diff()\n",
    "main_data_determinants['change_scope2'] = main_data_determinants.groupby(['ticker'])['scope2'].diff()\n",
    "main_data_determinants['change_total_emissions'] = main_data_determinants.groupby(['ticker'])['total_emissions'].diff()\n",
    "main_data_determinants['change_energy_consumption'] = main_data_determinants.groupby(['ticker'])['energy_consumption'].diff()\n",
    "\n",
    "\"Construct Intensity (Emissions)\"\n",
    "\n",
    "## int = (tons CO 2 e/AUD m.)\n",
    "main_data_determinants['revenue(m)'] = main_data_determinants['revenue'] / 1000000\n",
    "main_data_determinants['scope1_int'] = main_data_determinants['scope1'] /  main_data_determinants['revenue(m)']\n",
    "main_data_determinants['scope2_int'] = main_data_determinants['scope2'] /  main_data_determinants['revenue(m)']\n",
    "main_data_determinants['total_emissions_int'] = main_data_determinants['total_emissions'] /  main_data_determinants['revenue(m)']\n",
    "main_data_determinants['energy_consumption_int'] = main_data_determinants['energy_consumption'] / main_data_determinants['revenue(m)']"
   ]
  },
  {
   "cell_type": "code",
   "execution_count": null,
   "id": "c463bf18",
   "metadata": {},
   "outputs": [],
   "source": [
    "\"Construct Control Variables\"\n",
    "\n",
    "#LOGSIZE\n",
    "main_data_determinants['logsize'] = np.log(main_data_determinants['marketcap'])\n",
    "\n",
    "#B/M\n",
    "main_data_determinants['bm'] = (main_data_determinants['assets'] - main_data_determinants['liabilities']) / main_data_determinants['marketcap']\n",
    "\n",
    "#ROE (already exisits 'roe')\n",
    "\n",
    "#LEVERAGE\n",
    "main_data_determinants['totaldebt'] = main_data_determinants.stdebt.fillna(0) + main_data_determinants.ltdebt.fillna(0) #calculate total debt, skipping nan values (this means total debt can be constructed from ltdebt, stdebt, or both)\n",
    "main_data_determinants['leverage'] = main_data_determinants.totaldebt / main_data_determinants.assets #calculate leverage\n",
    "\n",
    "#INVEST/A\n",
    "main_data_determinants['investa'] = main_data_determinants.capex / main_data_determinants.assets\n",
    "\n",
    "#HHI\n",
    "#HHI WILL NOT BE INCLUDED DUE TO ABSENCE OF SEGEMENTED BUSINESS REVENUES\n",
    "\n",
    "#LOGPPE\n",
    "main_data_determinants['logppe'] = np.log(main_data_determinants['ppe'])\n",
    "\n",
    "#SALESGR\n",
    "main_data_determinants = main_data_determinants.sort_values(by=['ticker', 'year']) #sort dataframe by ticker and year\n",
    "main_data_determinants['revenue_change'] = main_data_determinants.groupby(['ticker'])['revenue'].diff() #calculate yearly change in revenue by firm\n",
    "main_data_determinants['salesgr'] = main_data_determinants.revenue_change / main_data_determinants.marketcap #salesgr = change in annual revenue normailzed by marketcap\n",
    "\n",
    "#EPSGR \n",
    "main_data_determinants = main_data_determinants.sort_values(by=['ticker', 'year']) #sort dataframe by ticker and year\n",
    "main_data_determinants['eps_change'] = main_data_determinants.groupby(['ticker'])['eps'].diff() #calculate yearly change in eps by firm\n",
    "main_data_determinants['epsgr'] = main_data_determinants.eps_change / main_data_determinants.eoy_price\n",
    "\n",
    "main_data_determinants = main_data_determinants.dropna(axis=0, how= 'any', subset=['match_score'])\n",
    "\n",
    "final_data = main_data_determinants.loc[(main_data_determinants['year'] >= '2009') & (main_data_determinants['year'] <= '2021')]\n",
    "final_data = final_data[['ticker', 'morningstar_name_x', 'year', 'log_scope1', 'log_scope2', 'log_total_emissions', 'log_energy_consumption', 'change_scope1', 'change_scope2', 'change_total_emissions', 'change_energy_consumption', 'scope1_int', 'scope2_int', 'total_emissions_int', 'energy_consumption_int', 'logsize', 'bm', 'roe','leverage', 'investa', 'logppe', 'salesgr', 'epsgr']]\n",
    "final_data = final_data.sort_values(by=['ticker', 'year']).reset_index(drop=True)\n"
   ]
  },
  {
   "cell_type": "code",
   "execution_count": null,
   "id": "e32cbb0f",
   "metadata": {},
   "outputs": [],
   "source": [
    "final_data_all_vars = final_data.dropna(how = 'any',subset=['log_scope1', 'log_scope2', 'log_total_emissions', 'log_energy_consumption', 'change_scope1', 'change_scope2', 'change_total_emissions', 'change_energy_consumption', 'scope1_int', 'scope2_int', 'total_emissions_int', 'energy_consumption_int', 'logsize', 'bm', 'roe', 'leverage', 'investa', 'logppe', 'salesgr', 'epsgr'])\n",
    "final_data_all_vars = final_data_all_vars.reset_index(drop=True)\n",
    "\n",
    "final_data_all_determinants = final_data.dropna(how = 'any',subset= ['logsize', 'bm', 'roe', 'leverage', 'investa', 'logppe', 'salesgr', 'epsgr'])\n",
    "final_data_all_determinants = final_data_all_determinants.dropna(how='all',subset=['log_scope1', 'log_scope2', 'log_total_emissions', 'log_energy_consumption', 'change_scope1', 'change_scope2', 'change_total_emissions', 'change_energy_consumption', 'scope1_int', 'scope2_int', 'total_emissions_int', 'energy_consumption_int'])\n",
    "final_data_all_determinants = final_data_all_determinants.reset_index(drop=True)"
   ]
  },
  {
   "cell_type": "markdown",
   "id": "7f184a26",
   "metadata": {},
   "source": [
    "# Observations with no missing values"
   ]
  },
  {
   "cell_type": "code",
   "execution_count": null,
   "id": "50265a6b",
   "metadata": {},
   "outputs": [],
   "source": [
    "print('Number of Observations:')\n",
    "print (len(final_data_all_vars))\n",
    "\n",
    "with pd.option_context('display.max_rows', None, 'display.max_columns', None):\n",
    "    display(final_data_all_vars)\n"
   ]
  },
  {
   "cell_type": "markdown",
   "id": "142bb4da",
   "metadata": {},
   "source": [
    "# Observations with no determinant values"
   ]
  },
  {
   "cell_type": "markdown",
   "id": "875006fb",
   "metadata": {},
   "source": [
    "I.E some missing carbon variables within the firm year observation"
   ]
  },
  {
   "cell_type": "code",
   "execution_count": null,
   "id": "fb271f6f",
   "metadata": {},
   "outputs": [],
   "source": [
    "print('Number of Observations:')\n",
    "print (len(final_data_all_determinants))\n",
    "\n",
    "with pd.option_context('display.max_rows', None, 'display.max_columns', None):\n",
    "    display(final_data_all_determinants)"
   ]
  },
  {
   "cell_type": "code",
   "execution_count": null,
   "id": "1d83b316",
   "metadata": {},
   "outputs": [],
   "source": []
  }
 ],
 "metadata": {
  "kernelspec": {
   "display_name": "Python 3 (Spyder)",
   "language": "python3",
   "name": "python3"
  },
  "language_info": {
   "codemirror_mode": {
    "name": "ipython",
    "version": 3
   },
   "file_extension": ".py",
   "mimetype": "text/x-python",
   "name": "python",
   "nbconvert_exporter": "python",
   "pygments_lexer": "ipython3",
   "version": "3.9.7"
  }
 },
 "nbformat": 4,
 "nbformat_minor": 5
}
