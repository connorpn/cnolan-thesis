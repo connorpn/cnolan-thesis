{
 "cells": [
  {
   "cell_type": "code",
   "execution_count": null,
   "id": "11b65b95",
   "metadata": {},
   "outputs": [],
   "source": [
    "import os\n",
    "import pandas as pd\n",
    "import numpy as np\n",
    "\n",
    "print(\"Imported Modules\")"
   ]
  },
  {
   "cell_type": "code",
   "execution_count": null,
   "id": "bfde875d",
   "metadata": {},
   "outputs": [],
   "source": [
    "\"SET THE WORKING DIRECTORY BELOW TO THE LOCATION OF DATA FILES\"\n",
    "\n",
    "working_directory = 'C:/Users/conno/OneDrive/University Study/Honours Thesis/cnolan-thesis' #set location using back slashes\n",
    "\n",
    "os.chdir(working_directory)\n",
    "\n",
    "print(\"Current working directory: {0}\".format(os.getcwd()))\n",
    "\n",
    "\n",
    "def createFolder(directory):\n",
    "    try:\n",
    "        if not os.path.exists(directory):\n",
    "            os.makedirs(directory)\n",
    "            output_path = os.makedirs(directory)\n",
    "            print(output_path)\n",
    "    except OSError:\n",
    "        print ('Error: Creating directory. ' +  directory)\n",
    "        \n",
    "\n",
    "# Folder where outputs will be saved (by default a folder within the working directory) \n",
    "createFolder('./output/') \n",
    "output_path = working_directory +'./output/'\n",
    "\n",
    "print('Set WD: Done')"
   ]
  },
  {
   "cell_type": "code",
   "execution_count": null,
   "id": "79435c3e",
   "metadata": {},
   "outputs": [],
   "source": [
    "'''\n",
    "Carbon premium and risk factors\n",
    "\n",
    "Replication of Table 10: Can the carbon premium be explained by risk factors?\n",
    "\n",
    "a 1 ,t = c 0 + c F t + ε t ,\n",
    "\n",
    "Time series variables:\n",
    "\n",
    "α = monthly carbon premium estimated in cross-sectional returns regression\n",
    "\n",
    "MKTRF is the monthly return on the value-weighted stock market net of the risk-free rate\n",
    "HML is the monthly return on the portfolio long value stocks and short growth stocks\n",
    "SMB is the monthly return on the portfolio long small-cap stocks and short, large-cap stocks\n",
    "MOM is the monthly return on the portfolio long 12-month stock winners and short 12-month past losers\n",
    "CMA is the monthly return of a portfolio that is long on conservative investment stocks and short on aggressive investment stocks\n",
    "BAB is the monthly return of a portfolio that is long on low-beta stocks and short on high-beta stocks\n",
    "LIQ is the liquidity factor of Pastor and Stambaugh\n",
    "NET ISSUANCE is the monthly return of a portfolio that is long on high-net-issuance stocks and short on low-net-issuance stocks. Net issuance for year t is the change in the natural log of split-adjusted shares outstanding from the fiscal yearend in t -2 to the fiscal yearend in t -1\n",
    "IDIO VOL is the monthly return of a portfolio that is long on low idiosyncratic volatility stocks and short on high idiosyncratic volatility stocks.\n",
    "\n",
    "   \n",
    "'''"
   ]
  },
  {
   "cell_type": "code",
   "execution_count": null,
   "id": "4c5f45bc",
   "metadata": {},
   "outputs": [],
   "source": [
    "\"import data\"\n"
   ]
  },
  {
   "cell_type": "code",
   "execution_count": null,
   "id": "bbf5e33e",
   "metadata": {},
   "outputs": [],
   "source": []
  }
 ],
 "metadata": {
  "kernelspec": {
   "display_name": "Python 3 (Spyder)",
   "language": "python3",
   "name": "python3"
  },
  "language_info": {
   "codemirror_mode": {
    "name": "ipython",
    "version": 3
   },
   "file_extension": ".py",
   "mimetype": "text/x-python",
   "name": "python",
   "nbconvert_exporter": "python",
   "pygments_lexer": "ipython3",
   "version": "3.10.6"
  }
 },
 "nbformat": 4,
 "nbformat_minor": 5
}
