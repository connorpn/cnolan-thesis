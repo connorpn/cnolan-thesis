{
 "cells": [
  {
   "cell_type": "code",
   "execution_count": 2,
   "id": "fd70be81",
   "metadata": {},
   "outputs": [],
   "source": [
    "from nbformat import read, write\n",
    "\n",
    "def strip_output(nb):\n",
    "    for cell in nb.cells:\n",
    "        if hasattr(cell, \"outputs\"):\n",
    "            cell.outputs = []\n",
    "        if hasattr(cell, \"prompt_number\"):\n",
    "            del cell[\"prompt_number\"]\n",
    "\n",
    "nb = read(open(\"1. Collate Data.ipynb\"), 4)\n",
    "strip_output(nb)\n",
    "write(nb, open(\"1. Collate Data_cleared.ipynb\", \"w\"), 4)\n",
    "\n"
   ]
  },
  {
   "cell_type": "code",
   "execution_count": null,
   "id": "ef5dbbc4",
   "metadata": {},
   "outputs": [],
   "source": []
  }
 ],
 "metadata": {
  "kernelspec": {
   "display_name": "Python 3 (ipykernel)",
   "language": "python",
   "name": "python3"
  },
  "language_info": {
   "codemirror_mode": {
    "name": "ipython",
    "version": 3
   },
   "file_extension": ".py",
   "mimetype": "text/x-python",
   "name": "python",
   "nbconvert_exporter": "python",
   "pygments_lexer": "ipython3",
   "version": "3.9.13"
  }
 },
 "nbformat": 4,
 "nbformat_minor": 5
}
