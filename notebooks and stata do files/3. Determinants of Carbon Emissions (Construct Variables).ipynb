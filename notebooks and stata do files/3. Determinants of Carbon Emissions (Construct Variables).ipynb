{
 "cells": [
  {
   "cell_type": "code",
   "execution_count": null,
   "id": "2ce60ca3",
   "metadata": {},
   "outputs": [],
   "source": [
    "import os\n",
    "import pandas as pd\n",
    "import numpy as np"
   ]
  },
  {
   "cell_type": "code",
   "execution_count": null,
   "id": "64a30b43",
   "metadata": {},
   "outputs": [],
   "source": [
    "\"SET THE WORKING DIRECTORY BELOW TO THE LOCATION OF DATA FILES\"\n",
    "\n",
    "working_directory = 'C:/Users/conno/OneDrive/University Study/Honours Thesis/cnolan-thesis' #set location using back slashes\n",
    "\n",
    "os.chdir(working_directory)\n",
    "\n",
    "print(\"Current working directory: {0}\".format(os.getcwd()))\n",
    "\n",
    "\n",
    "def createFolder(directory):\n",
    "    try:\n",
    "        if not os.path.exists(directory):\n",
    "            os.makedirs(directory)\n",
    "            output_path = os.makedirs(directory)\n",
    "            print(output_path)\n",
    "    except OSError:\n",
    "        print ('Error: Creating directory. ' +  directory)\n",
    "        \n",
    "\n",
    "# Folder where outputs will be saved (by default a folder within the working directory) \n",
    "createFolder('./output/') \n",
    "output_path = working_directory +'./output/'\n",
    "\n",
    "print('Set WD: Done')"
   ]
  },
  {
   "cell_type": "markdown",
   "id": "ee15b907",
   "metadata": {},
   "source": [
    "# Import Data"
   ]
  },
  {
   "cell_type": "code",
   "execution_count": null,
   "id": "5cf77cc2",
   "metadata": {},
   "outputs": [],
   "source": [
    "nger_data_matched = pd.read_csv('https://raw.githubusercontent.com/connorpn/cnolan-thesis/main/output/nger_data_matched.csv',encoding = \"ISO-8859-1\")\n",
    "ms_data = pd.read_csv ('https://raw.githubusercontent.com/connorpn/cnolan-thesis/main/output/ms_data.csv', encoding='latin1')\n",
    "ds_industry = pd.read_csv ('https://raw.githubusercontent.com/connorpn/cnolan-thesis/main/data/ds_ticker_industry.csv')"
   ]
  },
  {
   "cell_type": "markdown",
   "id": "45896fa3",
   "metadata": {},
   "source": [
    "# Combine Matched NGER, Morningstar, and Datasets "
   ]
  },
  {
   "cell_type": "code",
   "execution_count": null,
   "id": "a3b2a8c4",
   "metadata": {},
   "outputs": [],
   "source": [
    "emissions_determinants_data = pd.merge(ms_data[['ticker', 'morningstar_name', 'year', 'capex', 'eoy_price', 'eps', 'ltdebt', 'marketcap', 'ppe', 'revenue', 'roe', 'stdebt', 'assets', 'liabilities']],\n",
    "                                  nger_data_matched[['year', 'ticker','matched', 'scope1', 'scope2', 'energy_consumption', 'total_emissions']],\n",
    "                                  on = ['ticker','year'],\n",
    "                                  how = 'left')\n",
    "\n",
    "emissions_determinants_data = pd.merge(emissions_determinants_data,\n",
    "                                       ds_industry,\n",
    "                                      on=['ticker'],\n",
    "                                      how='left')\n",
    "\n",
    "\n",
    "emissions_determinants_data = emissions_determinants_data.reindex(columns=['year','ticker','morningstar_name','industry','matched', 'scope1', 'scope2', 'energy_consumption', 'total_emissions', 'capex', 'eoy_price', 'eps', 'ltdebt', 'marketcap', 'ppe', 'revenue', 'roe', 'stdebt', 'assets', 'liabilities'])\n",
    "\n"
   ]
  },
  {
   "cell_type": "markdown",
   "id": "9f7eefde",
   "metadata": {},
   "source": [
    "# Construct Dependent Variables (Carbon Emissions)"
   ]
  },
  {
   "cell_type": "code",
   "execution_count": null,
   "id": "50c33a8f",
   "metadata": {},
   "outputs": [],
   "source": [
    "\"Construct Log(emissions)\"\n",
    "\n",
    "\n",
    "#log scope1, scope2, total_emissions, and energy consumption\n",
    "emissions_determinants_data['log_scope1'] = np.log(emissions_determinants_data['scope1'])\n",
    "emissions_determinants_data['log_scope2'] = np.log(emissions_determinants_data['scope2'])\n",
    "emissions_determinants_data['log_total_emissions'] = np.log(emissions_determinants_data['total_emissions'])\n",
    "emissions_determinants_data['log_energy_consumption'] = np.log(emissions_determinants_data['energy_consumption'])\n",
    "\n",
    "\n",
    "\"Construct year by year change in emissions\"\n",
    "\n",
    "#get a list of unique company names\n",
    "unique_firms_emissions_determinants_data = (emissions_determinants_data['ticker'].unique())\n",
    "\n",
    "#clone each unique company for each observation year (2009-2021)\n",
    "firms_2009 = pd.DataFrame({'ticker':unique_firms_emissions_determinants_data, 'year': '2009'})\n",
    "firms_2010 = pd.DataFrame({'ticker':unique_firms_emissions_determinants_data, 'year': '2010'})\n",
    "firms_2011 = pd.DataFrame({'ticker':unique_firms_emissions_determinants_data, 'year': '2011'})\n",
    "firms_2012 = pd.DataFrame({'ticker':unique_firms_emissions_determinants_data, 'year': '2012'})\n",
    "firms_2013 = pd.DataFrame({'ticker':unique_firms_emissions_determinants_data, 'year': '2013'})\n",
    "firms_2014 = pd.DataFrame({'ticker':unique_firms_emissions_determinants_data, 'year': '2014'})\n",
    "firms_2015 = pd.DataFrame({'ticker':unique_firms_emissions_determinants_data, 'year': '2015'})\n",
    "firms_2016 = pd.DataFrame({'ticker':unique_firms_emissions_determinants_data, 'year': '2016'})\n",
    "firms_2017 = pd.DataFrame({'ticker':unique_firms_emissions_determinants_data, 'year': '2017'})\n",
    "firms_2018 = pd.DataFrame({'ticker':unique_firms_emissions_determinants_data, 'year': '2018'})\n",
    "firms_2019 = pd.DataFrame({'ticker':unique_firms_emissions_determinants_data, 'year': '2019'})\n",
    "firms_2020 = pd.DataFrame({'ticker':unique_firms_emissions_determinants_data, 'year': '2020'})\n",
    "firms_2021 = pd.DataFrame({'ticker':unique_firms_emissions_determinants_data, 'year': '2021'})\n",
    "\n",
    "#create dataframe to add all cloned firm years\n",
    "firms_allyears = pd.DataFrame(columns = ['ticker', 'year'])\n",
    "\n",
    "#add all clone firm year dataframes to a list\n",
    "firm_years_list = [firms_2009, firms_2010, firms_2011, firms_2012, firms_2013, firms_2014, firms_2015, firms_2016, firms_2017, firms_2018, firms_2019, firms_2020, firms_2021]\n",
    "\n",
    "#concatenate dataframes\n",
    "firms_allyears = pd.concat(firm_years_list)\n",
    "\n",
    "#convert year column to date time format\n",
    "firms_allyears['year'] =  pd.to_datetime(firms_allyears['year'], format='%Y').dt.to_period(\"Y\")\n",
    "firms_allyears['year'] = firms_allyears['year'].astype(str)\n",
    "#create dummy level index\n",
    "emissions_determinants_data[\"dummy_index\"] = emissions_determinants_data[\"dummy_index\"] = 1\n",
    "firms_allyears['dummy_index'] = firms_allyears['dummy_index'] = 2\n",
    "\n",
    "#concenate cloned firm years with main data file\n",
    "emissions_determinants_data = pd.concat([emissions_determinants_data, firms_allyears])\n",
    "\n",
    "#sort dataframe by corporation name and year\n",
    "emissions_determinants_data = emissions_determinants_data.sort_values(by=['ticker', 'year','dummy_index'])\n",
    "\n",
    "#drop duplicates keeping first row (main  data file) as by dummy_index sorting\n",
    "emissions_determinants_data = emissions_determinants_data.drop_duplicates(['ticker', 'year'], keep='first')\n",
    "\n",
    "#sort dataframe by ticker and year\n",
    "emissions_determinants_data = emissions_determinants_data.sort_values(by=['ticker', 'year'])\n",
    "\n",
    "#calculate yearly change in emissions by corporation for scope1, scope2, total_emissions, and energy consumption\n",
    "emissions_determinants_data['change_scope1'] = emissions_determinants_data.groupby(['ticker'])['scope1'].diff()\n",
    "emissions_determinants_data['change_scope2'] = emissions_determinants_data.groupby(['ticker'])['scope2'].diff()\n",
    "emissions_determinants_data['change_total_emissions'] = emissions_determinants_data.groupby(['ticker'])['total_emissions'].diff()\n",
    "emissions_determinants_data['change_energy_consumption'] = emissions_determinants_data.groupby(['ticker'])['energy_consumption'].diff()\n",
    "\n",
    "\n",
    "\"Construct Intensity (Emissions)\"\n",
    "\n",
    "## int = (tons CO 2 e/AUD m.)\n",
    "emissions_determinants_data['revenue(m)'] = emissions_determinants_data['revenue'] / 1000000\n",
    "emissions_determinants_data['scope1_int'] = emissions_determinants_data['scope1'] /  emissions_determinants_data['revenue(m)']\n",
    "emissions_determinants_data['scope2_int'] = emissions_determinants_data['scope2'] /  emissions_determinants_data['revenue(m)']\n",
    "emissions_determinants_data['total_emissions_int'] = emissions_determinants_data['total_emissions'] /  emissions_determinants_data['revenue(m)']\n",
    "emissions_determinants_data['energy_consumption_int'] = emissions_determinants_data['energy_consumption'] / emissions_determinants_data['revenue(m)']"
   ]
  },
  {
   "cell_type": "markdown",
   "id": "3c505d0f",
   "metadata": {},
   "source": [
    "# Construct Independent Variables"
   ]
  },
  {
   "cell_type": "code",
   "execution_count": null,
   "id": "1b70f9f3",
   "metadata": {},
   "outputs": [],
   "source": [
    "#LOGSIZE\n",
    "emissions_determinants_data['logsize'] = np.log(emissions_determinants_data['marketcap'])\n",
    "\n",
    "#B/M\n",
    "emissions_determinants_data['bm'] = (emissions_determinants_data['assets'] - emissions_determinants_data['liabilities']) / emissions_determinants_data['marketcap']\n",
    "\n",
    "#ROE (already exisits 'roe')\n",
    "\n",
    "#LEVERAGE\n",
    "emissions_determinants_data['totaldebt'] = emissions_determinants_data.stdebt.fillna(0) + emissions_determinants_data.ltdebt.fillna(0) #calculate total debt, skipping nan values (this means total debt can be constructed from ltdebt, stdebt, or both)\n",
    "emissions_determinants_data['leverage'] = emissions_determinants_data.totaldebt / emissions_determinants_data.assets #calculate leverage\n",
    "\n",
    "#INVEST/A\n",
    "emissions_determinants_data['investa'] = emissions_determinants_data.capex / emissions_determinants_data.assets\n",
    "\n",
    "#HHI\n",
    "#HHI WILL NOT BE INCLUDED DUE TO ABSENCE OF SEGEMENTED BUSINESS REVENUES\n",
    "\n",
    "#LOGPPE\n",
    "emissions_determinants_data['logppe'] = np.log(emissions_determinants_data['ppe'])\n",
    "\n",
    "#SALESGR\n",
    "emissions_determinants_data = emissions_determinants_data.sort_values(by=['ticker', 'year']) #sort dataframe by ticker and year\n",
    "emissions_determinants_data['revenue_change'] = emissions_determinants_data.groupby(['ticker'])['revenue'].diff() #calculate yearly change in revenue by firm\n",
    "emissions_determinants_data['salesgr'] = emissions_determinants_data.revenue_change / emissions_determinants_data.marketcap #salesgr = change in annual revenue normailzed by marketcap\n",
    "\n",
    "#EPSGR \n",
    "emissions_determinants_data = emissions_determinants_data.sort_values(by=['ticker', 'year']) #sort dataframe by ticker and year\n",
    "emissions_determinants_data['eps_change'] = emissions_determinants_data.groupby(['ticker'])['eps'].diff() #calculate yearly change in eps by firm\n",
    "emissions_determinants_data['epsgr'] = emissions_determinants_data.eps_change / emissions_determinants_data.eoy_price"
   ]
  },
  {
   "cell_type": "markdown",
   "id": "8fb6e3a0",
   "metadata": {},
   "source": [
    "# Filter and Process Dataset for Regression"
   ]
  },
  {
   "cell_type": "code",
   "execution_count": null,
   "id": "f2adccbf",
   "metadata": {},
   "outputs": [],
   "source": [
    "emissions_determinants_data = emissions_determinants_data.dropna(axis=0, how= 'any', subset=['matched']).reset_index(drop=True)\n",
    "emissions_determinants_data['year'] = emissions_determinants_data['year'].astype(int)\n",
    "emissions_determinants_data = emissions_determinants_data.loc[(emissions_determinants_data['year'] >= 2009) & (emissions_determinants_data['year'] <= 2021)].reset_index(drop=True)\n",
    "emissions_determinants_data = emissions_determinants_data.sort_values(by=['ticker', 'year']).reset_index(drop=True)\n",
    "\n",
    "emissions_determinants_vars = emissions_determinants_data[['year', 'ticker','industry','log_scope1', 'log_scope2', 'log_total_emissions', 'log_energy_consumption', 'change_scope1', 'change_scope2', 'change_total_emissions', 'change_energy_consumption', 'scope1_int', 'scope2_int', 'total_emissions_int', 'energy_consumption_int', 'logsize', 'bm', 'roe','leverage', 'investa', 'logppe', 'salesgr', 'epsgr']]\n",
    "emissions_determinants_vars = emissions_determinants_vars.sort_values(by=['year','ticker']).reset_index(drop=True)\n",
    "emissions_determinants_vars = emissions_determinants_vars.dropna(how='all', subset=['log_scope1', 'log_scope2', 'log_total_emissions', 'log_energy_consumption', 'change_scope1', 'change_scope2', 'change_total_emissions', 'change_energy_consumption', 'scope1_int', 'scope2_int', 'total_emissions_int', 'energy_consumption_int']).reset_index(drop=True)\n",
    "emissions_determinants_vars = emissions_determinants_vars.dropna(how='any', subset=['logsize', 'bm', 'roe', 'leverage', 'investa', 'logppe', 'salesgr', 'epsgr','industry']).reset_index(drop=True)\n",
    "\n",
    "\"Save Determinants of Carbon Emissions Variables Dataset (for regression use)\"\n",
    "output_filename = 'emissions_determinants_vars.csv'\n",
    "outputname = output_path + output_filename\n",
    "emissions_determinants_vars.to_csv(outputname, mode='w',index=False)\n",
    "print(\"Exported File: \" + outputname)"
   ]
  },
  {
   "cell_type": "markdown",
   "id": "a76b64ec",
   "metadata": {},
   "source": [
    "# Constructed Variables for The Determinants of Carbon Emissions"
   ]
  },
  {
   "cell_type": "code",
   "execution_count": null,
   "id": "9ef20e2b",
   "metadata": {},
   "outputs": [],
   "source": [
    "print('Number of Observations:')\n",
    "print (len(emissions_determinants_vars))\n",
    "\n",
    "with pd.option_context('display.max_rows', 100, 'display.max_columns', None):\n",
    "    display(emissions_determinants_vars)"
   ]
  },
  {
   "cell_type": "code",
   "execution_count": null,
   "id": "427ed721",
   "metadata": {},
   "outputs": [],
   "source": [
    "print('Notebook Finish')"
   ]
  }
 ],
 "metadata": {
  "kernelspec": {
   "display_name": "Python 3 (Spyder)",
   "language": "python3",
   "name": "python3"
  },
  "language_info": {
   "codemirror_mode": {
    "name": "ipython",
    "version": 3
   },
   "file_extension": ".py",
   "mimetype": "text/x-python",
   "name": "python",
   "nbconvert_exporter": "python",
   "pygments_lexer": "ipython3",
   "version": "3.10.6"
  }
 },
 "nbformat": 4,
 "nbformat_minor": 5
}
