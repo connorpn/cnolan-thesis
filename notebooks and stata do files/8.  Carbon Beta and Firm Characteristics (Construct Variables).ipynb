{
 "cells": [
  {
   "cell_type": "markdown",
   "id": "59b6371a",
   "metadata": {},
   "source": [
    "# Carbon Beta and Firm Charateristics (Construct Variables)"
   ]
  },
  {
   "cell_type": "markdown",
   "id": "b6de53d0",
   "metadata": {},
   "source": [
    "## Note: This notebook is dependent upon the \"Estimating Carbon Beta\" Regressions"
   ]
  },
  {
   "cell_type": "code",
   "execution_count": 1,
   "id": "64e26734",
   "metadata": {},
   "outputs": [
    {
     "name": "stdout",
     "output_type": "stream",
     "text": [
      "Current working directory: C:\\Users\\conno\\OneDrive\\University Study\\Honours Thesis\\cnolan-thesis\n",
      "Set WD: Done\n"
     ]
    }
   ],
   "source": [
    "\"log scope 1 - carbon beta and firm characteristics\"\n",
    "\n",
    "\"IMPORT MODULES\"\n",
    "import os\n",
    "import pandas as pd\n",
    "import numpy as np\n",
    "\n",
    "\n",
    "\"SET THE WORKING DIRECTORY BELOW TO THE LOCATION OF DATA FILES\"\n",
    "\n",
    "working_directory = 'C:/Users/conno/OneDrive/University Study/Honours Thesis/cnolan-thesis' #set location using back slashes\n",
    "\n",
    "os.chdir(working_directory)\n",
    "\n",
    "print(\"Current working directory: {0}\".format(os.getcwd()))\n",
    "\n",
    "\n",
    "def createFolder(directory):\n",
    "    try:\n",
    "        if not os.path.exists(directory):\n",
    "            os.makedirs(directory)\n",
    "            output_path = os.makedirs(directory)\n",
    "            print(output_path)\n",
    "    except OSError:\n",
    "        print ('Error: Creating directory. ' +  directory)\n",
    "        \n",
    "\n",
    "# Folder where outputs will be saved (by default a folder within the working directory) \n",
    "createFolder('./output/') \n",
    "output_path = working_directory +'./output/'\n",
    "\n",
    "print('Set WD: Done')"
   ]
  },
  {
   "cell_type": "code",
   "execution_count": 2,
   "id": "1ca289c5",
   "metadata": {},
   "outputs": [],
   "source": [
    "\"IMPORT DATA\"\n",
    "cross_sectional_returns = pd.read_csv ('https://raw.githubusercontent.com/connorpn/cnolan-thesis/main/output/carbon_emissions_stock_returns_vars.csv')"
   ]
  },
  {
   "cell_type": "code",
   "execution_count": 3,
   "id": "2ebc080a",
   "metadata": {},
   "outputs": [
    {
     "name": "stdout",
     "output_type": "stream",
     "text": [
      "observations before3560\n",
      "dropped (variables): 521-- from: 3560 to 3039\n",
      "Exported File: C:/Users/conno/OneDrive/University Study/Honours Thesis/cnolan-thesis./output/log_scope1_carbon_beta_firm_characteristics.csv\n"
     ]
    }
   ],
   "source": [
    "log_scope1_carbon_beta = pd.read_csv ('https://raw.githubusercontent.com/connorpn/cnolan-thesis/main/output/carbon_beta_log_scope1.csv')\n",
    "\n",
    "\n",
    "log_scope1_carbon_beta_firm_characteristics = pd.merge(cross_sectional_returns[['ticker_year_month', 'ticker', 'year', 'month', 'log_scope1', 'logsize', 'bm', 'leverage', 'mom', 'investa', 'roe', 'logppe', 'beta', 'volat', 'salesgr', 'epsgr']],\n",
    "                                                       log_scope1_carbon_beta[['ticker','yearmonth', 'year', 'month', '_b_winsor_pmc']],\n",
    "                                                       how='left',\n",
    "                                                       on=['ticker','year','month'])\n",
    "\n",
    "obs_before = len(log_scope1_carbon_beta_firm_characteristics)\n",
    "\n",
    "log_scope1_carbon_beta_firm_characteristics = log_scope1_carbon_beta_firm_characteristics.dropna(subset=['log_scope1', 'logsize', 'bm', 'leverage', 'mom', 'investa', 'roe', 'logppe', 'beta', 'volat', 'salesgr', 'epsgr', '_b_winsor_pmc']).reset_index(drop=True)\n",
    "\n",
    "obs_after = len(log_scope1_carbon_beta_firm_characteristics)\n",
    "obs_dropped = (obs_before - obs_after)\n",
    "print('observations before' + str(obs_before))\n",
    "print('dropped (variables): ' + str(obs_dropped) + '-- from: ' + str(obs_before) + ' to ' + str(obs_after))\n",
    "\n",
    "log_scope1_carbon_beta_firm_characteristics = log_scope1_carbon_beta_firm_characteristics.rename(columns={'_b_winsor_pmc': 'carbon_beta'})\n",
    "\n",
    "log_scope1_carbon_beta_firm_characteristics['yearmonth'] = log_scope1_carbon_beta_firm_characteristics['year'].astype(str) + log_scope1_carbon_beta_firm_characteristics['month'].astype(str)\n",
    "\n",
    "\"Save log_scope1_carbon_beta_firm_characteristics\"\n",
    "output_filename = 'log_scope1_carbon_beta_firm_characteristics.csv'\n",
    "outputname = output_path + output_filename\n",
    "log_scope1_carbon_beta_firm_characteristics.to_csv(outputname, mode='w', index=False)\n",
    "print(\"Exported File: \" + outputname)"
   ]
  },
  {
   "cell_type": "code",
   "execution_count": 4,
   "id": "76a73703",
   "metadata": {},
   "outputs": [
    {
     "name": "stdout",
     "output_type": "stream",
     "text": [
      "observations before3560\n",
      "dropped (variables): 593-- from: 3560 to 2967\n",
      "Exported File: C:/Users/conno/OneDrive/University Study/Honours Thesis/cnolan-thesis./output/log_scope2_carbon_beta_firm_characteristics.csv\n"
     ]
    }
   ],
   "source": [
    "log_scope2_carbon_beta = pd.read_csv ('https://raw.githubusercontent.com/connorpn/cnolan-thesis/main/output/carbon_beta_log_scope2.csv')\n",
    "\n",
    "\n",
    "log_scope2_carbon_beta_firm_characteristics = pd.merge(cross_sectional_returns[['ticker_year_month', 'ticker', 'year', 'month', 'log_scope2', 'logsize', 'bm', 'leverage', 'mom', 'investa', 'roe', 'logppe', 'beta', 'volat', 'salesgr', 'epsgr']],\n",
    "                                                       log_scope2_carbon_beta[['ticker','yearmonth', 'year', 'month', '_b_winsor_pmc']],\n",
    "                                                       how='left',\n",
    "                                                       on=['ticker','year','month'])\n",
    "\n",
    "obs_before = len(log_scope2_carbon_beta_firm_characteristics)\n",
    "\n",
    "log_scope2_carbon_beta_firm_characteristics = log_scope2_carbon_beta_firm_characteristics.dropna(subset=['log_scope2', 'logsize', 'bm', 'leverage', 'mom', 'investa', 'roe', 'logppe', 'beta', 'volat', 'salesgr', 'epsgr', '_b_winsor_pmc']).reset_index(drop=True)\n",
    "\n",
    "obs_after = len(log_scope2_carbon_beta_firm_characteristics)\n",
    "obs_dropped = (obs_before - obs_after)\n",
    "print('observations before' + str(obs_before))\n",
    "print('dropped (variables): ' + str(obs_dropped) + '-- from: ' + str(obs_before) + ' to ' + str(obs_after))\n",
    "\n",
    "log_scope2_carbon_beta_firm_characteristics = log_scope2_carbon_beta_firm_characteristics.rename(columns={'_b_winsor_pmc': 'carbon_beta'})\n",
    "\n",
    "log_scope2_carbon_beta_firm_characteristics['yearmonth'] = log_scope2_carbon_beta_firm_characteristics['year'].astype(str) + log_scope2_carbon_beta_firm_characteristics['month'].astype(str)\n",
    "\n",
    "\"Save log_scope2_carbon_beta_firm_characteristics\"\n",
    "output_filename = 'log_scope2_carbon_beta_firm_characteristics.csv'\n",
    "outputname = output_path + output_filename\n",
    "log_scope2_carbon_beta_firm_characteristics.to_csv(outputname, mode='w', index=False)\n",
    "print(\"Exported File: \" + outputname)"
   ]
  },
  {
   "cell_type": "code",
   "execution_count": 5,
   "id": "7ffa258e",
   "metadata": {},
   "outputs": [
    {
     "name": "stdout",
     "output_type": "stream",
     "text": [
      "observations before3560\n",
      "dropped (variables): 482-- from: 3560 to 3078\n",
      "Exported File: C:/Users/conno/OneDrive/University Study/Honours Thesis/cnolan-thesis./output/log_total_emissions_carbon_beta_firm_characteristics.csv\n"
     ]
    }
   ],
   "source": [
    "log_total_emissions_carbon_beta = pd.read_csv ('https://raw.githubusercontent.com/connorpn/cnolan-thesis/main/output/carbon_beta_log_total_emissions.csv')\n",
    "\n",
    "\n",
    "log_total_emissions_carbon_beta_firm_characteristics = pd.merge(cross_sectional_returns[['ticker_year_month', 'ticker', 'year', 'month', 'log_total_emissions', 'logsize', 'bm', 'leverage', 'mom', 'investa', 'roe', 'logppe', 'beta', 'volat', 'salesgr', 'epsgr']],\n",
    "                                                       log_total_emissions_carbon_beta[['ticker','yearmonth', 'year', 'month', '_b_winsor_pmc']],\n",
    "                                                       how='left',\n",
    "                                                       on=['ticker','year','month'])\n",
    "\n",
    "obs_before = len(log_total_emissions_carbon_beta_firm_characteristics)\n",
    "\n",
    "log_total_emissions_carbon_beta_firm_characteristics = log_total_emissions_carbon_beta_firm_characteristics.dropna(subset=['log_total_emissions', 'logsize', 'bm', 'leverage', 'mom', 'investa', 'roe', 'logppe', 'beta', 'volat', 'salesgr', 'epsgr', '_b_winsor_pmc']).reset_index(drop=True)\n",
    "\n",
    "obs_after = len(log_total_emissions_carbon_beta_firm_characteristics)\n",
    "obs_dropped = (obs_before - obs_after)\n",
    "print('observations before' + str(obs_before))\n",
    "print('dropped (variables): ' + str(obs_dropped) + '-- from: ' + str(obs_before) + ' to ' + str(obs_after))\n",
    "\n",
    "log_total_emissions_carbon_beta_firm_characteristics = log_total_emissions_carbon_beta_firm_characteristics.rename(columns={'_b_winsor_pmc': 'carbon_beta'})\n",
    "\n",
    "log_total_emissions_carbon_beta_firm_characteristics['yearmonth'] = log_total_emissions_carbon_beta_firm_characteristics['year'].astype(str) + log_total_emissions_carbon_beta_firm_characteristics['month'].astype(str)\n",
    "\n",
    "\"Save log_total_emissions_carbon_beta_firm_characteristics\"\n",
    "output_filename = 'log_total_emissions_carbon_beta_firm_characteristics.csv'\n",
    "outputname = output_path + output_filename\n",
    "log_total_emissions_carbon_beta_firm_characteristics.to_csv(outputname, mode='w', index=False)\n",
    "print(\"Exported File: \" + outputname)"
   ]
  },
  {
   "cell_type": "code",
   "execution_count": 6,
   "id": "e37cb968",
   "metadata": {},
   "outputs": [
    {
     "name": "stdout",
     "output_type": "stream",
     "text": [
      "observations before3560\n",
      "dropped (variables): 336-- from: 3560 to 3224\n",
      "Exported File: C:/Users/conno/OneDrive/University Study/Honours Thesis/cnolan-thesis./output/log_energy_consumption_carbon_beta_firm_characteristics.csv\n"
     ]
    }
   ],
   "source": [
    "log_energy_consumption_carbon_beta = pd.read_csv ('https://raw.githubusercontent.com/connorpn/cnolan-thesis/main/output/carbon_beta_log_energy_consumption.csv')\n",
    "\n",
    "\n",
    "log_energy_consumption_carbon_beta_firm_characteristics = pd.merge(cross_sectional_returns[['ticker_year_month', 'ticker', 'year', 'month', 'log_energy_consumption', 'logsize', 'bm', 'leverage', 'mom', 'investa', 'roe', 'logppe', 'beta', 'volat', 'salesgr', 'epsgr']],\n",
    "                                                       log_energy_consumption_carbon_beta[['ticker','yearmonth', 'year', 'month', '_b_winsor_pmc']],\n",
    "                                                       how='left',\n",
    "                                                       on=['ticker','year','month'])\n",
    "\n",
    "obs_before = len(log_energy_consumption_carbon_beta_firm_characteristics)\n",
    "\n",
    "log_energy_consumption_carbon_beta_firm_characteristics = log_energy_consumption_carbon_beta_firm_characteristics.dropna(subset=['log_energy_consumption', 'logsize', 'bm', 'leverage', 'mom', 'investa', 'roe', 'logppe', 'beta', 'volat', 'salesgr', 'epsgr', '_b_winsor_pmc']).reset_index(drop=True)\n",
    "\n",
    "obs_after = len(log_energy_consumption_carbon_beta_firm_characteristics)\n",
    "obs_dropped = (obs_before - obs_after)\n",
    "print('observations before' + str(obs_before))\n",
    "print('dropped (variables): ' + str(obs_dropped) + '-- from: ' + str(obs_before) + ' to ' + str(obs_after))\n",
    "\n",
    "log_energy_consumption_carbon_beta_firm_characteristics = log_energy_consumption_carbon_beta_firm_characteristics.rename(columns={'_b_winsor_pmc': 'carbon_beta'})\n",
    "\n",
    "log_energy_consumption_carbon_beta_firm_characteristics['yearmonth'] = log_energy_consumption_carbon_beta_firm_characteristics['year'].astype(str) + log_energy_consumption_carbon_beta_firm_characteristics['month'].astype(str)\n",
    "\n",
    "\n",
    "\"Save log_energy_consumption_carbon_beta_firm_characteristics\"\n",
    "output_filename = 'log_energy_consumption_carbon_beta_firm_characteristics.csv'\n",
    "outputname = output_path + output_filename\n",
    "log_energy_consumption_carbon_beta_firm_characteristics.to_csv(outputname, mode='w', index=False)\n",
    "print(\"Exported File: \" + outputname)"
   ]
  },
  {
   "cell_type": "code",
   "execution_count": 7,
   "id": "dcadad42",
   "metadata": {},
   "outputs": [
    {
     "name": "stdout",
     "output_type": "stream",
     "text": [
      "observations before3560\n",
      "dropped (variables): 681-- from: 3560 to 2879\n",
      "Exported File: C:/Users/conno/OneDrive/University Study/Honours Thesis/cnolan-thesis./output/change_scope1_carbon_beta_firm_characteristics.csv\n"
     ]
    }
   ],
   "source": [
    "change_scope1_carbon_beta = pd.read_csv ('https://raw.githubusercontent.com/connorpn/cnolan-thesis/main/output/carbon_beta_change_scope1.csv')\n",
    "\n",
    "\n",
    "change_scope1_carbon_beta_firm_characteristics = pd.merge(cross_sectional_returns[['ticker_year_month', 'ticker', 'year', 'month', 'change_scope1', 'logsize', 'bm', 'leverage', 'mom', 'investa', 'roe', 'logppe', 'beta', 'volat', 'salesgr', 'epsgr']],\n",
    "                                                       change_scope1_carbon_beta[['ticker','yearmonth', 'year', 'month', '_b_winsor_pmc']],\n",
    "                                                       how='left',\n",
    "                                                       on=['ticker','year','month'])\n",
    "\n",
    "obs_before = len(change_scope1_carbon_beta_firm_characteristics)\n",
    "\n",
    "change_scope1_carbon_beta_firm_characteristics = change_scope1_carbon_beta_firm_characteristics.dropna(subset=['change_scope1', 'logsize', 'bm', 'leverage', 'mom', 'investa', 'roe', 'logppe', 'beta', 'volat', 'salesgr', 'epsgr', '_b_winsor_pmc']).reset_index(drop=True)\n",
    "\n",
    "obs_after = len(change_scope1_carbon_beta_firm_characteristics)\n",
    "obs_dropped = (obs_before - obs_after)\n",
    "print('observations before' + str(obs_before))\n",
    "print('dropped (variables): ' + str(obs_dropped) + '-- from: ' + str(obs_before) + ' to ' + str(obs_after))\n",
    "\n",
    "change_scope1_carbon_beta_firm_characteristics = change_scope1_carbon_beta_firm_characteristics.rename(columns={'_b_winsor_pmc': 'carbon_beta'})\n",
    "\n",
    "change_scope1_carbon_beta_firm_characteristics['yearmonth'] = change_scope1_carbon_beta_firm_characteristics['year'].astype(str) + change_scope1_carbon_beta_firm_characteristics['month'].astype(str)\n",
    "\n",
    "\"Save change_scope1_carbon_beta_firm_characteristics\"\n",
    "output_filename = 'change_scope1_carbon_beta_firm_characteristics.csv'\n",
    "outputname = output_path + output_filename\n",
    "change_scope1_carbon_beta_firm_characteristics.to_csv(outputname, mode='w', index=False)\n",
    "print(\"Exported File: \" + outputname)"
   ]
  },
  {
   "cell_type": "code",
   "execution_count": 8,
   "id": "01ce3d6e",
   "metadata": {},
   "outputs": [
    {
     "name": "stdout",
     "output_type": "stream",
     "text": [
      "observations before3560\n",
      "dropped (variables): 838-- from: 3560 to 2722\n",
      "Exported File: C:/Users/conno/OneDrive/University Study/Honours Thesis/cnolan-thesis./output/change_scope2_carbon_beta_firm_characteristics.csv\n"
     ]
    }
   ],
   "source": [
    "change_scope2_carbon_beta = pd.read_csv ('https://raw.githubusercontent.com/connorpn/cnolan-thesis/main/output/carbon_beta_change_scope2.csv')\n",
    "\n",
    "\n",
    "change_scope2_carbon_beta_firm_characteristics = pd.merge(cross_sectional_returns[['ticker_year_month', 'ticker', 'year', 'month', 'change_scope2', 'logsize', 'bm', 'leverage', 'mom', 'investa', 'roe', 'logppe', 'beta', 'volat', 'salesgr', 'epsgr']],\n",
    "                                                       change_scope2_carbon_beta[['ticker','yearmonth', 'year', 'month', '_b_winsor_pmc']],\n",
    "                                                       how='left',\n",
    "                                                       on=['ticker','year','month'])\n",
    "\n",
    "obs_before = len(change_scope2_carbon_beta_firm_characteristics)\n",
    "\n",
    "change_scope2_carbon_beta_firm_characteristics = change_scope2_carbon_beta_firm_characteristics.dropna(subset=['change_scope2', 'logsize', 'bm', 'leverage', 'mom', 'investa', 'roe', 'logppe', 'beta', 'volat', 'salesgr', 'epsgr', '_b_winsor_pmc']).reset_index(drop=True)\n",
    "\n",
    "obs_after = len(change_scope2_carbon_beta_firm_characteristics)\n",
    "obs_dropped = (obs_before - obs_after)\n",
    "print('observations before' + str(obs_before))\n",
    "print('dropped (variables): ' + str(obs_dropped) + '-- from: ' + str(obs_before) + ' to ' + str(obs_after))\n",
    "\n",
    "change_scope2_carbon_beta_firm_characteristics = change_scope2_carbon_beta_firm_characteristics.rename(columns={'_b_winsor_pmc': 'carbon_beta'})\n",
    "\n",
    "change_scope2_carbon_beta_firm_characteristics['yearmonth'] = change_scope2_carbon_beta_firm_characteristics['year'].astype(str) + change_scope2_carbon_beta_firm_characteristics['month'].astype(str)\n",
    "\n",
    "\"Save change_scope2_carbon_beta_firm_characteristics\"\n",
    "output_filename = 'change_scope2_carbon_beta_firm_characteristics.csv'\n",
    "outputname = output_path + output_filename\n",
    "change_scope2_carbon_beta_firm_characteristics.to_csv(outputname, mode='w', index=False)\n",
    "print(\"Exported File: \" + outputname)"
   ]
  },
  {
   "cell_type": "code",
   "execution_count": 9,
   "id": "98532023",
   "metadata": {},
   "outputs": [
    {
     "name": "stdout",
     "output_type": "stream",
     "text": [
      "observations before3560\n",
      "dropped (variables): 681-- from: 3560 to 2879\n",
      "Exported File: C:/Users/conno/OneDrive/University Study/Honours Thesis/cnolan-thesis./output/change_total_emissions_carbon_beta_firm_characteristics.csv\n"
     ]
    }
   ],
   "source": [
    "change_total_emissions_carbon_beta = pd.read_csv ('https://raw.githubusercontent.com/connorpn/cnolan-thesis/main/output/carbon_beta_change_total_emissions.csv')\n",
    "\n",
    "\n",
    "change_total_emissions_carbon_beta_firm_characteristics = pd.merge(cross_sectional_returns[['ticker_year_month', 'ticker', 'year', 'month', 'change_total_emissions', 'logsize', 'bm', 'leverage', 'mom', 'investa', 'roe', 'logppe', 'beta', 'volat', 'salesgr', 'epsgr']],\n",
    "                                                       change_total_emissions_carbon_beta[['ticker','yearmonth', 'year', 'month', '_b_winsor_pmc']],\n",
    "                                                       how='left',\n",
    "                                                       on=['ticker','year','month'])\n",
    "\n",
    "obs_before = len(change_total_emissions_carbon_beta_firm_characteristics)\n",
    "\n",
    "change_total_emissions_carbon_beta_firm_characteristics = change_total_emissions_carbon_beta_firm_characteristics.dropna(subset=['change_total_emissions', 'logsize', 'bm', 'leverage', 'mom', 'investa', 'roe', 'logppe', 'beta', 'volat', 'salesgr', 'epsgr', '_b_winsor_pmc']).reset_index(drop=True)\n",
    "\n",
    "obs_after = len(change_total_emissions_carbon_beta_firm_characteristics)\n",
    "obs_dropped = (obs_before - obs_after)\n",
    "print('observations before' + str(obs_before))\n",
    "print('dropped (variables): ' + str(obs_dropped) + '-- from: ' + str(obs_before) + ' to ' + str(obs_after))\n",
    "\n",
    "change_total_emissions_carbon_beta_firm_characteristics = change_total_emissions_carbon_beta_firm_characteristics.rename(columns={'_b_winsor_pmc': 'carbon_beta'})\n",
    "\n",
    "change_total_emissions_carbon_beta_firm_characteristics['yearmonth'] = change_total_emissions_carbon_beta_firm_characteristics['year'].astype(str) + change_total_emissions_carbon_beta_firm_characteristics['month'].astype(str)\n",
    "\n",
    "\n",
    "\"Save change_total_emissions_carbon_beta_firm_characteristics\"\n",
    "output_filename = 'change_total_emissions_carbon_beta_firm_characteristics.csv'\n",
    "outputname = output_path + output_filename\n",
    "change_total_emissions_carbon_beta_firm_characteristics.to_csv(outputname, mode='w', index=False)\n",
    "print(\"Exported File: \" + outputname)"
   ]
  },
  {
   "cell_type": "code",
   "execution_count": 10,
   "id": "c21728b2",
   "metadata": {},
   "outputs": [
    {
     "name": "stdout",
     "output_type": "stream",
     "text": [
      "observations before3560\n",
      "dropped (variables): 707-- from: 3560 to 2853\n",
      "Exported File: C:/Users/conno/OneDrive/University Study/Honours Thesis/cnolan-thesis./output/change_energy_consumption_carbon_beta_firm_characteristics.csv\n"
     ]
    }
   ],
   "source": [
    "change_energy_consumption_carbon_beta = pd.read_csv ('https://raw.githubusercontent.com/connorpn/cnolan-thesis/main/output/carbon_beta_change_energy_consumption.csv')\n",
    "\n",
    "\n",
    "change_energy_consumption_carbon_beta_firm_characteristics = pd.merge(cross_sectional_returns[['ticker_year_month', 'ticker', 'year', 'month', 'change_energy_consumption', 'logsize', 'bm', 'leverage', 'mom', 'investa', 'roe', 'logppe', 'beta', 'volat', 'salesgr', 'epsgr']],\n",
    "                                                       change_energy_consumption_carbon_beta[['ticker','yearmonth', 'year', 'month', '_b_winsor_pmc']],\n",
    "                                                       how='left',\n",
    "                                                       on=['ticker','year','month'])\n",
    "\n",
    "obs_before = len(change_energy_consumption_carbon_beta_firm_characteristics)\n",
    "\n",
    "change_energy_consumption_carbon_beta_firm_characteristics = change_energy_consumption_carbon_beta_firm_characteristics.dropna(subset=['change_energy_consumption', 'logsize', 'bm', 'leverage', 'mom', 'investa', 'roe', 'logppe', 'beta', 'volat', 'salesgr', 'epsgr', '_b_winsor_pmc']).reset_index(drop=True)\n",
    "\n",
    "obs_after = len(change_energy_consumption_carbon_beta_firm_characteristics)\n",
    "obs_dropped = (obs_before - obs_after)\n",
    "print('observations before' + str(obs_before))\n",
    "print('dropped (variables): ' + str(obs_dropped) + '-- from: ' + str(obs_before) + ' to ' + str(obs_after))\n",
    "\n",
    "change_energy_consumption_carbon_beta_firm_characteristics = change_energy_consumption_carbon_beta_firm_characteristics.rename(columns={'_b_winsor_pmc': 'carbon_beta'})\n",
    "\n",
    "change_energy_consumption_carbon_beta_firm_characteristics['yearmonth'] = change_energy_consumption_carbon_beta_firm_characteristics['year'].astype(str) + change_energy_consumption_carbon_beta_firm_characteristics['month'].astype(str)\n",
    "\n",
    "\n",
    "\"Save change_energy_consumption_carbon_beta_firm_characteristics\"\n",
    "output_filename = 'change_energy_consumption_carbon_beta_firm_characteristics.csv'\n",
    "outputname = output_path + output_filename\n",
    "change_energy_consumption_carbon_beta_firm_characteristics.to_csv(outputname, mode='w', index=False)\n",
    "print(\"Exported File: \" + outputname)"
   ]
  },
  {
   "cell_type": "code",
   "execution_count": 11,
   "id": "fffaa406",
   "metadata": {},
   "outputs": [
    {
     "name": "stdout",
     "output_type": "stream",
     "text": [
      "observations before3560\n",
      "dropped (variables): 213-- from: 3560 to 3347\n",
      "Exported File: C:/Users/conno/OneDrive/University Study/Honours Thesis/cnolan-thesis./output/scope1_int_carbon_beta_firm_characteristics.csv\n"
     ]
    }
   ],
   "source": [
    "scope1_int_carbon_beta = pd.read_csv ('https://raw.githubusercontent.com/connorpn/cnolan-thesis/main/output/carbon_beta_scope1_int.csv')\n",
    "\n",
    "\n",
    "scope1_int_carbon_beta_firm_characteristics = pd.merge(cross_sectional_returns[['ticker_year_month', 'ticker', 'year', 'month', 'scope1_int', 'logsize', 'bm', 'leverage', 'mom', 'investa', 'roe', 'logppe', 'beta', 'volat', 'salesgr', 'epsgr']],\n",
    "                                                       scope1_int_carbon_beta[['ticker','yearmonth', 'year', 'month', '_b_winsor_pmc']],\n",
    "                                                       how='left',\n",
    "                                                       on=['ticker','year','month'])\n",
    "\n",
    "obs_before = len(scope1_int_carbon_beta_firm_characteristics)\n",
    "\n",
    "scope1_int_carbon_beta_firm_characteristics = scope1_int_carbon_beta_firm_characteristics.dropna(subset=['scope1_int', 'logsize', 'bm', 'leverage', 'mom', 'investa', 'roe', 'logppe', 'beta', 'volat', 'salesgr', 'epsgr', '_b_winsor_pmc']).reset_index(drop=True)\n",
    "\n",
    "obs_after = len(scope1_int_carbon_beta_firm_characteristics)\n",
    "obs_dropped = (obs_before - obs_after)\n",
    "print('observations before' + str(obs_before))\n",
    "print('dropped (variables): ' + str(obs_dropped) + '-- from: ' + str(obs_before) + ' to ' + str(obs_after))\n",
    "\n",
    "scope1_int_carbon_beta_firm_characteristics = scope1_int_carbon_beta_firm_characteristics.rename(columns={'_b_winsor_pmc': 'carbon_beta'})\n",
    "\n",
    "scope1_int_carbon_beta_firm_characteristics['yearmonth'] = scope1_int_carbon_beta_firm_characteristics['year'].astype(str) + scope1_int_carbon_beta_firm_characteristics['month'].astype(str)\n",
    "\n",
    "\n",
    "\"Save scope1_int_carbon_beta_firm_characteristics\"\n",
    "output_filename = 'scope1_int_carbon_beta_firm_characteristics.csv'\n",
    "outputname = output_path + output_filename\n",
    "scope1_int_carbon_beta_firm_characteristics.to_csv(outputname, mode='w', index=False)\n",
    "print(\"Exported File: \" + outputname)"
   ]
  },
  {
   "cell_type": "code",
   "execution_count": 12,
   "id": "cc24e170",
   "metadata": {},
   "outputs": [
    {
     "name": "stdout",
     "output_type": "stream",
     "text": [
      "observations before3560\n",
      "dropped (variables): 214-- from: 3560 to 3346\n",
      "Exported File: C:/Users/conno/OneDrive/University Study/Honours Thesis/cnolan-thesis./output/scope2_int_carbon_beta_firm_characteristics.csv\n"
     ]
    }
   ],
   "source": [
    "scope2_int_carbon_beta = pd.read_csv ('https://raw.githubusercontent.com/connorpn/cnolan-thesis/main/output/carbon_beta_scope2_int.csv')\n",
    "\n",
    "\n",
    "scope2_int_carbon_beta_firm_characteristics = pd.merge(cross_sectional_returns[['ticker_year_month', 'ticker', 'year', 'month', 'scope2_int', 'logsize', 'bm', 'leverage', 'mom', 'investa', 'roe', 'logppe', 'beta', 'volat', 'salesgr', 'epsgr']],\n",
    "                                                       scope2_int_carbon_beta[['ticker','yearmonth', 'year', 'month', '_b_winsor_pmc']],\n",
    "                                                       how='left',\n",
    "                                                       on=['ticker','year','month'])\n",
    "\n",
    "obs_before = len(scope2_int_carbon_beta_firm_characteristics)\n",
    "\n",
    "scope2_int_carbon_beta_firm_characteristics = scope2_int_carbon_beta_firm_characteristics.dropna(subset=['scope2_int', 'logsize', 'bm', 'leverage', 'mom', 'investa', 'roe', 'logppe', 'beta', 'volat', 'salesgr', 'epsgr', '_b_winsor_pmc']).reset_index(drop=True)\n",
    "\n",
    "obs_after = len(scope2_int_carbon_beta_firm_characteristics)\n",
    "obs_dropped = (obs_before - obs_after)\n",
    "print('observations before' + str(obs_before))\n",
    "print('dropped (variables): ' + str(obs_dropped) + '-- from: ' + str(obs_before) + ' to ' + str(obs_after))\n",
    "\n",
    "scope2_int_carbon_beta_firm_characteristics = scope2_int_carbon_beta_firm_characteristics.rename(columns={'_b_winsor_pmc': 'carbon_beta'})\n",
    "\n",
    "scope2_int_carbon_beta_firm_characteristics['yearmonth'] = scope2_int_carbon_beta_firm_characteristics['year'].astype(str) + scope2_int_carbon_beta_firm_characteristics['month'].astype(str)\n",
    "\n",
    "\n",
    "\"Save scope2_int_carbon_beta_firm_characteristics\"\n",
    "output_filename = 'scope2_int_carbon_beta_firm_characteristics.csv'\n",
    "outputname = output_path + output_filename\n",
    "scope2_int_carbon_beta_firm_characteristics.to_csv(outputname, mode='w', index=False)\n",
    "print(\"Exported File: \" + outputname)"
   ]
  },
  {
   "cell_type": "code",
   "execution_count": 13,
   "id": "1c4b1af2",
   "metadata": {},
   "outputs": [
    {
     "name": "stdout",
     "output_type": "stream",
     "text": [
      "observations before3560\n",
      "dropped (variables): 213-- from: 3560 to 3347\n",
      "Exported File: C:/Users/conno/OneDrive/University Study/Honours Thesis/cnolan-thesis./output/total_emissions_int_carbon_beta_firm_characteristics.csv\n"
     ]
    }
   ],
   "source": [
    "total_emissions_int_carbon_beta = pd.read_csv ('https://raw.githubusercontent.com/connorpn/cnolan-thesis/main/output/carbon_beta_total_emissions_int.csv')\n",
    "\n",
    "\n",
    "total_emissions_int_carbon_beta_firm_characteristics = pd.merge(cross_sectional_returns[['ticker_year_month', 'ticker', 'year', 'month', 'total_emissions_int', 'logsize', 'bm', 'leverage', 'mom', 'investa', 'roe', 'logppe', 'beta', 'volat', 'salesgr', 'epsgr']],\n",
    "                                                       total_emissions_int_carbon_beta[['ticker','yearmonth', 'year', 'month', '_b_winsor_pmc']],\n",
    "                                                       how='left',\n",
    "                                                       on=['ticker','year','month'])\n",
    "\n",
    "obs_before = len(total_emissions_int_carbon_beta_firm_characteristics)\n",
    "\n",
    "total_emissions_int_carbon_beta_firm_characteristics = total_emissions_int_carbon_beta_firm_characteristics.dropna(subset=['total_emissions_int', 'logsize', 'bm', 'leverage', 'mom', 'investa', 'roe', 'logppe', 'beta', 'volat', 'salesgr', 'epsgr', '_b_winsor_pmc']).reset_index(drop=True)\n",
    "\n",
    "obs_after = len(total_emissions_int_carbon_beta_firm_characteristics)\n",
    "obs_dropped = (obs_before - obs_after)\n",
    "print('observations before' + str(obs_before))\n",
    "print('dropped (variables): ' + str(obs_dropped) + '-- from: ' + str(obs_before) + ' to ' + str(obs_after))\n",
    "\n",
    "total_emissions_int_carbon_beta_firm_characteristics = total_emissions_int_carbon_beta_firm_characteristics.rename(columns={'_b_winsor_pmc': 'carbon_beta'})\n",
    "\n",
    "total_emissions_int_carbon_beta_firm_characteristics['yearmonth'] = total_emissions_int_carbon_beta_firm_characteristics['year'].astype(str) + total_emissions_int_carbon_beta_firm_characteristics['month'].astype(str)\n",
    "\n",
    "\n",
    "\"Save total_emissions_int_carbon_beta_firm_characteristics\"\n",
    "output_filename = 'total_emissions_int_carbon_beta_firm_characteristics.csv'\n",
    "outputname = output_path + output_filename\n",
    "total_emissions_int_carbon_beta_firm_characteristics.to_csv(outputname, mode='w', index=False)\n",
    "print(\"Exported File: \" + outputname)"
   ]
  },
  {
   "cell_type": "code",
   "execution_count": 14,
   "id": "94d143d1",
   "metadata": {},
   "outputs": [
    {
     "name": "stdout",
     "output_type": "stream",
     "text": [
      "observations before3560\n",
      "dropped (variables): 379-- from: 3560 to 3181\n",
      "Exported File: C:/Users/conno/OneDrive/University Study/Honours Thesis/cnolan-thesis./output/energy_consumption_int_carbon_beta_firm_characteristics.csv\n"
     ]
    }
   ],
   "source": [
    "energy_consumption_int_carbon_beta = pd.read_csv ('https://raw.githubusercontent.com/connorpn/cnolan-thesis/main/output/carbon_beta_energy_consumption_int.csv')\n",
    "\n",
    "\n",
    "energy_consumption_int_carbon_beta_firm_characteristics = pd.merge(cross_sectional_returns[['ticker_year_month', 'ticker', 'year', 'month', 'energy_consumption_int', 'logsize', 'bm', 'leverage', 'mom', 'investa', 'roe', 'logppe', 'beta', 'volat', 'salesgr', 'epsgr']],\n",
    "                                                       energy_consumption_int_carbon_beta[['ticker','yearmonth', 'year', 'month', '_b_winsor_pmc']],\n",
    "                                                       how='left',\n",
    "                                                       on=['ticker','year','month'])\n",
    "\n",
    "obs_before = len(energy_consumption_int_carbon_beta_firm_characteristics)\n",
    "\n",
    "energy_consumption_int_carbon_beta_firm_characteristics = energy_consumption_int_carbon_beta_firm_characteristics.dropna(subset=['energy_consumption_int', 'logsize', 'bm', 'leverage', 'mom', 'investa', 'roe', 'logppe', 'beta', 'volat', 'salesgr', 'epsgr', '_b_winsor_pmc']).reset_index(drop=True)\n",
    "\n",
    "obs_after = len(energy_consumption_int_carbon_beta_firm_characteristics)\n",
    "obs_dropped = (obs_before - obs_after)\n",
    "print('observations before' + str(obs_before))\n",
    "print('dropped (variables): ' + str(obs_dropped) + '-- from: ' + str(obs_before) + ' to ' + str(obs_after))\n",
    "\n",
    "energy_consumption_int_carbon_beta_firm_characteristics = energy_consumption_int_carbon_beta_firm_characteristics.rename(columns={'_b_winsor_pmc': 'carbon_beta'})\n",
    "\n",
    "energy_consumption_int_carbon_beta_firm_characteristics['yearmonth'] = energy_consumption_int_carbon_beta_firm_characteristics['year'].astype(str) + energy_consumption_int_carbon_beta_firm_characteristics['month'].astype(str)\n",
    "\n",
    "\n",
    "\"Save energy_consumption_int_carbon_beta_firm_characteristics\"\n",
    "output_filename = 'energy_consumption_int_carbon_beta_firm_characteristics.csv'\n",
    "outputname = output_path + output_filename\n",
    "energy_consumption_int_carbon_beta_firm_characteristics.to_csv(outputname, mode='w', index=False)\n",
    "print(\"Exported File: \" + outputname)"
   ]
  },
  {
   "cell_type": "code",
   "execution_count": 15,
   "id": "89fc4367",
   "metadata": {},
   "outputs": [
    {
     "name": "stdout",
     "output_type": "stream",
     "text": [
      "Notebook Finish\n"
     ]
    }
   ],
   "source": [
    "print('Notebook Finish')"
   ]
  }
 ],
 "metadata": {
  "kernelspec": {
   "display_name": "Python 3 (Spyder)",
   "language": "python3",
   "name": "python3"
  },
  "language_info": {
   "codemirror_mode": {
    "name": "ipython",
    "version": 3
   },
   "file_extension": ".py",
   "mimetype": "text/x-python",
   "name": "python",
   "nbconvert_exporter": "python",
   "pygments_lexer": "ipython3",
   "version": "3.10.6"
  }
 },
 "nbformat": 4,
 "nbformat_minor": 5
}
