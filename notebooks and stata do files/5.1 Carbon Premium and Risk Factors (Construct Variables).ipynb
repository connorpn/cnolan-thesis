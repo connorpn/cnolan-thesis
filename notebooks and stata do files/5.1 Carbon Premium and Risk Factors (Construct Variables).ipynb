{
 "cells": [
  {
   "cell_type": "code",
   "execution_count": 1,
   "id": "017ae0f3",
   "metadata": {},
   "outputs": [
    {
     "name": "stdout",
     "output_type": "stream",
     "text": [
      "Imported Modules\n"
     ]
    }
   ],
   "source": [
    "import os\n",
    "import pandas as pd\n",
    "import numpy as np\n",
    "\n",
    "print(\"Imported Modules\")"
   ]
  },
  {
   "cell_type": "code",
   "execution_count": 2,
   "id": "768a3bc4",
   "metadata": {},
   "outputs": [
    {
     "name": "stdout",
     "output_type": "stream",
     "text": [
      "Current working directory: C:\\Users\\conno\\OneDrive\\University Study\\Honours Thesis\\cnolan-thesis\n",
      "Set WD: Done\n"
     ]
    }
   ],
   "source": [
    "\"SET THE WORKING DIRECTORY BELOW TO THE LOCATION OF DATA FILES\"\n",
    "\n",
    "working_directory = 'C:/Users/conno/OneDrive/University Study/Honours Thesis/cnolan-thesis' #set location using back slashes\n",
    "\n",
    "os.chdir(working_directory)\n",
    "\n",
    "print(\"Current working directory: {0}\".format(os.getcwd()))\n",
    "\n",
    "\n",
    "def createFolder(directory):\n",
    "    try:\n",
    "        if not os.path.exists(directory):\n",
    "            os.makedirs(directory)\n",
    "            output_path = os.makedirs(directory)\n",
    "            print(output_path)\n",
    "    except OSError:\n",
    "        print ('Error: Creating directory. ' +  directory)\n",
    "        \n",
    "\n",
    "# Folder where outputs will be saved (by default a folder within the working directory) \n",
    "createFolder('./output/') \n",
    "output_path = working_directory +'./output/'\n",
    "\n",
    "print('Set WD: Done')"
   ]
  },
  {
   "cell_type": "code",
   "execution_count": 3,
   "id": "9a3e51fa",
   "metadata": {},
   "outputs": [
    {
     "data": {
      "text/plain": [
       "'\\nCarbon premium and risk factors\\n\\nReplication of Table 10: Can the carbon premium be explained by risk factors?\\n\\na 1 ,t = c 0 + c F t + ε t ,\\n\\nTime series variables:\\n\\nα = monthly carbon premium estimated in cross-sectional returns regression\\n\\nMKTRF is the monthly return on the value-weighted stock market net of the risk-free rate\\nHML is the monthly return on the portfolio long value stocks and short growth stocks\\nSMB is the monthly return on the portfolio long small-cap stocks and short, large-cap stocks\\nMOM is the monthly return on the portfolio long 12-month stock winners and short 12-month past losers\\nCMA is the monthly return of a portfolio that is long on conservative investment stocks and short on aggressive investment stocks\\nBAB is the monthly return of a portfolio that is long on low-beta stocks and short on high-beta stocks\\nLIQ is the liquidity factor of Pastor and Stambaugh\\nNET ISSUANCE is the monthly return of a portfolio that is long on high-net-issuance stocks and short on low-net-issuance stocks. Net issuance for year t is the change in the natural log of split-adjusted shares outstanding from the fiscal yearend in t -2 to the fiscal yearend in t -1\\nIDIO VOL is the monthly return of a portfolio that is long on low idiosyncratic volatility stocks and short on high idiosyncratic volatility stocks.\\n\\n   \\n'"
      ]
     },
     "execution_count": 3,
     "metadata": {},
     "output_type": "execute_result"
    }
   ],
   "source": [
    "'''\n",
    "Carbon premium and risk factors\n",
    "\n",
    "Replication of Table 10: Can the carbon premium be explained by risk factors?\n",
    "\n",
    "a 1 ,t = c 0 + c F t + ε t ,\n",
    "\n",
    "Time series variables:\n",
    "\n",
    "α = monthly carbon premium estimated in cross-sectional returns regression\n",
    "\n",
    "MKTRF is the monthly return on the value-weighted stock market net of the risk-free rate\n",
    "HML is the monthly return on the portfolio long value stocks and short growth stocks\n",
    "SMB is the monthly return on the portfolio long small-cap stocks and short, large-cap stocks\n",
    "MOM is the monthly return on the portfolio long 12-month stock winners and short 12-month past losers\n",
    "CMA is the monthly return of a portfolio that is long on conservative investment stocks and short on aggressive investment stocks\n",
    "BAB is the monthly return of a portfolio that is long on low-beta stocks and short on high-beta stocks\n",
    "LIQ is the liquidity factor of Pastor and Stambaugh\n",
    "NET ISSUANCE is the monthly return of a portfolio that is long on high-net-issuance stocks and short on low-net-issuance stocks. Net issuance for year t is the change in the natural log of split-adjusted shares outstanding from the fiscal yearend in t -2 to the fiscal yearend in t -1\n",
    "IDIO VOL is the monthly return of a portfolio that is long on low idiosyncratic volatility stocks and short on high idiosyncratic volatility stocks.\n",
    "\n",
    "   \n",
    "'''"
   ]
  },
  {
   "cell_type": "code",
   "execution_count": 4,
   "id": "952a6a03",
   "metadata": {},
   "outputs": [],
   "source": [
    "\"import data\"\n",
    "csr_carbon_premium = pd.read_csv ('https://raw.githubusercontent.com/connorpn/cnolan-thesis/main/output/csr_carbon_premium.csv')\n",
    "fama_french_5_factors = pd.read_csv ('https://raw.githubusercontent.com/connorpn/cnolan-thesis/main/data/Asia_Pacific_ex_Japan_5_Factors.csv')\n",
    "fama_french_mom_factor = pd.read_csv ('https://raw.githubusercontent.com/connorpn/cnolan-thesis/main/data/Asia_Pacific_ex_Japan_MOM_Factor.csv')\n",
    "bab = pd.read_csv ('https://raw.githubusercontent.com/connorpn/cnolan-thesis/main/data/bab.csv')\n",
    "\n",
    "\n",
    "\"carbon premium\"\n",
    "csr_carbon_premium = csr_carbon_premium[['year','month','yearmonth','_b_log_scope1', '_b_log_scope2', '_b_log_total_emissions', '_b_log_energy_consumption', '_b_change_scope1', '_b_change_scope2', '_b_change_total_emissions', '_b_change_energy_consumption', '_b_scope1_int', '_b_scope2_int', '_b_total_emissions_int', '_b_energy_consumption_int']]\n",
    "csr_carbon_premium = csr_carbon_premium.drop_duplicates(subset=['yearmonth'])"
   ]
  },
  {
   "cell_type": "code",
   "execution_count": 5,
   "id": "f216ea5d",
   "metadata": {},
   "outputs": [
    {
     "name": "stdout",
     "output_type": "stream",
     "text": [
      "dropna(variables): 6\n",
      "Exported File: C:/Users/conno/OneDrive/University Study/Honours Thesis/cnolan-thesis./output/carbon_premium_risk_factors_vars.csv\n"
     ]
    }
   ],
   "source": [
    "\"Filter fama-french factors by the sample period\"\n",
    "fama_french_5_factors = fama_french_5_factors[(fama_french_5_factors['year-month'] >= 200807) & (fama_french_5_factors['year-month'] <= 202106)]\n",
    "fama_french_mom_factor = fama_french_mom_factor[(fama_french_mom_factor['year-month'] >= 200807) & (fama_french_mom_factor['year-month'] <= 202106)]\n",
    "\n",
    "carbon_premium_risk_factors_vars = pd.merge(csr_carbon_premium, fama_french_5_factors[['year-month','year', 'month', 'MKT-RF', 'HML','SMB','CMA']], how='left', on=['year','month'])\n",
    "carbon_premium_risk_factors_vars = pd.merge(carbon_premium_risk_factors_vars, fama_french_mom_factor[['year', 'month', 'WML']], how='left', on=['year','month'])\n",
    "carbon_premium_risk_factors_vars = carbon_premium_risk_factors_vars.rename(columns={'MKT-RF': 'MKTRF', 'WML': 'MOM'})\n",
    "carbon_premium_risk_factors_vars = pd.merge(carbon_premium_risk_factors_vars, bab[['yearmonth','BAB']], how='left', on=['yearmonth'])\n",
    "#carbon_premium_risk_factors_vars = pd.merge(carbon_premium_risk_factors_vars, cross_sectional_returns[['ticker_year_month','ticker','year','month','ret']], how='right', on=['year','month'])\n",
    "\n",
    "obs_before = len(carbon_premium_risk_factors_vars)\n",
    "\n",
    "carbon_premium_risk_factors_vars = carbon_premium_risk_factors_vars.dropna(subset=['MKTRF', 'HML', 'SMB', 'MOM','CMA', 'BAB']).reset_index(drop=True)\n",
    "\n",
    "obs_after = len(carbon_premium_risk_factors_vars)\n",
    "obs_dropped = (obs_before - obs_after)\n",
    "print('dropna(variables): ' + str(obs_dropped))\n",
    "\n",
    "#carbon_premium_risk_factors_vars = carbon_premium_risk_factors_vars[['ticker_year_month','ticker', 'year-month', 'year','month', 'ret', 'MKT-RF', 'SMB', 'HML', 'WML', 'pmc']]\n",
    "\n",
    "\n",
    "\"Save carbon_beta_log_scope1_vars\"\n",
    "output_filename = 'carbon_premium_risk_factors_vars.csv'\n",
    "outputname = output_path + output_filename\n",
    "carbon_premium_risk_factors_vars.to_csv(outputname, mode='w', index=False)\n",
    "print(\"Exported File: \" + outputname)"
   ]
  },
  {
   "cell_type": "code",
   "execution_count": 6,
   "id": "c057cd0d",
   "metadata": {},
   "outputs": [
    {
     "name": "stdout",
     "output_type": "stream",
     "text": [
      "Notebook Finish\n"
     ]
    }
   ],
   "source": [
    "print('Notebook Finish')"
   ]
  }
 ],
 "metadata": {
  "kernelspec": {
   "display_name": "Python 3 (Spyder)",
   "language": "python3",
   "name": "python3"
  },
  "language_info": {
   "codemirror_mode": {
    "name": "ipython",
    "version": 3
   },
   "file_extension": ".py",
   "mimetype": "text/x-python",
   "name": "python",
   "nbconvert_exporter": "python",
   "pygments_lexer": "ipython3",
   "version": "3.10.6"
  }
 },
 "nbformat": 4,
 "nbformat_minor": 5
}
